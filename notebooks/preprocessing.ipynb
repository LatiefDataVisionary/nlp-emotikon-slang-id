{
  "nbformat": 4,
  "nbformat_minor": 0,
  "metadata": {
    "colab": {
      "provenance": [],
      "authorship_tag": "ABX9TyNQfhQUMIWDFgB/IqbRX3lw",
      "include_colab_link": true
    },
    "kernelspec": {
      "name": "python3",
      "display_name": "Python 3"
    },
    "language_info": {
      "name": "python"
    }
  },
  "cells": [
    {
      "cell_type": "markdown",
      "metadata": {
        "id": "view-in-github",
        "colab_type": "text"
      },
      "source": [
        "<a href=\"https://colab.research.google.com/github/LatiefDataVisionary/nlp-emotikon-slang-id/blob/main/notebooks/preprocessing.ipynb\" target=\"_parent\"><img src=\"https://colab.research.google.com/assets/colab-badge.svg\" alt=\"Open In Colab\"/></a>"
      ]
    },
    {
      "cell_type": "markdown",
      "source": [
        "## **Import Libraries, Install Sastrawi andd Install Emoji**"
      ],
      "metadata": {
        "id": "jfTwkRur0LKo"
      }
    },
    {
      "cell_type": "code",
      "source": [
        "!pip install Sastrawi"
      ],
      "metadata": {
        "colab": {
          "base_uri": "https://localhost:8080/"
        },
        "id": "KkgWUuvjsdKG",
        "outputId": "f6ec4bad-9e7c-4a65-ebf9-cf0eb2df1037"
      },
      "execution_count": 4,
      "outputs": [
        {
          "output_type": "stream",
          "name": "stdout",
          "text": [
            "Collecting Sastrawi\n",
            "  Downloading Sastrawi-1.0.1-py2.py3-none-any.whl.metadata (909 bytes)\n",
            "Downloading Sastrawi-1.0.1-py2.py3-none-any.whl (209 kB)\n",
            "\u001b[2K   \u001b[90m━━━━━━━━━━━━━━━━━━━━━━━━━━━━━━━━━━━━━━━━\u001b[0m \u001b[32m209.7/209.7 kB\u001b[0m \u001b[31m3.8 MB/s\u001b[0m eta \u001b[36m0:00:00\u001b[0m\n",
            "\u001b[?25hInstalling collected packages: Sastrawi\n",
            "Successfully installed Sastrawi-1.0.1\n"
          ]
        }
      ]
    },
    {
      "cell_type": "code",
      "source": [
        "!pip install emoji"
      ],
      "metadata": {
        "colab": {
          "base_uri": "https://localhost:8080/"
        },
        "id": "XpaahRt4pr6s",
        "outputId": "2b79e6f4-17c4-499c-e255-2004679bf9d3"
      },
      "execution_count": 26,
      "outputs": [
        {
          "output_type": "stream",
          "name": "stdout",
          "text": [
            "Collecting emoji\n",
            "  Downloading emoji-2.14.1-py3-none-any.whl.metadata (5.7 kB)\n",
            "Downloading emoji-2.14.1-py3-none-any.whl (590 kB)\n",
            "\u001b[2K   \u001b[90m━━━━━━━━━━━━━━━━━━━━━━━━━━━━━━━━━━━━━━━━\u001b[0m \u001b[32m590.6/590.6 kB\u001b[0m \u001b[31m7.6 MB/s\u001b[0m eta \u001b[36m0:00:00\u001b[0m\n",
            "\u001b[?25hInstalling collected packages: emoji\n",
            "Successfully installed emoji-2.14.1\n"
          ]
        }
      ]
    },
    {
      "cell_type": "code",
      "execution_count": 27,
      "metadata": {
        "id": "oCU5gsaZoDIm"
      },
      "outputs": [],
      "source": [
        "import pandas as pd\n",
        "import re\n",
        "import nltk\n",
        "from nltk.corpus import stopwords\n",
        "from Sastrawi.Stemmer.StemmerFactory import StemmerFactory\n",
        "import emoji"
      ]
    },
    {
      "cell_type": "markdown",
      "source": [
        "## **Download NLTK resources**"
      ],
      "metadata": {
        "id": "6P-BdYbnotHw"
      }
    },
    {
      "cell_type": "code",
      "source": [
        "nltk.download('punkt') # Tokenizer models\n",
        "nltk.download('stopwords') # Stopwords for Indonesian and English\n",
        "nltk.download('punkt_tab')"
      ],
      "metadata": {
        "colab": {
          "base_uri": "https://localhost:8080/"
        },
        "id": "F-cWA9rBosTG",
        "outputId": "78251954-2478-44f7-f7fc-a0b60fc7921c"
      },
      "execution_count": 6,
      "outputs": [
        {
          "output_type": "stream",
          "name": "stderr",
          "text": [
            "[nltk_data] Downloading package punkt to /root/nltk_data...\n",
            "[nltk_data]   Unzipping tokenizers/punkt.zip.\n",
            "[nltk_data] Downloading package stopwords to /root/nltk_data...\n",
            "[nltk_data]   Unzipping corpora/stopwords.zip.\n",
            "[nltk_data] Downloading package punkt_tab to /root/nltk_data...\n",
            "[nltk_data]   Unzipping tokenizers/punkt_tab.zip.\n"
          ]
        },
        {
          "output_type": "execute_result",
          "data": {
            "text/plain": [
              "True"
            ]
          },
          "metadata": {},
          "execution_count": 6
        }
      ]
    },
    {
      "cell_type": "markdown",
      "source": [
        "## **Load the dataset**"
      ],
      "metadata": {
        "id": "OxqV9ikhpBIn"
      }
    },
    {
      "cell_type": "code",
      "source": [
        "url = 'https://raw.githubusercontent.com/LatiefDataVisionary/nlp-emotikon-slang-id/refs/heads/main/data/raw_merged/merged_bucin_tweet.csv'\n",
        "df = pd.read_csv(url)\n",
        "df"
      ],
      "metadata": {
        "colab": {
          "base_uri": "https://localhost:8080/",
          "height": 808
        },
        "id": "s8R2Po02o_As",
        "outputId": "18b1117f-469d-4e6c-83ed-e45f5b100ad4"
      },
      "execution_count": 7,
      "outputs": [
        {
          "output_type": "execute_result",
          "data": {
            "text/plain": [
              "     conversation_id_str                      created_at  favorite_count  \\\n",
              "0    1921236320413687871  Sat May 10 16:10:08 +0000 2025            9190   \n",
              "1    1920994897315733648  Sat May 10 00:10:48 +0000 2025           19038   \n",
              "2    1921516689079820765  Sun May 11 10:44:13 +0000 2025               4   \n",
              "3    1921414816133996832  Sun May 11 03:59:24 +0000 2025            2128   \n",
              "4    1921515322135232681  Sun May 11 10:38:47 +0000 2025             438   \n",
              "..                   ...                             ...             ...   \n",
              "610  1921519612543279514  Sun May 11 10:55:50 +0000 2025              12   \n",
              "611  1920141611280847139  Wed May 07 15:40:09 +0000 2025            1410   \n",
              "612  1921137993051525158  Sat May 10 09:39:25 +0000 2025             274   \n",
              "613  1921453647201710170  Sun May 11 06:33:43 +0000 2025             428   \n",
              "614  1921061473603801173  Sat May 10 04:35:21 +0000 2025             188   \n",
              "\n",
              "                                             full_text               id_str  \\\n",
              "0     kdm ️ resident playbook ️ pict atas minta peg...  1921236320413687871   \n",
              "1    Jualan tapi julidin customer tu maksudnya gima...  1920994897315733648   \n",
              "2    Ini pas awal vidio Yeye kaya nyandar di bahu K...  1921516689079820765   \n",
              "3     kdm resident playbook Ini tuh dowon yiyoung p...  1921414816133996832   \n",
              "4    Bu lena liat kelakuan bucin adiknya AQEELA TER...  1921515322135232681   \n",
              "..                                                 ...                  ...   \n",
              "610  gue bisa kok bales argumentasi kalian pake kat...  1921519612543279514   \n",
              "611   SKSKSKSKSKSKSKSK ternyata gini ya rasanya buc...  1920141611280847139   \n",
              "612  Mav kalau sensitip tapi kalian anak UT! yang k...  1921137993051525158   \n",
              "613  mae ning sama gem sama aja ya kalo udah ditany...  1921453647201710170   \n",
              "614  ______ ______ ______ ______ ______ ______ ← yo...  1921061473603801173   \n",
              "\n",
              "                                             image_url  \\\n",
              "0      https://pbs.twimg.com/media/GqmaQGPWcAAMaS9.jpg   \n",
              "1      https://pbs.twimg.com/media/Gqi-q2RXgAAIW_5.jpg   \n",
              "2      https://pbs.twimg.com/media/GqqZOtGaUAAgDdP.jpg   \n",
              "3      https://pbs.twimg.com/media/Gqo8l6vW0AAbCWI.jpg   \n",
              "4    https://pbs.twimg.com/ext_tw_video_thumb/19215...   \n",
              "..                                                 ...   \n",
              "610                                                NaN   \n",
              "611                                                NaN   \n",
              "612                                                NaN   \n",
              "613                                                NaN   \n",
              "614    https://pbs.twimg.com/media/Gqj7OpYbcAEREGj.jpg   \n",
              "\n",
              "    in_reply_to_screen_name lang                location  quote_count  \\\n",
              "0                       NaN   in                 Rules 👇          452   \n",
              "1                       NaN   in               Indonesia          684   \n",
              "2                       NaN   in           dusun majasri            0   \n",
              "3                       NaN   in                 Rules 👇           55   \n",
              "4                       NaN   in                     NaN            5   \n",
              "..                      ...  ...                     ...          ...   \n",
              "610                     NaN   in  bikini bottom 🫧🪸🫙🐬🧜‍♀️            0   \n",
              "611                     NaN   in               Indonesia           27   \n",
              "612                     NaN   in                     NaN           54   \n",
              "613                     NaN   in        𝕜𝕙𝕦𝕟𝕟𝕠𝕠 ☆ 𝕝𝕪𝕜𝕪𝕠𝕦            0   \n",
              "614                     NaN   in         she | ina & eng            2   \n",
              "\n",
              "     reply_count  retweet_count  \\\n",
              "0            324           1044   \n",
              "1            593           1319   \n",
              "2              0              1   \n",
              "3             77            198   \n",
              "4              1             69   \n",
              "..           ...            ...   \n",
              "610            0              0   \n",
              "611          108             33   \n",
              "612          145             13   \n",
              "613            0             80   \n",
              "614            0             31   \n",
              "\n",
              "                                             tweet_url          user_id_str  \\\n",
              "0    https://x.com/kdrama_menfess/status/1921236320...  1012588105591713793   \n",
              "1    https://x.com/Maeliani07/status/19209948973157...  1659026628071288835   \n",
              "2    https://x.com/BeUrCLOUDS/status/19215166890798...           2995021591   \n",
              "3    https://x.com/kdrama_menfess/status/1921414816...  1012588105591713793   \n",
              "4    https://x.com/staraquars/status/19215153221352...  1692804014994599937   \n",
              "..                                                 ...                  ...   \n",
              "610  https://x.com/redhorse44/status/19215196125432...  1642331059634442241   \n",
              "611  https://x.com/tanyarlfes/status/19201416112808...           1371650588   \n",
              "612    https://x.com/utfess/status/1921137993051525158  1451424492719251460   \n",
              "613    https://x.com/dycuri/status/1921453647201710170  1794083416058609664   \n",
              "614  https://x.com/bakejunhyuk/status/1921061473603...  1605165350236348416   \n",
              "\n",
              "           username  \n",
              "0    kdrama_menfess  \n",
              "1        Maeliani07  \n",
              "2        BeUrCLOUDS  \n",
              "3    kdrama_menfess  \n",
              "4        staraquars  \n",
              "..              ...  \n",
              "610      redhorse44  \n",
              "611      tanyarlfes  \n",
              "612          utfess  \n",
              "613          dycuri  \n",
              "614     bakejunhyuk  \n",
              "\n",
              "[615 rows x 15 columns]"
            ],
            "text/html": [
              "\n",
              "  <div id=\"df-87ef1485-e1f2-498b-9ada-b44048bd1797\" class=\"colab-df-container\">\n",
              "    <div>\n",
              "<style scoped>\n",
              "    .dataframe tbody tr th:only-of-type {\n",
              "        vertical-align: middle;\n",
              "    }\n",
              "\n",
              "    .dataframe tbody tr th {\n",
              "        vertical-align: top;\n",
              "    }\n",
              "\n",
              "    .dataframe thead th {\n",
              "        text-align: right;\n",
              "    }\n",
              "</style>\n",
              "<table border=\"1\" class=\"dataframe\">\n",
              "  <thead>\n",
              "    <tr style=\"text-align: right;\">\n",
              "      <th></th>\n",
              "      <th>conversation_id_str</th>\n",
              "      <th>created_at</th>\n",
              "      <th>favorite_count</th>\n",
              "      <th>full_text</th>\n",
              "      <th>id_str</th>\n",
              "      <th>image_url</th>\n",
              "      <th>in_reply_to_screen_name</th>\n",
              "      <th>lang</th>\n",
              "      <th>location</th>\n",
              "      <th>quote_count</th>\n",
              "      <th>reply_count</th>\n",
              "      <th>retweet_count</th>\n",
              "      <th>tweet_url</th>\n",
              "      <th>user_id_str</th>\n",
              "      <th>username</th>\n",
              "    </tr>\n",
              "  </thead>\n",
              "  <tbody>\n",
              "    <tr>\n",
              "      <th>0</th>\n",
              "      <td>1921236320413687871</td>\n",
              "      <td>Sat May 10 16:10:08 +0000 2025</td>\n",
              "      <td>9190</td>\n",
              "      <td>kdm ️ resident playbook ️ pict atas minta peg...</td>\n",
              "      <td>1921236320413687871</td>\n",
              "      <td>https://pbs.twimg.com/media/GqmaQGPWcAAMaS9.jpg</td>\n",
              "      <td>NaN</td>\n",
              "      <td>in</td>\n",
              "      <td>Rules 👇</td>\n",
              "      <td>452</td>\n",
              "      <td>324</td>\n",
              "      <td>1044</td>\n",
              "      <td>https://x.com/kdrama_menfess/status/1921236320...</td>\n",
              "      <td>1012588105591713793</td>\n",
              "      <td>kdrama_menfess</td>\n",
              "    </tr>\n",
              "    <tr>\n",
              "      <th>1</th>\n",
              "      <td>1920994897315733648</td>\n",
              "      <td>Sat May 10 00:10:48 +0000 2025</td>\n",
              "      <td>19038</td>\n",
              "      <td>Jualan tapi julidin customer tu maksudnya gima...</td>\n",
              "      <td>1920994897315733648</td>\n",
              "      <td>https://pbs.twimg.com/media/Gqi-q2RXgAAIW_5.jpg</td>\n",
              "      <td>NaN</td>\n",
              "      <td>in</td>\n",
              "      <td>Indonesia</td>\n",
              "      <td>684</td>\n",
              "      <td>593</td>\n",
              "      <td>1319</td>\n",
              "      <td>https://x.com/Maeliani07/status/19209948973157...</td>\n",
              "      <td>1659026628071288835</td>\n",
              "      <td>Maeliani07</td>\n",
              "    </tr>\n",
              "    <tr>\n",
              "      <th>2</th>\n",
              "      <td>1921516689079820765</td>\n",
              "      <td>Sun May 11 10:44:13 +0000 2025</td>\n",
              "      <td>4</td>\n",
              "      <td>Ini pas awal vidio Yeye kaya nyandar di bahu K...</td>\n",
              "      <td>1921516689079820765</td>\n",
              "      <td>https://pbs.twimg.com/media/GqqZOtGaUAAgDdP.jpg</td>\n",
              "      <td>NaN</td>\n",
              "      <td>in</td>\n",
              "      <td>dusun majasri</td>\n",
              "      <td>0</td>\n",
              "      <td>0</td>\n",
              "      <td>1</td>\n",
              "      <td>https://x.com/BeUrCLOUDS/status/19215166890798...</td>\n",
              "      <td>2995021591</td>\n",
              "      <td>BeUrCLOUDS</td>\n",
              "    </tr>\n",
              "    <tr>\n",
              "      <th>3</th>\n",
              "      <td>1921414816133996832</td>\n",
              "      <td>Sun May 11 03:59:24 +0000 2025</td>\n",
              "      <td>2128</td>\n",
              "      <td>kdm resident playbook Ini tuh dowon yiyoung p...</td>\n",
              "      <td>1921414816133996832</td>\n",
              "      <td>https://pbs.twimg.com/media/Gqo8l6vW0AAbCWI.jpg</td>\n",
              "      <td>NaN</td>\n",
              "      <td>in</td>\n",
              "      <td>Rules 👇</td>\n",
              "      <td>55</td>\n",
              "      <td>77</td>\n",
              "      <td>198</td>\n",
              "      <td>https://x.com/kdrama_menfess/status/1921414816...</td>\n",
              "      <td>1012588105591713793</td>\n",
              "      <td>kdrama_menfess</td>\n",
              "    </tr>\n",
              "    <tr>\n",
              "      <th>4</th>\n",
              "      <td>1921515322135232681</td>\n",
              "      <td>Sun May 11 10:38:47 +0000 2025</td>\n",
              "      <td>438</td>\n",
              "      <td>Bu lena liat kelakuan bucin adiknya AQEELA TER...</td>\n",
              "      <td>1921515322135232681</td>\n",
              "      <td>https://pbs.twimg.com/ext_tw_video_thumb/19215...</td>\n",
              "      <td>NaN</td>\n",
              "      <td>in</td>\n",
              "      <td>NaN</td>\n",
              "      <td>5</td>\n",
              "      <td>1</td>\n",
              "      <td>69</td>\n",
              "      <td>https://x.com/staraquars/status/19215153221352...</td>\n",
              "      <td>1692804014994599937</td>\n",
              "      <td>staraquars</td>\n",
              "    </tr>\n",
              "    <tr>\n",
              "      <th>...</th>\n",
              "      <td>...</td>\n",
              "      <td>...</td>\n",
              "      <td>...</td>\n",
              "      <td>...</td>\n",
              "      <td>...</td>\n",
              "      <td>...</td>\n",
              "      <td>...</td>\n",
              "      <td>...</td>\n",
              "      <td>...</td>\n",
              "      <td>...</td>\n",
              "      <td>...</td>\n",
              "      <td>...</td>\n",
              "      <td>...</td>\n",
              "      <td>...</td>\n",
              "      <td>...</td>\n",
              "    </tr>\n",
              "    <tr>\n",
              "      <th>610</th>\n",
              "      <td>1921519612543279514</td>\n",
              "      <td>Sun May 11 10:55:50 +0000 2025</td>\n",
              "      <td>12</td>\n",
              "      <td>gue bisa kok bales argumentasi kalian pake kat...</td>\n",
              "      <td>1921519612543279514</td>\n",
              "      <td>NaN</td>\n",
              "      <td>NaN</td>\n",
              "      <td>in</td>\n",
              "      <td>bikini bottom 🫧🪸🫙🐬🧜‍♀️</td>\n",
              "      <td>0</td>\n",
              "      <td>0</td>\n",
              "      <td>0</td>\n",
              "      <td>https://x.com/redhorse44/status/19215196125432...</td>\n",
              "      <td>1642331059634442241</td>\n",
              "      <td>redhorse44</td>\n",
              "    </tr>\n",
              "    <tr>\n",
              "      <th>611</th>\n",
              "      <td>1920141611280847139</td>\n",
              "      <td>Wed May 07 15:40:09 +0000 2025</td>\n",
              "      <td>1410</td>\n",
              "      <td>SKSKSKSKSKSKSKSK ternyata gini ya rasanya buc...</td>\n",
              "      <td>1920141611280847139</td>\n",
              "      <td>NaN</td>\n",
              "      <td>NaN</td>\n",
              "      <td>in</td>\n",
              "      <td>Indonesia</td>\n",
              "      <td>27</td>\n",
              "      <td>108</td>\n",
              "      <td>33</td>\n",
              "      <td>https://x.com/tanyarlfes/status/19201416112808...</td>\n",
              "      <td>1371650588</td>\n",
              "      <td>tanyarlfes</td>\n",
              "    </tr>\n",
              "    <tr>\n",
              "      <th>612</th>\n",
              "      <td>1921137993051525158</td>\n",
              "      <td>Sat May 10 09:39:25 +0000 2025</td>\n",
              "      <td>274</td>\n",
              "      <td>Mav kalau sensitip tapi kalian anak UT! yang k...</td>\n",
              "      <td>1921137993051525158</td>\n",
              "      <td>NaN</td>\n",
              "      <td>NaN</td>\n",
              "      <td>in</td>\n",
              "      <td>NaN</td>\n",
              "      <td>54</td>\n",
              "      <td>145</td>\n",
              "      <td>13</td>\n",
              "      <td>https://x.com/utfess/status/1921137993051525158</td>\n",
              "      <td>1451424492719251460</td>\n",
              "      <td>utfess</td>\n",
              "    </tr>\n",
              "    <tr>\n",
              "      <th>613</th>\n",
              "      <td>1921453647201710170</td>\n",
              "      <td>Sun May 11 06:33:43 +0000 2025</td>\n",
              "      <td>428</td>\n",
              "      <td>mae ning sama gem sama aja ya kalo udah ditany...</td>\n",
              "      <td>1921453647201710170</td>\n",
              "      <td>NaN</td>\n",
              "      <td>NaN</td>\n",
              "      <td>in</td>\n",
              "      <td>𝕜𝕙𝕦𝕟𝕟𝕠𝕠 ☆ 𝕝𝕪𝕜𝕪𝕠𝕦</td>\n",
              "      <td>0</td>\n",
              "      <td>0</td>\n",
              "      <td>80</td>\n",
              "      <td>https://x.com/dycuri/status/1921453647201710170</td>\n",
              "      <td>1794083416058609664</td>\n",
              "      <td>dycuri</td>\n",
              "    </tr>\n",
              "    <tr>\n",
              "      <th>614</th>\n",
              "      <td>1921061473603801173</td>\n",
              "      <td>Sat May 10 04:35:21 +0000 2025</td>\n",
              "      <td>188</td>\n",
              "      <td>______ ______ ______ ______ ______ ______ ← yo...</td>\n",
              "      <td>1921061473603801173</td>\n",
              "      <td>https://pbs.twimg.com/media/Gqj7OpYbcAEREGj.jpg</td>\n",
              "      <td>NaN</td>\n",
              "      <td>in</td>\n",
              "      <td>she | ina &amp; eng</td>\n",
              "      <td>2</td>\n",
              "      <td>0</td>\n",
              "      <td>31</td>\n",
              "      <td>https://x.com/bakejunhyuk/status/1921061473603...</td>\n",
              "      <td>1605165350236348416</td>\n",
              "      <td>bakejunhyuk</td>\n",
              "    </tr>\n",
              "  </tbody>\n",
              "</table>\n",
              "<p>615 rows × 15 columns</p>\n",
              "</div>\n",
              "    <div class=\"colab-df-buttons\">\n",
              "\n",
              "  <div class=\"colab-df-container\">\n",
              "    <button class=\"colab-df-convert\" onclick=\"convertToInteractive('df-87ef1485-e1f2-498b-9ada-b44048bd1797')\"\n",
              "            title=\"Convert this dataframe to an interactive table.\"\n",
              "            style=\"display:none;\">\n",
              "\n",
              "  <svg xmlns=\"http://www.w3.org/2000/svg\" height=\"24px\" viewBox=\"0 -960 960 960\">\n",
              "    <path d=\"M120-120v-720h720v720H120Zm60-500h600v-160H180v160Zm220 220h160v-160H400v160Zm0 220h160v-160H400v160ZM180-400h160v-160H180v160Zm440 0h160v-160H620v160ZM180-180h160v-160H180v160Zm440 0h160v-160H620v160Z\"/>\n",
              "  </svg>\n",
              "    </button>\n",
              "\n",
              "  <style>\n",
              "    .colab-df-container {\n",
              "      display:flex;\n",
              "      gap: 12px;\n",
              "    }\n",
              "\n",
              "    .colab-df-convert {\n",
              "      background-color: #E8F0FE;\n",
              "      border: none;\n",
              "      border-radius: 50%;\n",
              "      cursor: pointer;\n",
              "      display: none;\n",
              "      fill: #1967D2;\n",
              "      height: 32px;\n",
              "      padding: 0 0 0 0;\n",
              "      width: 32px;\n",
              "    }\n",
              "\n",
              "    .colab-df-convert:hover {\n",
              "      background-color: #E2EBFA;\n",
              "      box-shadow: 0px 1px 2px rgba(60, 64, 67, 0.3), 0px 1px 3px 1px rgba(60, 64, 67, 0.15);\n",
              "      fill: #174EA6;\n",
              "    }\n",
              "\n",
              "    .colab-df-buttons div {\n",
              "      margin-bottom: 4px;\n",
              "    }\n",
              "\n",
              "    [theme=dark] .colab-df-convert {\n",
              "      background-color: #3B4455;\n",
              "      fill: #D2E3FC;\n",
              "    }\n",
              "\n",
              "    [theme=dark] .colab-df-convert:hover {\n",
              "      background-color: #434B5C;\n",
              "      box-shadow: 0px 1px 3px 1px rgba(0, 0, 0, 0.15);\n",
              "      filter: drop-shadow(0px 1px 2px rgba(0, 0, 0, 0.3));\n",
              "      fill: #FFFFFF;\n",
              "    }\n",
              "  </style>\n",
              "\n",
              "    <script>\n",
              "      const buttonEl =\n",
              "        document.querySelector('#df-87ef1485-e1f2-498b-9ada-b44048bd1797 button.colab-df-convert');\n",
              "      buttonEl.style.display =\n",
              "        google.colab.kernel.accessAllowed ? 'block' : 'none';\n",
              "\n",
              "      async function convertToInteractive(key) {\n",
              "        const element = document.querySelector('#df-87ef1485-e1f2-498b-9ada-b44048bd1797');\n",
              "        const dataTable =\n",
              "          await google.colab.kernel.invokeFunction('convertToInteractive',\n",
              "                                                    [key], {});\n",
              "        if (!dataTable) return;\n",
              "\n",
              "        const docLinkHtml = 'Like what you see? Visit the ' +\n",
              "          '<a target=\"_blank\" href=https://colab.research.google.com/notebooks/data_table.ipynb>data table notebook</a>'\n",
              "          + ' to learn more about interactive tables.';\n",
              "        element.innerHTML = '';\n",
              "        dataTable['output_type'] = 'display_data';\n",
              "        await google.colab.output.renderOutput(dataTable, element);\n",
              "        const docLink = document.createElement('div');\n",
              "        docLink.innerHTML = docLinkHtml;\n",
              "        element.appendChild(docLink);\n",
              "      }\n",
              "    </script>\n",
              "  </div>\n",
              "\n",
              "\n",
              "    <div id=\"df-cbb661ff-8161-4466-b4e1-ad244451fb4a\">\n",
              "      <button class=\"colab-df-quickchart\" onclick=\"quickchart('df-cbb661ff-8161-4466-b4e1-ad244451fb4a')\"\n",
              "                title=\"Suggest charts\"\n",
              "                style=\"display:none;\">\n",
              "\n",
              "<svg xmlns=\"http://www.w3.org/2000/svg\" height=\"24px\"viewBox=\"0 0 24 24\"\n",
              "     width=\"24px\">\n",
              "    <g>\n",
              "        <path d=\"M19 3H5c-1.1 0-2 .9-2 2v14c0 1.1.9 2 2 2h14c1.1 0 2-.9 2-2V5c0-1.1-.9-2-2-2zM9 17H7v-7h2v7zm4 0h-2V7h2v10zm4 0h-2v-4h2v4z\"/>\n",
              "    </g>\n",
              "</svg>\n",
              "      </button>\n",
              "\n",
              "<style>\n",
              "  .colab-df-quickchart {\n",
              "      --bg-color: #E8F0FE;\n",
              "      --fill-color: #1967D2;\n",
              "      --hover-bg-color: #E2EBFA;\n",
              "      --hover-fill-color: #174EA6;\n",
              "      --disabled-fill-color: #AAA;\n",
              "      --disabled-bg-color: #DDD;\n",
              "  }\n",
              "\n",
              "  [theme=dark] .colab-df-quickchart {\n",
              "      --bg-color: #3B4455;\n",
              "      --fill-color: #D2E3FC;\n",
              "      --hover-bg-color: #434B5C;\n",
              "      --hover-fill-color: #FFFFFF;\n",
              "      --disabled-bg-color: #3B4455;\n",
              "      --disabled-fill-color: #666;\n",
              "  }\n",
              "\n",
              "  .colab-df-quickchart {\n",
              "    background-color: var(--bg-color);\n",
              "    border: none;\n",
              "    border-radius: 50%;\n",
              "    cursor: pointer;\n",
              "    display: none;\n",
              "    fill: var(--fill-color);\n",
              "    height: 32px;\n",
              "    padding: 0;\n",
              "    width: 32px;\n",
              "  }\n",
              "\n",
              "  .colab-df-quickchart:hover {\n",
              "    background-color: var(--hover-bg-color);\n",
              "    box-shadow: 0 1px 2px rgba(60, 64, 67, 0.3), 0 1px 3px 1px rgba(60, 64, 67, 0.15);\n",
              "    fill: var(--button-hover-fill-color);\n",
              "  }\n",
              "\n",
              "  .colab-df-quickchart-complete:disabled,\n",
              "  .colab-df-quickchart-complete:disabled:hover {\n",
              "    background-color: var(--disabled-bg-color);\n",
              "    fill: var(--disabled-fill-color);\n",
              "    box-shadow: none;\n",
              "  }\n",
              "\n",
              "  .colab-df-spinner {\n",
              "    border: 2px solid var(--fill-color);\n",
              "    border-color: transparent;\n",
              "    border-bottom-color: var(--fill-color);\n",
              "    animation:\n",
              "      spin 1s steps(1) infinite;\n",
              "  }\n",
              "\n",
              "  @keyframes spin {\n",
              "    0% {\n",
              "      border-color: transparent;\n",
              "      border-bottom-color: var(--fill-color);\n",
              "      border-left-color: var(--fill-color);\n",
              "    }\n",
              "    20% {\n",
              "      border-color: transparent;\n",
              "      border-left-color: var(--fill-color);\n",
              "      border-top-color: var(--fill-color);\n",
              "    }\n",
              "    30% {\n",
              "      border-color: transparent;\n",
              "      border-left-color: var(--fill-color);\n",
              "      border-top-color: var(--fill-color);\n",
              "      border-right-color: var(--fill-color);\n",
              "    }\n",
              "    40% {\n",
              "      border-color: transparent;\n",
              "      border-right-color: var(--fill-color);\n",
              "      border-top-color: var(--fill-color);\n",
              "    }\n",
              "    60% {\n",
              "      border-color: transparent;\n",
              "      border-right-color: var(--fill-color);\n",
              "    }\n",
              "    80% {\n",
              "      border-color: transparent;\n",
              "      border-right-color: var(--fill-color);\n",
              "      border-bottom-color: var(--fill-color);\n",
              "    }\n",
              "    90% {\n",
              "      border-color: transparent;\n",
              "      border-bottom-color: var(--fill-color);\n",
              "    }\n",
              "  }\n",
              "</style>\n",
              "\n",
              "      <script>\n",
              "        async function quickchart(key) {\n",
              "          const quickchartButtonEl =\n",
              "            document.querySelector('#' + key + ' button');\n",
              "          quickchartButtonEl.disabled = true;  // To prevent multiple clicks.\n",
              "          quickchartButtonEl.classList.add('colab-df-spinner');\n",
              "          try {\n",
              "            const charts = await google.colab.kernel.invokeFunction(\n",
              "                'suggestCharts', [key], {});\n",
              "          } catch (error) {\n",
              "            console.error('Error during call to suggestCharts:', error);\n",
              "          }\n",
              "          quickchartButtonEl.classList.remove('colab-df-spinner');\n",
              "          quickchartButtonEl.classList.add('colab-df-quickchart-complete');\n",
              "        }\n",
              "        (() => {\n",
              "          let quickchartButtonEl =\n",
              "            document.querySelector('#df-cbb661ff-8161-4466-b4e1-ad244451fb4a button');\n",
              "          quickchartButtonEl.style.display =\n",
              "            google.colab.kernel.accessAllowed ? 'block' : 'none';\n",
              "        })();\n",
              "      </script>\n",
              "    </div>\n",
              "\n",
              "  <div id=\"id_4dac4a44-f1b2-4086-a452-73355ca7990c\">\n",
              "    <style>\n",
              "      .colab-df-generate {\n",
              "        background-color: #E8F0FE;\n",
              "        border: none;\n",
              "        border-radius: 50%;\n",
              "        cursor: pointer;\n",
              "        display: none;\n",
              "        fill: #1967D2;\n",
              "        height: 32px;\n",
              "        padding: 0 0 0 0;\n",
              "        width: 32px;\n",
              "      }\n",
              "\n",
              "      .colab-df-generate:hover {\n",
              "        background-color: #E2EBFA;\n",
              "        box-shadow: 0px 1px 2px rgba(60, 64, 67, 0.3), 0px 1px 3px 1px rgba(60, 64, 67, 0.15);\n",
              "        fill: #174EA6;\n",
              "      }\n",
              "\n",
              "      [theme=dark] .colab-df-generate {\n",
              "        background-color: #3B4455;\n",
              "        fill: #D2E3FC;\n",
              "      }\n",
              "\n",
              "      [theme=dark] .colab-df-generate:hover {\n",
              "        background-color: #434B5C;\n",
              "        box-shadow: 0px 1px 3px 1px rgba(0, 0, 0, 0.15);\n",
              "        filter: drop-shadow(0px 1px 2px rgba(0, 0, 0, 0.3));\n",
              "        fill: #FFFFFF;\n",
              "      }\n",
              "    </style>\n",
              "    <button class=\"colab-df-generate\" onclick=\"generateWithVariable('df')\"\n",
              "            title=\"Generate code using this dataframe.\"\n",
              "            style=\"display:none;\">\n",
              "\n",
              "  <svg xmlns=\"http://www.w3.org/2000/svg\" height=\"24px\"viewBox=\"0 0 24 24\"\n",
              "       width=\"24px\">\n",
              "    <path d=\"M7,19H8.4L18.45,9,17,7.55,7,17.6ZM5,21V16.75L18.45,3.32a2,2,0,0,1,2.83,0l1.4,1.43a1.91,1.91,0,0,1,.58,1.4,1.91,1.91,0,0,1-.58,1.4L9.25,21ZM18.45,9,17,7.55Zm-12,3A5.31,5.31,0,0,0,4.9,8.1,5.31,5.31,0,0,0,1,6.5,5.31,5.31,0,0,0,4.9,4.9,5.31,5.31,0,0,0,6.5,1,5.31,5.31,0,0,0,8.1,4.9,5.31,5.31,0,0,0,12,6.5,5.46,5.46,0,0,0,6.5,12Z\"/>\n",
              "  </svg>\n",
              "    </button>\n",
              "    <script>\n",
              "      (() => {\n",
              "      const buttonEl =\n",
              "        document.querySelector('#id_4dac4a44-f1b2-4086-a452-73355ca7990c button.colab-df-generate');\n",
              "      buttonEl.style.display =\n",
              "        google.colab.kernel.accessAllowed ? 'block' : 'none';\n",
              "\n",
              "      buttonEl.onclick = () => {\n",
              "        google.colab.notebook.generateWithVariable('df');\n",
              "      }\n",
              "      })();\n",
              "    </script>\n",
              "  </div>\n",
              "\n",
              "    </div>\n",
              "  </div>\n"
            ],
            "application/vnd.google.colaboratory.intrinsic+json": {
              "type": "dataframe",
              "variable_name": "df",
              "summary": "{\n  \"name\": \"df\",\n  \"rows\": 615,\n  \"fields\": [\n    {\n      \"column\": \"conversation_id_str\",\n      \"properties\": {\n        \"dtype\": \"number\",\n        \"std\": 13117201713958636,\n        \"min\": 1826145551018004666,\n        \"max\": 1921535011078980058,\n        \"num_unique_values\": 289,\n        \"samples\": [\n          1918202363896365554,\n          1919678916584972765,\n          1919715766695559532\n        ],\n        \"semantic_type\": \"\",\n        \"description\": \"\"\n      }\n    },\n    {\n      \"column\": \"created_at\",\n      \"properties\": {\n        \"dtype\": \"object\",\n        \"num_unique_values\": 289,\n        \"samples\": [\n          \"Fri May 02 07:14:16 +0000 2025\",\n          \"Tue May 06 09:01:34 +0000 2025\",\n          \"Tue May 06 11:28:00 +0000 2025\"\n        ],\n        \"semantic_type\": \"\",\n        \"description\": \"\"\n      }\n    },\n    {\n      \"column\": \"favorite_count\",\n      \"properties\": {\n        \"dtype\": \"number\",\n        \"std\": 3418,\n        \"min\": 1,\n        \"max\": 20029,\n        \"num_unique_values\": 340,\n        \"samples\": [\n          331,\n          3917,\n          1015\n        ],\n        \"semantic_type\": \"\",\n        \"description\": \"\"\n      }\n    },\n    {\n      \"column\": \"full_text\",\n      \"properties\": {\n        \"dtype\": \"category\",\n        \"num_unique_values\": 289,\n        \"samples\": [\n          \"POV pas mau bucin tiba tiba ketahuan orang nya https://t.co/uaAcm70z74\",\n          \"A part of ours. huru-hara si bucin omega Nk harem! https://t.co/qUzq5uLRTD\",\n          \"Udah gak ketolong bro bucin banget gue sama manusia ini https://t.co/tZSz7hAM56\"\n        ],\n        \"semantic_type\": \"\",\n        \"description\": \"\"\n      }\n    },\n    {\n      \"column\": \"id_str\",\n      \"properties\": {\n        \"dtype\": \"number\",\n        \"std\": 1021507055953351,\n        \"min\": 1917996575265370519,\n        \"max\": 1921535011078980058,\n        \"num_unique_values\": 289,\n        \"samples\": [\n          1918202363896365554,\n          1919678916584972765,\n          1919715766695559532\n        ],\n        \"semantic_type\": \"\",\n        \"description\": \"\"\n      }\n    },\n    {\n      \"column\": \"image_url\",\n      \"properties\": {\n        \"dtype\": \"category\",\n        \"num_unique_values\": 184,\n        \"samples\": [\n          \"https://pbs.twimg.com/media/GqGz56cXoAAHth-.jpg\",\n          \"https://pbs.twimg.com/media/Gp8_uxiboAAkSEe.jpg\",\n          \"https://pbs.twimg.com/media/GqVR4nOaUAAUwr_.jpg\"\n        ],\n        \"semantic_type\": \"\",\n        \"description\": \"\"\n      }\n    },\n    {\n      \"column\": \"in_reply_to_screen_name\",\n      \"properties\": {\n        \"dtype\": \"category\",\n        \"num_unique_values\": 4,\n        \"samples\": [\n          \"PikamonID\",\n          \"hasya_jmjk\",\n          \"tanyakanrl\"\n        ],\n        \"semantic_type\": \"\",\n        \"description\": \"\"\n      }\n    },\n    {\n      \"column\": \"lang\",\n      \"properties\": {\n        \"dtype\": \"category\",\n        \"num_unique_values\": 8,\n        \"samples\": [\n          \"en\",\n          \"und\",\n          \"in\"\n        ],\n        \"semantic_type\": \"\",\n        \"description\": \"\"\n      }\n    },\n    {\n      \"column\": \"location\",\n      \"properties\": {\n        \"dtype\": \"category\",\n        \"num_unique_values\": 121,\n        \"samples\": [\n          \"bikini bottom\\ud83e\\udee7\\ud83e\\udeb8\\ud83d\\udc1a\",\n          \"MKHC \\u2022 \\ud83c\\udde8\\ud83c\\udde6\\ud83c\\uddf0\\ud83c\\uddf7\",\n          \"Hell, MI\"\n        ],\n        \"semantic_type\": \"\",\n        \"description\": \"\"\n      }\n    },\n    {\n      \"column\": \"quote_count\",\n      \"properties\": {\n        \"dtype\": \"number\",\n        \"std\": 137,\n        \"min\": 0,\n        \"max\": 912,\n        \"num_unique_values\": 70,\n        \"samples\": [\n          18,\n          452,\n          29\n        ],\n        \"semantic_type\": \"\",\n        \"description\": \"\"\n      }\n    },\n    {\n      \"column\": \"reply_count\",\n      \"properties\": {\n        \"dtype\": \"number\",\n        \"std\": 106,\n        \"min\": 0,\n        \"max\": 611,\n        \"num_unique_values\": 68,\n        \"samples\": [\n          316,\n          574,\n          1\n        ],\n        \"semantic_type\": \"\",\n        \"description\": \"\"\n      }\n    },\n    {\n      \"column\": \"retweet_count\",\n      \"properties\": {\n        \"dtype\": \"number\",\n        \"std\": 303,\n        \"min\": 0,\n        \"max\": 1652,\n        \"num_unique_values\": 165,\n        \"samples\": [\n          36,\n          91,\n          127\n        ],\n        \"semantic_type\": \"\",\n        \"description\": \"\"\n      }\n    },\n    {\n      \"column\": \"tweet_url\",\n      \"properties\": {\n        \"dtype\": \"category\",\n        \"num_unique_values\": 289,\n        \"samples\": [\n          \"https://x.com/UnyuKookie/status/1918202363896365554\",\n          \"https://x.com/serpih_debu/status/1919678916584972765\",\n          \"https://x.com/udelaloha/status/1919715766695559532\"\n        ],\n        \"semantic_type\": \"\",\n        \"description\": \"\"\n      }\n    },\n    {\n      \"column\": \"user_id_str\",\n      \"properties\": {\n        \"dtype\": \"number\",\n        \"std\": 582506694132786944,\n        \"min\": 43897705,\n        \"max\": 1915972739703443463,\n        \"num_unique_values\": 209,\n        \"samples\": [\n          1906555551993221120,\n          1748505163189653504,\n          1553779428945465344\n        ],\n        \"semantic_type\": \"\",\n        \"description\": \"\"\n      }\n    },\n    {\n      \"column\": \"username\",\n      \"properties\": {\n        \"dtype\": \"category\",\n        \"num_unique_values\": 209,\n        \"samples\": [\n          \"cheyriesm\",\n          \"winniedepreshit\",\n          \"radotharu\"\n        ],\n        \"semantic_type\": \"\",\n        \"description\": \"\"\n      }\n    }\n  ]\n}"
            }
          },
          "metadata": {},
          "execution_count": 7
        }
      ]
    },
    {
      "cell_type": "markdown",
      "source": [
        "## **1. Scenario 1: No Emoticons/Slang**"
      ],
      "metadata": {
        "id": "pnG9aYhsdd1w"
      }
    },
    {
      "cell_type": "markdown",
      "source": [
        "### **a. Separate the dataset for Scenario 1**"
      ],
      "metadata": {
        "id": "3SpWkfyrdobR"
      }
    },
    {
      "cell_type": "code",
      "source": [
        "df1_no_emoticons = df"
      ],
      "metadata": {
        "id": "88YVaP3IdAaK"
      },
      "execution_count": 8,
      "outputs": []
    },
    {
      "cell_type": "markdown",
      "source": [
        "### **b. Apply preprocessing steps**"
      ],
      "metadata": {
        "id": "l7fNWHPXe4dV"
      }
    },
    {
      "cell_type": "markdown",
      "source": [
        "**1. Clean Text**"
      ],
      "metadata": {
        "id": "IZz17bWdhjeE"
      }
    },
    {
      "cell_type": "code",
      "source": [
        "def clean_text_scenario1(text):\n",
        "  \"\"\"\n",
        "    Clean text by removing URLs, mentions, hashtags, non-alphabetic characters (including emoticons),\n",
        "    and Indonesian slang words.\n",
        "\n",
        "    Args:\n",
        "        text (str): Raw input text.\n",
        "\n",
        "    Returns:\n",
        "        str: Cleaned text with only formal Indonesian/English words.\n",
        "    \"\"\"\n",
        "  if pd.isna(text):  # Handle missing values\n",
        "    return ''\n",
        "\n",
        "  # Remove URLs, mentions (@), and hashtags (#)\n",
        "  text = re.sub(r'http\\S+|@\\w+|#\\w+', '', text)\n",
        "\n",
        "  # Remove ALL non-alphabetic characters (including emoticons and punctuation)\n",
        "  text = re.sub(r'[^a-zA-Z\\s]', '', text)\n",
        "\n",
        "  # Remove common Indonesian slang words\n",
        "  slang_words = ['wkwk', 'bangeet', 'gemess', 'mantul', 'sukab']\n",
        "  for slang in slang_words:\n",
        "    text = re.sub(r'\\b' + slang + r'\\b', '', text)  # \\b ensures whole-word matching\n",
        "\n",
        "  # Normalize whitespace\n",
        "  text = re.sub(r'\\s+', ' ', text).strip()\n",
        "\n",
        "  return text"
      ],
      "metadata": {
        "id": "WlYlXCvOdAXK"
      },
      "execution_count": 11,
      "outputs": []
    },
    {
      "cell_type": "code",
      "source": [
        "df1_no_emoticons['cleaned_text'] = df1_no_emoticons['full_text'].apply(clean_text_scenario1)"
      ],
      "metadata": {
        "id": "GrcNCecDe7lS"
      },
      "execution_count": 13,
      "outputs": []
    },
    {
      "cell_type": "markdown",
      "source": [
        "**2. Case Folding (convert to lower case)**"
      ],
      "metadata": {
        "id": "6quMy9SwdAF6"
      }
    },
    {
      "cell_type": "code",
      "source": [
        "df1_no_emoticons['case_folded'] = df1_no_emoticons['cleaned_text'].str.lower()"
      ],
      "metadata": {
        "id": "nB6OCUqOfNe4"
      },
      "execution_count": 14,
      "outputs": []
    },
    {
      "cell_type": "markdown",
      "source": [
        "**3. Tokenization**"
      ],
      "metadata": {
        "id": "I7_giznIhw2O"
      }
    },
    {
      "cell_type": "code",
      "source": [
        "df1_no_emoticons['tokens'] = df['case_folded'].apply(nltk.word_tokenize)"
      ],
      "metadata": {
        "id": "g1XugyH3fNcZ"
      },
      "execution_count": 15,
      "outputs": []
    },
    {
      "cell_type": "markdown",
      "source": [
        "### **c. Stopword Removal (Indonesian + English + custom)**"
      ],
      "metadata": {
        "id": "rzTKyJ0BmOLp"
      }
    },
    {
      "cell_type": "code",
      "source": [
        "stop_words = set(\n",
        "    stopwords.words('indonesian') +\n",
        "    stopwords.words('english') +\n",
        "    ['dong', 'sih', 'nya', 'lah', 'deh', 'rt']\n",
        ")"
      ],
      "metadata": {
        "id": "tOjwP-oOfNZx"
      },
      "execution_count": 17,
      "outputs": []
    },
    {
      "cell_type": "code",
      "source": [
        "df1_no_emoticons['filtered_tokens'] = df1_no_emoticons['tokens'].apply(\n",
        "    lambda x: [word for word in x if word not in stop_words]\n",
        ")"
      ],
      "metadata": {
        "id": "U5FvDZCkfNXY"
      },
      "execution_count": 18,
      "outputs": []
    },
    {
      "cell_type": "markdown",
      "source": [
        "### **d. Drop unused columns (Twitter metadata)**"
      ],
      "metadata": {
        "id": "52p7Rh4Lm8TB"
      }
    },
    {
      "cell_type": "code",
      "source": [
        "columns_to_drop = [\n",
        "    'conversation_id_str', 'id_str', 'image_url', 'in_reply_to_screen_name',\n",
        "    'location', 'quote_count', 'reply_count', 'tweet_url', 'user_id_str'\n",
        "]\n",
        "df1_no_emoticons.drop(columns=columns_to_drop, inplace=True)"
      ],
      "metadata": {
        "id": "scAGq2PofNS1"
      },
      "execution_count": 19,
      "outputs": []
    },
    {
      "cell_type": "markdown",
      "source": [
        "### **e. Save to CSV**"
      ],
      "metadata": {
        "id": "FYOgiE08nk34"
      }
    },
    {
      "cell_type": "code",
      "source": [
        "df1_no_emoticons.to_csv('preprocessed_scenario1_no_emoticons.csv', index=False)"
      ],
      "metadata": {
        "id": "pgFaBdKrfNQU"
      },
      "execution_count": 21,
      "outputs": []
    },
    {
      "cell_type": "markdown",
      "source": [
        "## **2. Scenario 2: Emoticon-to-Text Conversion**"
      ],
      "metadata": {
        "id": "ZiDlt0fwoQFq"
      }
    },
    {
      "cell_type": "markdown",
      "source": [
        "### **a. Separate the dataset for Scenario 2**"
      ],
      "metadata": {
        "id": "9vz83VauohG3"
      }
    },
    {
      "cell_type": "code",
      "source": [
        "df2_emoticons_to_text = df"
      ],
      "metadata": {
        "id": "gB9d80E7fNN1"
      },
      "execution_count": 33,
      "outputs": []
    },
    {
      "cell_type": "markdown",
      "source": [
        "### **b. Apply preprocessing pipeline**"
      ],
      "metadata": {
        "id": "2FjqHIsBo84T"
      }
    },
    {
      "cell_type": "markdown",
      "source": [
        "**1. Clean and convert emoticons**"
      ],
      "metadata": {
        "id": "2PRNjjDlpK7B"
      }
    },
    {
      "cell_type": "code",
      "source": [
        "def emoticon_to_text(text):\n",
        "    \"\"\"\n",
        "    Convert emoticons to their text descriptions enclosed in square brackets.\n",
        "    Example: 😡 → [angry face], 🎉 → [party popper].\n",
        "\n",
        "    Args:\n",
        "        text (str): Raw input text containing emoticons.\n",
        "\n",
        "    Returns:\n",
        "        str: Text with emoticons replaced by descriptive labels.\n",
        "    \"\"\"\n",
        "    return emoji.demojize(text, delimiters=(' [', '] '))  # 😡 → [angry face]"
      ],
      "metadata": {
        "id": "oTUwsOQ2fNLj"
      },
      "execution_count": 34,
      "outputs": []
    },
    {
      "cell_type": "code",
      "source": [
        "def clean_text_scenario2(text):\n",
        "    \"\"\"\n",
        "    Clean text while preserving converted emoticons (as [description]) and slang.\n",
        "\n",
        "    Args:\n",
        "        text (str): Raw input text.\n",
        "\n",
        "    Returns:\n",
        "        str: Cleaned text with URLs/mentions removed, emoticons converted, and slang retained.\n",
        "    \"\"\"\n",
        "    if pd.isna(text):\n",
        "        return ''\n",
        "\n",
        "    # Step 1: Convert emoticons to text descriptions\n",
        "    text = emoticon_to_text(text)\n",
        "\n",
        "    # Step 2: Remove URLs, mentions, and hashtags\n",
        "    text = re.sub(r'http\\S+|@\\w+|#\\w+', '', text)\n",
        "\n",
        "    # Step 3: Remove special characters EXCEPT those inside [] (emoticon labels)\n",
        "    text = re.sub(r'[^\\w\\s\\[\\]]', '', text)\n",
        "\n",
        "    # Step 4: Normalize whitespace\n",
        "    text = re.sub(r'\\s+', ' ', text).strip()\n",
        "\n",
        "    return text"
      ],
      "metadata": {
        "id": "AnWa7a-EfNJM"
      },
      "execution_count": 35,
      "outputs": []
    },
    {
      "cell_type": "code",
      "source": [
        "df2_emoticons_to_text['cleaned_text'] = df2_emoticons_to_text['full_text'].apply(clean_text_scenario2)"
      ],
      "metadata": {
        "id": "qO6pjpwcfNG6"
      },
      "execution_count": 36,
      "outputs": []
    },
    {
      "cell_type": "markdown",
      "source": [
        "**2. Case Folding**"
      ],
      "metadata": {
        "id": "q5H_YWVKpUUc"
      }
    },
    {
      "cell_type": "code",
      "source": [
        "df2_emoticons_to_text['case_folded'] = df2_emoticons_to_text['cleaned_text'].str.lower()"
      ],
      "metadata": {
        "id": "j1L9KiUsfNEi"
      },
      "execution_count": 37,
      "outputs": []
    },
    {
      "cell_type": "markdown",
      "source": [
        "**3. Tokenization**"
      ],
      "metadata": {
        "id": "cb5IsqLGqU-_"
      }
    },
    {
      "cell_type": "code",
      "source": [
        "df2_emoticons_to_text['tokens'] = df2_emoticons_to_text['case_folded'].apply(nltk.word_tokenize)"
      ],
      "metadata": {
        "id": "BjxUas4mfNCO"
      },
      "execution_count": 38,
      "outputs": []
    },
    {
      "cell_type": "markdown",
      "source": [
        "### **c. Stopword removal (retain slang and emoticon labels)**\n"
      ],
      "metadata": {
        "id": "SkSGVwWcq0UX"
      }
    },
    {
      "cell_type": "code",
      "source": [
        "stop_worrds = set(\n",
        "    stopwords.words('indonesian') +\n",
        "    stopwords.words('english') +\n",
        "    ['dong', 'sih', 'nya', 'lah', 'deh', 'rt']\n",
        ")\n",
        "\n",
        "df2_emoticons_to_text['filtered_tokens'] = df2_emoticons_to_text['tokens'].apply(\n",
        "    lambda x: [word for word in x if word not in stop_words]\n",
        ")"
      ],
      "metadata": {
        "id": "NdKX4xJqfM_c"
      },
      "execution_count": 41,
      "outputs": []
    },
    {
      "cell_type": "markdown",
      "source": [
        "### **d. Stemming (skip words inside [ ] to preserve emoticon labels)**"
      ],
      "metadata": {
        "id": "-kSTYPmisRbn"
      }
    },
    {
      "cell_type": "code",
      "source": [
        "def stem_with_preservation(tokens):\n",
        "  \"\"\"\n",
        "    Apply stemming while preserving emoticon labels (enclosed in []).\n",
        "\n",
        "    Args:\n",
        "        tokens (list): List of tokenized words.\n",
        "\n",
        "    Returns:\n",
        "        list: Tokens with stemming applied, except to emoticon labels.\n",
        "  \"\"\"\n",
        "  # Initialize the stemmer object here inside the function\n",
        "  factory = StemmerFactory()\n",
        "  stemmer = factory.create_stemmer()\n",
        "\n",
        "  return[\n",
        "      stemmer.stem(word) if not word.startswith('[') else word for word in tokens\n",
        "  ]\n",
        "\n",
        "df2_emoticons_to_text['stemmed_tokens'] = df2_emoticons_to_text['filtered_tokens'].apply(stem_with_preservation)"
      ],
      "metadata": {
        "id": "MDfrPRS7qsbT"
      },
      "execution_count": 44,
      "outputs": []
    },
    {
      "cell_type": "markdown",
      "source": [
        "### **e. Drop unused columns (Twitter metadata)**"
      ],
      "metadata": {
        "id": "XnLtNHeBt35z"
      }
    },
    {
      "source": [
        "columns_to_drop = [\n",
        "    'conversation_id_str', 'id_str', 'image_url', 'in_reply_to_screen_name',\n",
        "    'location', 'quote_count', 'reply_count', 'tweet_url', 'user_id_str'\n",
        "]\n",
        "\n",
        "# Check which columns in columns_to_drop are actually present in the DataFrame\n",
        "existing_columns = [col for col in columns_to_drop if col in df2_emoticons_to_text.columns]\n",
        "\n",
        "# Drop only the existing columns\n",
        "df2_emoticons_to_text.drop(columns=existing_columns, inplace=True)"
      ],
      "cell_type": "code",
      "metadata": {
        "id": "bSAd7hjxv9ew"
      },
      "execution_count": 47,
      "outputs": []
    },
    {
      "cell_type": "markdown",
      "source": [
        "### **f. Save preprocessed data for scenario 2**"
      ],
      "metadata": {
        "id": "PaS_KidpuEYj"
      }
    },
    {
      "cell_type": "code",
      "source": [
        "df2_emoticons_to_text.to_csv('preprocessed_scenario2_emoticons_to_text.csv', index=False)"
      ],
      "metadata": {
        "id": "jf0uMsu7qsZH"
      },
      "execution_count": 49,
      "outputs": []
    },
    {
      "cell_type": "markdown",
      "source": [
        "## **3. Scenario 3: Preserve Emoticons & Slang**"
      ],
      "metadata": {
        "id": "YgD8lXyYJKQZ"
      }
    },
    {
      "cell_type": "markdown",
      "source": [
        "### **a. Separate the dataset for Scenario 3**"
      ],
      "metadata": {
        "id": "Piy-1sB9JaxR"
      }
    },
    {
      "cell_type": "code",
      "source": [
        "df3 = df"
      ],
      "metadata": {
        "id": "NvmKOvnQqsWq"
      },
      "execution_count": 55,
      "outputs": []
    },
    {
      "cell_type": "markdown",
      "source": [
        "### **b. Apply Preprocessing**"
      ],
      "metadata": {
        "id": "FdHUoEXyJxO8"
      }
    },
    {
      "cell_type": "markdown",
      "source": [
        "**1. Cleaning the text**"
      ],
      "metadata": {
        "id": "8DHfFrOuJ4pP"
      }
    },
    {
      "cell_type": "code",
      "source": [
        "def clean_text_scenario3(text):\n",
        "    \"\"\"\n",
        "    Clean text while preserving emoticons, slang, and hashtags (converted to plain words).\n",
        "    Only removes URLs and mentions (@).\n",
        "\n",
        "    Args:\n",
        "        text (str): Raw input text.\n",
        "\n",
        "    Returns:\n",
        "        str: Text with URLs/mentions removed, hashtags converted, and emoticons/slang retained.\n",
        "    \"\"\"\n",
        "    if pd.isna(text):\n",
        "        return ''\n",
        "\n",
        "    # Remove URLs and mentions (@)\n",
        "    text = re.sub(r'http\\S+|@\\w+', '', text)\n",
        "\n",
        "    # Convert hashtags to plain words (e.g., #GoodDay → GoodDay)\n",
        "    text = re.sub(r'#(\\w+)', r'\\1', text)\n",
        "\n",
        "    # Normalize whitespace (preserve emoticons/slang)\n",
        "    text = re.sub(r'\\s+', ' ', text).strip()\n",
        "\n",
        "    return text"
      ],
      "metadata": {
        "id": "WktI1ONMqsUc"
      },
      "execution_count": 56,
      "outputs": []
    },
    {
      "cell_type": "code",
      "source": [
        "df3['cleaned_text'] = df3['full_text'].apply(clean_text_scenario3)"
      ],
      "metadata": {
        "id": "aPZ1yesXqsSb"
      },
      "execution_count": 57,
      "outputs": []
    },
    {
      "cell_type": "markdown",
      "source": [
        "**2. Case Folding**"
      ],
      "metadata": {
        "id": "3qQyBiiBKOLu"
      }
    },
    {
      "cell_type": "code",
      "source": [
        "df3['case_folded'] = df['cleaned_text'].str.lower()"
      ],
      "metadata": {
        "id": "8BM7NuL8qsPz"
      },
      "execution_count": 58,
      "outputs": []
    },
    {
      "cell_type": "markdown",
      "source": [
        "**3. Tokenizing**"
      ],
      "metadata": {
        "id": "yKiv4v32KcLk"
      }
    },
    {
      "cell_type": "code",
      "source": [
        "def tokenize_with_emoticons(text):\n",
        "    \"\"\"\n",
        "    Tokenize text while separating emoticons/special characters.\n",
        "    Example: \"Hello😡\" → [\"Hello\", \"😡\"].\n",
        "\n",
        "    Args:\n",
        "        text (str): Case-folded text.\n",
        "\n",
        "    Returns:\n",
        "        list: Tokenized words and emoticons.\n",
        "    \"\"\"\n",
        "    # Add spaces around non-word characters (emoticons, punctuation)\n",
        "    text = re.sub(r'(\\W)', r' \\1 ', text)\n",
        "    return nltk.word_tokenize(text)"
      ],
      "metadata": {
        "id": "B5szksQXqsNi"
      },
      "execution_count": 59,
      "outputs": []
    },
    {
      "cell_type": "code",
      "source": [
        "df3['tokens'] = df3['case_folded'].apply(tokenize_with_emoticons)"
      ],
      "metadata": {
        "id": "DHYB8mehqsLS"
      },
      "execution_count": 60,
      "outputs": []
    },
    {
      "cell_type": "markdown",
      "source": [
        "**4. Stopword Removal**"
      ],
      "metadata": {
        "id": "QhGFWvGXKw-q"
      }
    },
    {
      "cell_type": "code",
      "source": [
        "# Stopword removal (preserve emoticons and common slang)\n",
        "emoticons_slang = {':)', ':(', '😡', '🎉', 'wkwk', 'bangeet'}\n",
        "emoticons_slang.update(['💀', 'mantul', 'sukab'])"
      ],
      "metadata": {
        "id": "JNVqdjQUqsJC"
      },
      "execution_count": 61,
      "outputs": []
    },
    {
      "cell_type": "code",
      "source": [
        "# Extend as needed\n",
        "stop_words = set(\n",
        "    stopwords.words('indonesian') +\n",
        "    stopwords.words('english') +\n",
        "    ['dong', 'sih', 'nya', 'lah', 'deh', 'rt'] +\n",
        "    list(emoticons_slang)\n",
        ")\n",
        "\n",
        "df3['filtered_tokens'] = df3['tokens'].apply(\n",
        "    lambda x: [word for word in x if word not in stop_words or word in emoticons_slang]\n",
        ")"
      ],
      "metadata": {
        "id": "8xZgk7IbLNDS"
      },
      "execution_count": 62,
      "outputs": []
    },
    {
      "cell_type": "markdown",
      "source": [
        "**5. Stemming (skip emoticons/slang)**\n"
      ],
      "metadata": {
        "id": "oIaTeS0yLsmH"
      }
    },
    {
      "cell_type": "code",
      "source": [
        "def stem_skip_emoticons(tokens):\n",
        "  \"\"\"\n",
        "    Apply stemming only to alphabetic words (skip emoticons/slang).\n",
        "\n",
        "    Args:\n",
        "        tokens (list): Tokenized words/emoticons.\n",
        "\n",
        "    Returns:\n",
        "        list: Stemmed tokens with emoticons/slang unchanged.\n",
        "    \"\"\"\n",
        "  factory = StemmerFactory()\n",
        "  stemmer = factory.create_stemmer()\n",
        "\n",
        "  return [\n",
        "      stemmer.stem(word) if word.isalpha() else word for word in tokens\n",
        "  ]\n",
        "\n",
        "df3['stemmed_tokens'] = df3['filtered_tokens'].apply(stem_skip_emoticons)"
      ],
      "metadata": {
        "id": "IAATtIn-LOZO"
      },
      "execution_count": 65,
      "outputs": []
    },
    {
      "cell_type": "markdown",
      "source": [
        "### **c. Drop unused columns (same as Scenarios 1/2)**"
      ],
      "metadata": {
        "id": "TanMIxmzMr-h"
      }
    },
    {
      "source": [
        "columns_to_drop = [\n",
        "    'conversation_id_str', 'id_str', 'image_url', 'in_reply_to_screen_name',\n",
        "    'location', 'quote_count', 'reply_count', 'tweet_url', 'user_id_str'\n",
        "]\n",
        "\n",
        "# Check which columns in columns_to_drop are actually present in the DataFrame\n",
        "existing_columns = [col for col in columns_to_drop if col in df3.columns]\n",
        "\n",
        "# Drop only the existing columns\n",
        "df3.drop(columns=existing_columns, inplace=True)"
      ],
      "cell_type": "code",
      "metadata": {
        "id": "Y82auNahQvxj"
      },
      "execution_count": 67,
      "outputs": []
    },
    {
      "cell_type": "markdown",
      "source": [
        "### **d. Save preprocessed data**"
      ],
      "metadata": {
        "id": "YC8mkN7YM52r"
      }
    },
    {
      "cell_type": "code",
      "source": [
        "df3.to_csv('preprocessed_scenario3_preserve_emoticons_slang.csv', index=False)"
      ],
      "metadata": {
        "id": "QkeW_lIHLOUh"
      },
      "execution_count": 69,
      "outputs": []
    },
    {
      "cell_type": "code",
      "source": [],
      "metadata": {
        "id": "N7o5htvsLOSB"
      },
      "execution_count": null,
      "outputs": []
    },
    {
      "cell_type": "code",
      "source": [],
      "metadata": {
        "id": "gy-bz0xpLOPZ"
      },
      "execution_count": null,
      "outputs": []
    },
    {
      "cell_type": "code",
      "source": [],
      "metadata": {
        "id": "FanfwGlxLOMm"
      },
      "execution_count": null,
      "outputs": []
    },
    {
      "cell_type": "code",
      "source": [],
      "metadata": {
        "id": "QJn4b8-vqsGs"
      },
      "execution_count": null,
      "outputs": []
    },
    {
      "cell_type": "code",
      "source": [],
      "metadata": {
        "id": "F7quB_1_qsEP"
      },
      "execution_count": null,
      "outputs": []
    },
    {
      "cell_type": "markdown",
      "source": [
        "![image.png](data:image/png;base64,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)"
      ],
      "metadata": {
        "id": "gz4OehiyMZx2"
      }
    },
    {
      "cell_type": "markdown",
      "source": [
        "**1. Cleaning**"
      ],
      "metadata": {
        "id": "4haXuOUwpUlg"
      }
    },
    {
      "cell_type": "code",
      "source": [
        "def clean_text(text):\n",
        "  if pd.isna(text):  # Handle missing values\n",
        "    return ''\n",
        "  # Remove URLs\n",
        "  text = re.sub(r'http\\S+', '', text)\n",
        "  # Remove mentions (@) and hashtags (#)\n",
        "  text = re.sub(r'@\\w+|#\\w+', '', text)\n",
        "  # Remove special characters, numbers, and emojis\n",
        "  text = re.sub(r'[^a-zA-Z\\s]', '', text)\n",
        "  # Remove extra whitespace\n",
        "  text = re.sub(r'\\s+', ' ', text).strip()\n",
        "  return text\n",
        "\n",
        "# Apply cleaning to the text ccolumn (replace 'tweet' with your column name)\n",
        "df['cleaned_text'] = df['full_text'].apply(clean_text)"
      ],
      "metadata": {
        "id": "mIu7qt_npZGO"
      },
      "execution_count": null,
      "outputs": []
    },
    {
      "cell_type": "markdown",
      "source": [
        "**2. Case Folding (convert to lowercase)**"
      ],
      "metadata": {
        "id": "ABLsApuApVBe"
      }
    },
    {
      "cell_type": "code",
      "source": [
        "df['case_folded'] = df['cleaned_text'].str.lower()"
      ],
      "metadata": {
        "id": "Py1scIE5pTj9"
      },
      "execution_count": null,
      "outputs": []
    },
    {
      "cell_type": "markdown",
      "source": [
        "**3. Tokenizing (split text into words)**"
      ],
      "metadata": {
        "id": "6ZB3fWnapVvl"
      }
    },
    {
      "cell_type": "code",
      "source": [
        "def tokenize_text(text):\n",
        "  return nltk.word_tokenize(text)\n",
        "\n",
        "df['tokens'] = df['case_folded'].apply(tokenize_text)"
      ],
      "metadata": {
        "id": "ISPXCcKYpUNd"
      },
      "execution_count": null,
      "outputs": []
    },
    {
      "cell_type": "markdown",
      "source": [
        "**4. Filtering (Stopword Removal)**"
      ],
      "metadata": {
        "id": "rBfoxM_wpWFF"
      }
    },
    {
      "cell_type": "code",
      "source": [
        "# Add custom stopwords for 'bucin' context\n",
        "custom_stopwords = ['dong', 'sih', 'nya', 'lah', 'deh', 'rt']\n",
        "stop_words = set(\n",
        "    stopwords.words('indonesian') +\n",
        "    stopwords.words('english') +\n",
        "    custom_stopwords\n",
        ")\n",
        "\n",
        "def remove_stopwords(tokens):\n",
        "  return [word for word in tokens if word not in stop_words]\n",
        "\n",
        "df['filtered_tokens'] = df['tokens'].apply(remove_stopwords)"
      ],
      "metadata": {
        "id": "sKt-zf56pULG"
      },
      "execution_count": null,
      "outputs": []
    },
    {
      "cell_type": "markdown",
      "source": [
        "**5. Stemming (reduce words to root form)**"
      ],
      "metadata": {
        "id": "zoZPccNf4EU2"
      }
    },
    {
      "cell_type": "code",
      "source": [
        "factory = StemmerFactory()\n",
        "stemmer = factory.create_stemmer()\n",
        "\n",
        "def stem_text(tokens):\n",
        "  return [stemmer.stem(word) for word in tokens]\n",
        "\n",
        "df['stemmed_tokens'] = df['filtered_tokens'].apply(stem_text)"
      ],
      "metadata": {
        "id": "TAlSR9fM4ELY"
      },
      "execution_count": null,
      "outputs": []
    },
    {
      "cell_type": "markdown",
      "source": [
        "**6. Drop unuseful columns**"
      ],
      "metadata": {
        "id": "ffBeebfSWKbU"
      }
    },
    {
      "cell_type": "code",
      "source": [
        "columns_to_drop = [\n",
        "    'conversation_id_str', 'id_str', 'image_url', 'in_reply_to_screen_name',\n",
        "    'location', 'quote_count', 'reply_count', 'tweet_url', 'user_id_str'\n",
        "]\n",
        "df = df.drop(columns=columns_to_drop)"
      ],
      "metadata": {
        "id": "3aL6inItWLH5"
      },
      "execution_count": null,
      "outputs": []
    },
    {
      "cell_type": "markdown",
      "source": [
        "**Save preprocessed data**"
      ],
      "metadata": {
        "id": "7Q-HNBhC4gEx"
      }
    },
    {
      "cell_type": "code",
      "source": [
        "df.to_csv('preprocessed_bucin.csv', index=False)\n",
        "df"
      ],
      "metadata": {
        "colab": {
          "base_uri": "https://localhost:8080/",
          "height": 929
        },
        "id": "XJWCfPQxpUIR",
        "outputId": "a6865a52-1eee-480e-c3d7-68ca9ae4f2f9"
      },
      "execution_count": null,
      "outputs": [
        {
          "output_type": "execute_result",
          "data": {
            "text/plain": [
              "                         created_at  favorite_count  \\\n",
              "0    Sat May 10 16:10:08 +0000 2025            9190   \n",
              "1    Sat May 10 00:10:48 +0000 2025           19038   \n",
              "2    Sun May 11 10:44:13 +0000 2025               4   \n",
              "3    Sun May 11 03:59:24 +0000 2025            2128   \n",
              "4    Sun May 11 10:38:47 +0000 2025             438   \n",
              "..                              ...             ...   \n",
              "610  Sun May 11 10:55:50 +0000 2025              12   \n",
              "611  Wed May 07 15:40:09 +0000 2025            1410   \n",
              "612  Sat May 10 09:39:25 +0000 2025             274   \n",
              "613  Sun May 11 06:33:43 +0000 2025             428   \n",
              "614  Sat May 10 04:35:21 +0000 2025             188   \n",
              "\n",
              "                                             full_text lang  retweet_count  \\\n",
              "0     kdm ️ resident playbook ️ pict atas minta peg...   in           1044   \n",
              "1    Jualan tapi julidin customer tu maksudnya gima...   in           1319   \n",
              "2    Ini pas awal vidio Yeye kaya nyandar di bahu K...   in              1   \n",
              "3     kdm resident playbook Ini tuh dowon yiyoung p...   in            198   \n",
              "4    Bu lena liat kelakuan bucin adiknya AQEELA TER...   in             69   \n",
              "..                                                 ...  ...            ...   \n",
              "610  gue bisa kok bales argumentasi kalian pake kat...   in              0   \n",
              "611   SKSKSKSKSKSKSKSK ternyata gini ya rasanya buc...   in             33   \n",
              "612  Mav kalau sensitip tapi kalian anak UT! yang k...   in             13   \n",
              "613  mae ning sama gem sama aja ya kalo udah ditany...   in             80   \n",
              "614  ______ ______ ______ ______ ______ ______ ← yo...   in             31   \n",
              "\n",
              "           username                                       cleaned_text  \\\n",
              "0    kdrama_menfess  kdm resident playbook pict atas minta pegangan...   \n",
              "1        Maeliani07  Jualan tapi julidin customer tu maksudnya gima...   \n",
              "2        BeUrCLOUDS  Ini pas awal vidio Yeye kaya nyandar di bahu K...   \n",
              "3    kdrama_menfess  kdm resident playbook Ini tuh dowon yiyoung pe...   \n",
              "4        staraquars  Bu lena liat kelakuan bucin adiknya AQEELA TER...   \n",
              "..              ...                                                ...   \n",
              "610      redhorse44  gue bisa kok bales argumentasi kalian pake kat...   \n",
              "611      tanyarlfes  SKSKSKSKSKSKSKSK ternyata gini ya rasanya buci...   \n",
              "612          utfess  Mav kalau sensitip tapi kalian anak UT yang ku...   \n",
              "613          dycuri  mae ning sama gem sama aja ya kalo udah ditany...   \n",
              "614     bakejunhyuk           yonghoon bucin cowo gue minggir lu semua   \n",
              "\n",
              "                                           case_folded  \\\n",
              "0    kdm resident playbook pict atas minta pegangan...   \n",
              "1    jualan tapi julidin customer tu maksudnya gima...   \n",
              "2    ini pas awal vidio yeye kaya nyandar di bahu k...   \n",
              "3    kdm resident playbook ini tuh dowon yiyoung pe...   \n",
              "4    bu lena liat kelakuan bucin adiknya aqeela ter...   \n",
              "..                                                 ...   \n",
              "610  gue bisa kok bales argumentasi kalian pake kat...   \n",
              "611  sksksksksksksksk ternyata gini ya rasanya buci...   \n",
              "612  mav kalau sensitip tapi kalian anak ut yang ku...   \n",
              "613  mae ning sama gem sama aja ya kalo udah ditany...   \n",
              "614           yonghoon bucin cowo gue minggir lu semua   \n",
              "\n",
              "                                                tokens  \\\n",
              "0    [kdm, resident, playbook, pict, atas, minta, p...   \n",
              "1    [jualan, tapi, julidin, customer, tu, maksudny...   \n",
              "2    [ini, pas, awal, vidio, yeye, kaya, nyandar, d...   \n",
              "3    [kdm, resident, playbook, ini, tuh, dowon, yiy...   \n",
              "4    [bu, lena, liat, kelakuan, bucin, adiknya, aqe...   \n",
              "..                                                 ...   \n",
              "610  [gue, bisa, kok, bales, argumentasi, kalian, p...   \n",
              "611  [sksksksksksksksk, ternyata, gini, ya, rasanya...   \n",
              "612  [mav, kalau, sensitip, tapi, kalian, anak, ut,...   \n",
              "613  [mae, ning, sama, gem, sama, aja, ya, kalo, ud...   \n",
              "614   [yonghoon, bucin, cowo, gue, minggir, lu, semua]   \n",
              "\n",
              "                                       filtered_tokens  \\\n",
              "0    [kdm, resident, playbook, pict, pegangan, tang...   \n",
              "1    [jualan, julidin, customer, tu, maksudnya, gim...   \n",
              "2    [pas, vidio, yeye, kaya, nyandar, bahu, kyukyu...   \n",
              "3    [kdm, resident, playbook, tuh, dowon, yiyoung,...   \n",
              "4    [bu, lena, liat, kelakuan, bucin, adiknya, aqe...   \n",
              "..                                                 ...   \n",
              "610  [gue, bales, argumentasi, pake, sopan, gabisa,...   \n",
              "611  [sksksksksksksksk, gini, ya, bucin, kaya, mela...   \n",
              "612  [mav, sensitip, anak, ut, kuliah, kerja, tuh, ...   \n",
              "613  [mae, ning, gem, aja, ya, kalo, udah, ditanyai...   \n",
              "614          [yonghoon, bucin, cowo, gue, minggir, lu]   \n",
              "\n",
              "                                        stemmed_tokens  \n",
              "0    [kdm, resident, playbook, pict, pegang, tangan...  \n",
              "1    [jual, julidin, customer, tu, maksud, gimana, ...  \n",
              "2    [pas, vidio, yeye, kaya, nyandar, bahu, kyukyu...  \n",
              "3    [kdm, resident, playbook, tuh, dowon, yiyoung,...  \n",
              "4    [bu, lena, liat, laku, bucin, adik, aqeela, te...  \n",
              "..                                                 ...  \n",
              "610  [gue, bales, argumentasi, pake, sopan, gabisa,...  \n",
              "611  [sksksksksksksksk, gin, ya, bucin, kaya, layan...  \n",
              "612  [mav, sensitip, anak, ut, kuliah, kerja, tuh, ...  \n",
              "613  [mae, ning, gem, aja, ya, kalo, udah, ditanyai...  \n",
              "614          [yonghoon, bucin, cowo, gue, minggir, lu]  \n",
              "\n",
              "[615 rows x 11 columns]"
            ],
            "text/html": [
              "\n",
              "  <div id=\"df-227c91a6-90f3-4216-96d9-ae13c6bf0e44\" class=\"colab-df-container\">\n",
              "    <div>\n",
              "<style scoped>\n",
              "    .dataframe tbody tr th:only-of-type {\n",
              "        vertical-align: middle;\n",
              "    }\n",
              "\n",
              "    .dataframe tbody tr th {\n",
              "        vertical-align: top;\n",
              "    }\n",
              "\n",
              "    .dataframe thead th {\n",
              "        text-align: right;\n",
              "    }\n",
              "</style>\n",
              "<table border=\"1\" class=\"dataframe\">\n",
              "  <thead>\n",
              "    <tr style=\"text-align: right;\">\n",
              "      <th></th>\n",
              "      <th>created_at</th>\n",
              "      <th>favorite_count</th>\n",
              "      <th>full_text</th>\n",
              "      <th>lang</th>\n",
              "      <th>retweet_count</th>\n",
              "      <th>username</th>\n",
              "      <th>cleaned_text</th>\n",
              "      <th>case_folded</th>\n",
              "      <th>tokens</th>\n",
              "      <th>filtered_tokens</th>\n",
              "      <th>stemmed_tokens</th>\n",
              "    </tr>\n",
              "  </thead>\n",
              "  <tbody>\n",
              "    <tr>\n",
              "      <th>0</th>\n",
              "      <td>Sat May 10 16:10:08 +0000 2025</td>\n",
              "      <td>9190</td>\n",
              "      <td>kdm ️ resident playbook ️ pict atas minta peg...</td>\n",
              "      <td>in</td>\n",
              "      <td>1044</td>\n",
              "      <td>kdrama_menfess</td>\n",
              "      <td>kdm resident playbook pict atas minta pegangan...</td>\n",
              "      <td>kdm resident playbook pict atas minta pegangan...</td>\n",
              "      <td>[kdm, resident, playbook, pict, atas, minta, p...</td>\n",
              "      <td>[kdm, resident, playbook, pict, pegangan, tang...</td>\n",
              "      <td>[kdm, resident, playbook, pict, pegang, tangan...</td>\n",
              "    </tr>\n",
              "    <tr>\n",
              "      <th>1</th>\n",
              "      <td>Sat May 10 00:10:48 +0000 2025</td>\n",
              "      <td>19038</td>\n",
              "      <td>Jualan tapi julidin customer tu maksudnya gima...</td>\n",
              "      <td>in</td>\n",
              "      <td>1319</td>\n",
              "      <td>Maeliani07</td>\n",
              "      <td>Jualan tapi julidin customer tu maksudnya gima...</td>\n",
              "      <td>jualan tapi julidin customer tu maksudnya gima...</td>\n",
              "      <td>[jualan, tapi, julidin, customer, tu, maksudny...</td>\n",
              "      <td>[jualan, julidin, customer, tu, maksudnya, gim...</td>\n",
              "      <td>[jual, julidin, customer, tu, maksud, gimana, ...</td>\n",
              "    </tr>\n",
              "    <tr>\n",
              "      <th>2</th>\n",
              "      <td>Sun May 11 10:44:13 +0000 2025</td>\n",
              "      <td>4</td>\n",
              "      <td>Ini pas awal vidio Yeye kaya nyandar di bahu K...</td>\n",
              "      <td>in</td>\n",
              "      <td>1</td>\n",
              "      <td>BeUrCLOUDS</td>\n",
              "      <td>Ini pas awal vidio Yeye kaya nyandar di bahu K...</td>\n",
              "      <td>ini pas awal vidio yeye kaya nyandar di bahu k...</td>\n",
              "      <td>[ini, pas, awal, vidio, yeye, kaya, nyandar, d...</td>\n",
              "      <td>[pas, vidio, yeye, kaya, nyandar, bahu, kyukyu...</td>\n",
              "      <td>[pas, vidio, yeye, kaya, nyandar, bahu, kyukyu...</td>\n",
              "    </tr>\n",
              "    <tr>\n",
              "      <th>3</th>\n",
              "      <td>Sun May 11 03:59:24 +0000 2025</td>\n",
              "      <td>2128</td>\n",
              "      <td>kdm resident playbook Ini tuh dowon yiyoung p...</td>\n",
              "      <td>in</td>\n",
              "      <td>198</td>\n",
              "      <td>kdrama_menfess</td>\n",
              "      <td>kdm resident playbook Ini tuh dowon yiyoung pe...</td>\n",
              "      <td>kdm resident playbook ini tuh dowon yiyoung pe...</td>\n",
              "      <td>[kdm, resident, playbook, ini, tuh, dowon, yiy...</td>\n",
              "      <td>[kdm, resident, playbook, tuh, dowon, yiyoung,...</td>\n",
              "      <td>[kdm, resident, playbook, tuh, dowon, yiyoung,...</td>\n",
              "    </tr>\n",
              "    <tr>\n",
              "      <th>4</th>\n",
              "      <td>Sun May 11 10:38:47 +0000 2025</td>\n",
              "      <td>438</td>\n",
              "      <td>Bu lena liat kelakuan bucin adiknya AQEELA TER...</td>\n",
              "      <td>in</td>\n",
              "      <td>69</td>\n",
              "      <td>staraquars</td>\n",
              "      <td>Bu lena liat kelakuan bucin adiknya AQEELA TER...</td>\n",
              "      <td>bu lena liat kelakuan bucin adiknya aqeela ter...</td>\n",
              "      <td>[bu, lena, liat, kelakuan, bucin, adiknya, aqe...</td>\n",
              "      <td>[bu, lena, liat, kelakuan, bucin, adiknya, aqe...</td>\n",
              "      <td>[bu, lena, liat, laku, bucin, adik, aqeela, te...</td>\n",
              "    </tr>\n",
              "    <tr>\n",
              "      <th>...</th>\n",
              "      <td>...</td>\n",
              "      <td>...</td>\n",
              "      <td>...</td>\n",
              "      <td>...</td>\n",
              "      <td>...</td>\n",
              "      <td>...</td>\n",
              "      <td>...</td>\n",
              "      <td>...</td>\n",
              "      <td>...</td>\n",
              "      <td>...</td>\n",
              "      <td>...</td>\n",
              "    </tr>\n",
              "    <tr>\n",
              "      <th>610</th>\n",
              "      <td>Sun May 11 10:55:50 +0000 2025</td>\n",
              "      <td>12</td>\n",
              "      <td>gue bisa kok bales argumentasi kalian pake kat...</td>\n",
              "      <td>in</td>\n",
              "      <td>0</td>\n",
              "      <td>redhorse44</td>\n",
              "      <td>gue bisa kok bales argumentasi kalian pake kat...</td>\n",
              "      <td>gue bisa kok bales argumentasi kalian pake kat...</td>\n",
              "      <td>[gue, bisa, kok, bales, argumentasi, kalian, p...</td>\n",
              "      <td>[gue, bales, argumentasi, pake, sopan, gabisa,...</td>\n",
              "      <td>[gue, bales, argumentasi, pake, sopan, gabisa,...</td>\n",
              "    </tr>\n",
              "    <tr>\n",
              "      <th>611</th>\n",
              "      <td>Wed May 07 15:40:09 +0000 2025</td>\n",
              "      <td>1410</td>\n",
              "      <td>SKSKSKSKSKSKSKSK ternyata gini ya rasanya buc...</td>\n",
              "      <td>in</td>\n",
              "      <td>33</td>\n",
              "      <td>tanyarlfes</td>\n",
              "      <td>SKSKSKSKSKSKSKSK ternyata gini ya rasanya buci...</td>\n",
              "      <td>sksksksksksksksk ternyata gini ya rasanya buci...</td>\n",
              "      <td>[sksksksksksksksk, ternyata, gini, ya, rasanya...</td>\n",
              "      <td>[sksksksksksksksk, gini, ya, bucin, kaya, mela...</td>\n",
              "      <td>[sksksksksksksksk, gin, ya, bucin, kaya, layan...</td>\n",
              "    </tr>\n",
              "    <tr>\n",
              "      <th>612</th>\n",
              "      <td>Sat May 10 09:39:25 +0000 2025</td>\n",
              "      <td>274</td>\n",
              "      <td>Mav kalau sensitip tapi kalian anak UT! yang k...</td>\n",
              "      <td>in</td>\n",
              "      <td>13</td>\n",
              "      <td>utfess</td>\n",
              "      <td>Mav kalau sensitip tapi kalian anak UT yang ku...</td>\n",
              "      <td>mav kalau sensitip tapi kalian anak ut yang ku...</td>\n",
              "      <td>[mav, kalau, sensitip, tapi, kalian, anak, ut,...</td>\n",
              "      <td>[mav, sensitip, anak, ut, kuliah, kerja, tuh, ...</td>\n",
              "      <td>[mav, sensitip, anak, ut, kuliah, kerja, tuh, ...</td>\n",
              "    </tr>\n",
              "    <tr>\n",
              "      <th>613</th>\n",
              "      <td>Sun May 11 06:33:43 +0000 2025</td>\n",
              "      <td>428</td>\n",
              "      <td>mae ning sama gem sama aja ya kalo udah ditany...</td>\n",
              "      <td>in</td>\n",
              "      <td>80</td>\n",
              "      <td>dycuri</td>\n",
              "      <td>mae ning sama gem sama aja ya kalo udah ditany...</td>\n",
              "      <td>mae ning sama gem sama aja ya kalo udah ditany...</td>\n",
              "      <td>[mae, ning, sama, gem, sama, aja, ya, kalo, ud...</td>\n",
              "      <td>[mae, ning, gem, aja, ya, kalo, udah, ditanyai...</td>\n",
              "      <td>[mae, ning, gem, aja, ya, kalo, udah, ditanyai...</td>\n",
              "    </tr>\n",
              "    <tr>\n",
              "      <th>614</th>\n",
              "      <td>Sat May 10 04:35:21 +0000 2025</td>\n",
              "      <td>188</td>\n",
              "      <td>______ ______ ______ ______ ______ ______ ← yo...</td>\n",
              "      <td>in</td>\n",
              "      <td>31</td>\n",
              "      <td>bakejunhyuk</td>\n",
              "      <td>yonghoon bucin cowo gue minggir lu semua</td>\n",
              "      <td>yonghoon bucin cowo gue minggir lu semua</td>\n",
              "      <td>[yonghoon, bucin, cowo, gue, minggir, lu, semua]</td>\n",
              "      <td>[yonghoon, bucin, cowo, gue, minggir, lu]</td>\n",
              "      <td>[yonghoon, bucin, cowo, gue, minggir, lu]</td>\n",
              "    </tr>\n",
              "  </tbody>\n",
              "</table>\n",
              "<p>615 rows × 11 columns</p>\n",
              "</div>\n",
              "    <div class=\"colab-df-buttons\">\n",
              "\n",
              "  <div class=\"colab-df-container\">\n",
              "    <button class=\"colab-df-convert\" onclick=\"convertToInteractive('df-227c91a6-90f3-4216-96d9-ae13c6bf0e44')\"\n",
              "            title=\"Convert this dataframe to an interactive table.\"\n",
              "            style=\"display:none;\">\n",
              "\n",
              "  <svg xmlns=\"http://www.w3.org/2000/svg\" height=\"24px\" viewBox=\"0 -960 960 960\">\n",
              "    <path d=\"M120-120v-720h720v720H120Zm60-500h600v-160H180v160Zm220 220h160v-160H400v160Zm0 220h160v-160H400v160ZM180-400h160v-160H180v160Zm440 0h160v-160H620v160ZM180-180h160v-160H180v160Zm440 0h160v-160H620v160Z\"/>\n",
              "  </svg>\n",
              "    </button>\n",
              "\n",
              "  <style>\n",
              "    .colab-df-container {\n",
              "      display:flex;\n",
              "      gap: 12px;\n",
              "    }\n",
              "\n",
              "    .colab-df-convert {\n",
              "      background-color: #E8F0FE;\n",
              "      border: none;\n",
              "      border-radius: 50%;\n",
              "      cursor: pointer;\n",
              "      display: none;\n",
              "      fill: #1967D2;\n",
              "      height: 32px;\n",
              "      padding: 0 0 0 0;\n",
              "      width: 32px;\n",
              "    }\n",
              "\n",
              "    .colab-df-convert:hover {\n",
              "      background-color: #E2EBFA;\n",
              "      box-shadow: 0px 1px 2px rgba(60, 64, 67, 0.3), 0px 1px 3px 1px rgba(60, 64, 67, 0.15);\n",
              "      fill: #174EA6;\n",
              "    }\n",
              "\n",
              "    .colab-df-buttons div {\n",
              "      margin-bottom: 4px;\n",
              "    }\n",
              "\n",
              "    [theme=dark] .colab-df-convert {\n",
              "      background-color: #3B4455;\n",
              "      fill: #D2E3FC;\n",
              "    }\n",
              "\n",
              "    [theme=dark] .colab-df-convert:hover {\n",
              "      background-color: #434B5C;\n",
              "      box-shadow: 0px 1px 3px 1px rgba(0, 0, 0, 0.15);\n",
              "      filter: drop-shadow(0px 1px 2px rgba(0, 0, 0, 0.3));\n",
              "      fill: #FFFFFF;\n",
              "    }\n",
              "  </style>\n",
              "\n",
              "    <script>\n",
              "      const buttonEl =\n",
              "        document.querySelector('#df-227c91a6-90f3-4216-96d9-ae13c6bf0e44 button.colab-df-convert');\n",
              "      buttonEl.style.display =\n",
              "        google.colab.kernel.accessAllowed ? 'block' : 'none';\n",
              "\n",
              "      async function convertToInteractive(key) {\n",
              "        const element = document.querySelector('#df-227c91a6-90f3-4216-96d9-ae13c6bf0e44');\n",
              "        const dataTable =\n",
              "          await google.colab.kernel.invokeFunction('convertToInteractive',\n",
              "                                                    [key], {});\n",
              "        if (!dataTable) return;\n",
              "\n",
              "        const docLinkHtml = 'Like what you see? Visit the ' +\n",
              "          '<a target=\"_blank\" href=https://colab.research.google.com/notebooks/data_table.ipynb>data table notebook</a>'\n",
              "          + ' to learn more about interactive tables.';\n",
              "        element.innerHTML = '';\n",
              "        dataTable['output_type'] = 'display_data';\n",
              "        await google.colab.output.renderOutput(dataTable, element);\n",
              "        const docLink = document.createElement('div');\n",
              "        docLink.innerHTML = docLinkHtml;\n",
              "        element.appendChild(docLink);\n",
              "      }\n",
              "    </script>\n",
              "  </div>\n",
              "\n",
              "\n",
              "    <div id=\"df-ea60459a-a958-4eda-bbb2-42914729ca74\">\n",
              "      <button class=\"colab-df-quickchart\" onclick=\"quickchart('df-ea60459a-a958-4eda-bbb2-42914729ca74')\"\n",
              "                title=\"Suggest charts\"\n",
              "                style=\"display:none;\">\n",
              "\n",
              "<svg xmlns=\"http://www.w3.org/2000/svg\" height=\"24px\"viewBox=\"0 0 24 24\"\n",
              "     width=\"24px\">\n",
              "    <g>\n",
              "        <path d=\"M19 3H5c-1.1 0-2 .9-2 2v14c0 1.1.9 2 2 2h14c1.1 0 2-.9 2-2V5c0-1.1-.9-2-2-2zM9 17H7v-7h2v7zm4 0h-2V7h2v10zm4 0h-2v-4h2v4z\"/>\n",
              "    </g>\n",
              "</svg>\n",
              "      </button>\n",
              "\n",
              "<style>\n",
              "  .colab-df-quickchart {\n",
              "      --bg-color: #E8F0FE;\n",
              "      --fill-color: #1967D2;\n",
              "      --hover-bg-color: #E2EBFA;\n",
              "      --hover-fill-color: #174EA6;\n",
              "      --disabled-fill-color: #AAA;\n",
              "      --disabled-bg-color: #DDD;\n",
              "  }\n",
              "\n",
              "  [theme=dark] .colab-df-quickchart {\n",
              "      --bg-color: #3B4455;\n",
              "      --fill-color: #D2E3FC;\n",
              "      --hover-bg-color: #434B5C;\n",
              "      --hover-fill-color: #FFFFFF;\n",
              "      --disabled-bg-color: #3B4455;\n",
              "      --disabled-fill-color: #666;\n",
              "  }\n",
              "\n",
              "  .colab-df-quickchart {\n",
              "    background-color: var(--bg-color);\n",
              "    border: none;\n",
              "    border-radius: 50%;\n",
              "    cursor: pointer;\n",
              "    display: none;\n",
              "    fill: var(--fill-color);\n",
              "    height: 32px;\n",
              "    padding: 0;\n",
              "    width: 32px;\n",
              "  }\n",
              "\n",
              "  .colab-df-quickchart:hover {\n",
              "    background-color: var(--hover-bg-color);\n",
              "    box-shadow: 0 1px 2px rgba(60, 64, 67, 0.3), 0 1px 3px 1px rgba(60, 64, 67, 0.15);\n",
              "    fill: var(--button-hover-fill-color);\n",
              "  }\n",
              "\n",
              "  .colab-df-quickchart-complete:disabled,\n",
              "  .colab-df-quickchart-complete:disabled:hover {\n",
              "    background-color: var(--disabled-bg-color);\n",
              "    fill: var(--disabled-fill-color);\n",
              "    box-shadow: none;\n",
              "  }\n",
              "\n",
              "  .colab-df-spinner {\n",
              "    border: 2px solid var(--fill-color);\n",
              "    border-color: transparent;\n",
              "    border-bottom-color: var(--fill-color);\n",
              "    animation:\n",
              "      spin 1s steps(1) infinite;\n",
              "  }\n",
              "\n",
              "  @keyframes spin {\n",
              "    0% {\n",
              "      border-color: transparent;\n",
              "      border-bottom-color: var(--fill-color);\n",
              "      border-left-color: var(--fill-color);\n",
              "    }\n",
              "    20% {\n",
              "      border-color: transparent;\n",
              "      border-left-color: var(--fill-color);\n",
              "      border-top-color: var(--fill-color);\n",
              "    }\n",
              "    30% {\n",
              "      border-color: transparent;\n",
              "      border-left-color: var(--fill-color);\n",
              "      border-top-color: var(--fill-color);\n",
              "      border-right-color: var(--fill-color);\n",
              "    }\n",
              "    40% {\n",
              "      border-color: transparent;\n",
              "      border-right-color: var(--fill-color);\n",
              "      border-top-color: var(--fill-color);\n",
              "    }\n",
              "    60% {\n",
              "      border-color: transparent;\n",
              "      border-right-color: var(--fill-color);\n",
              "    }\n",
              "    80% {\n",
              "      border-color: transparent;\n",
              "      border-right-color: var(--fill-color);\n",
              "      border-bottom-color: var(--fill-color);\n",
              "    }\n",
              "    90% {\n",
              "      border-color: transparent;\n",
              "      border-bottom-color: var(--fill-color);\n",
              "    }\n",
              "  }\n",
              "</style>\n",
              "\n",
              "      <script>\n",
              "        async function quickchart(key) {\n",
              "          const quickchartButtonEl =\n",
              "            document.querySelector('#' + key + ' button');\n",
              "          quickchartButtonEl.disabled = true;  // To prevent multiple clicks.\n",
              "          quickchartButtonEl.classList.add('colab-df-spinner');\n",
              "          try {\n",
              "            const charts = await google.colab.kernel.invokeFunction(\n",
              "                'suggestCharts', [key], {});\n",
              "          } catch (error) {\n",
              "            console.error('Error during call to suggestCharts:', error);\n",
              "          }\n",
              "          quickchartButtonEl.classList.remove('colab-df-spinner');\n",
              "          quickchartButtonEl.classList.add('colab-df-quickchart-complete');\n",
              "        }\n",
              "        (() => {\n",
              "          let quickchartButtonEl =\n",
              "            document.querySelector('#df-ea60459a-a958-4eda-bbb2-42914729ca74 button');\n",
              "          quickchartButtonEl.style.display =\n",
              "            google.colab.kernel.accessAllowed ? 'block' : 'none';\n",
              "        })();\n",
              "      </script>\n",
              "    </div>\n",
              "\n",
              "  <div id=\"id_4bad8a37-918c-4f36-8462-bb86a09fd3b4\">\n",
              "    <style>\n",
              "      .colab-df-generate {\n",
              "        background-color: #E8F0FE;\n",
              "        border: none;\n",
              "        border-radius: 50%;\n",
              "        cursor: pointer;\n",
              "        display: none;\n",
              "        fill: #1967D2;\n",
              "        height: 32px;\n",
              "        padding: 0 0 0 0;\n",
              "        width: 32px;\n",
              "      }\n",
              "\n",
              "      .colab-df-generate:hover {\n",
              "        background-color: #E2EBFA;\n",
              "        box-shadow: 0px 1px 2px rgba(60, 64, 67, 0.3), 0px 1px 3px 1px rgba(60, 64, 67, 0.15);\n",
              "        fill: #174EA6;\n",
              "      }\n",
              "\n",
              "      [theme=dark] .colab-df-generate {\n",
              "        background-color: #3B4455;\n",
              "        fill: #D2E3FC;\n",
              "      }\n",
              "\n",
              "      [theme=dark] .colab-df-generate:hover {\n",
              "        background-color: #434B5C;\n",
              "        box-shadow: 0px 1px 3px 1px rgba(0, 0, 0, 0.15);\n",
              "        filter: drop-shadow(0px 1px 2px rgba(0, 0, 0, 0.3));\n",
              "        fill: #FFFFFF;\n",
              "      }\n",
              "    </style>\n",
              "    <button class=\"colab-df-generate\" onclick=\"generateWithVariable('df')\"\n",
              "            title=\"Generate code using this dataframe.\"\n",
              "            style=\"display:none;\">\n",
              "\n",
              "  <svg xmlns=\"http://www.w3.org/2000/svg\" height=\"24px\"viewBox=\"0 0 24 24\"\n",
              "       width=\"24px\">\n",
              "    <path d=\"M7,19H8.4L18.45,9,17,7.55,7,17.6ZM5,21V16.75L18.45,3.32a2,2,0,0,1,2.83,0l1.4,1.43a1.91,1.91,0,0,1,.58,1.4,1.91,1.91,0,0,1-.58,1.4L9.25,21ZM18.45,9,17,7.55Zm-12,3A5.31,5.31,0,0,0,4.9,8.1,5.31,5.31,0,0,0,1,6.5,5.31,5.31,0,0,0,4.9,4.9,5.31,5.31,0,0,0,6.5,1,5.31,5.31,0,0,0,8.1,4.9,5.31,5.31,0,0,0,12,6.5,5.46,5.46,0,0,0,6.5,12Z\"/>\n",
              "  </svg>\n",
              "    </button>\n",
              "    <script>\n",
              "      (() => {\n",
              "      const buttonEl =\n",
              "        document.querySelector('#id_4bad8a37-918c-4f36-8462-bb86a09fd3b4 button.colab-df-generate');\n",
              "      buttonEl.style.display =\n",
              "        google.colab.kernel.accessAllowed ? 'block' : 'none';\n",
              "\n",
              "      buttonEl.onclick = () => {\n",
              "        google.colab.notebook.generateWithVariable('df');\n",
              "      }\n",
              "      })();\n",
              "    </script>\n",
              "  </div>\n",
              "\n",
              "    </div>\n",
              "  </div>\n"
            ],
            "application/vnd.google.colaboratory.intrinsic+json": {
              "type": "dataframe",
              "variable_name": "df",
              "summary": "{\n  \"name\": \"df\",\n  \"rows\": 615,\n  \"fields\": [\n    {\n      \"column\": \"created_at\",\n      \"properties\": {\n        \"dtype\": \"object\",\n        \"num_unique_values\": 289,\n        \"samples\": [\n          \"Fri May 02 07:14:16 +0000 2025\",\n          \"Tue May 06 09:01:34 +0000 2025\",\n          \"Tue May 06 11:28:00 +0000 2025\"\n        ],\n        \"semantic_type\": \"\",\n        \"description\": \"\"\n      }\n    },\n    {\n      \"column\": \"favorite_count\",\n      \"properties\": {\n        \"dtype\": \"number\",\n        \"std\": 3418,\n        \"min\": 1,\n        \"max\": 20029,\n        \"num_unique_values\": 340,\n        \"samples\": [\n          331,\n          3917,\n          1015\n        ],\n        \"semantic_type\": \"\",\n        \"description\": \"\"\n      }\n    },\n    {\n      \"column\": \"full_text\",\n      \"properties\": {\n        \"dtype\": \"category\",\n        \"num_unique_values\": 289,\n        \"samples\": [\n          \"POV pas mau bucin tiba tiba ketahuan orang nya https://t.co/uaAcm70z74\",\n          \"A part of ours. huru-hara si bucin omega Nk harem! https://t.co/qUzq5uLRTD\",\n          \"Udah gak ketolong bro bucin banget gue sama manusia ini https://t.co/tZSz7hAM56\"\n        ],\n        \"semantic_type\": \"\",\n        \"description\": \"\"\n      }\n    },\n    {\n      \"column\": \"lang\",\n      \"properties\": {\n        \"dtype\": \"category\",\n        \"num_unique_values\": 8,\n        \"samples\": [\n          \"en\",\n          \"und\",\n          \"in\"\n        ],\n        \"semantic_type\": \"\",\n        \"description\": \"\"\n      }\n    },\n    {\n      \"column\": \"retweet_count\",\n      \"properties\": {\n        \"dtype\": \"number\",\n        \"std\": 303,\n        \"min\": 0,\n        \"max\": 1652,\n        \"num_unique_values\": 165,\n        \"samples\": [\n          36,\n          91,\n          127\n        ],\n        \"semantic_type\": \"\",\n        \"description\": \"\"\n      }\n    },\n    {\n      \"column\": \"username\",\n      \"properties\": {\n        \"dtype\": \"category\",\n        \"num_unique_values\": 209,\n        \"samples\": [\n          \"cheyriesm\",\n          \"winniedepreshit\",\n          \"radotharu\"\n        ],\n        \"semantic_type\": \"\",\n        \"description\": \"\"\n      }\n    },\n    {\n      \"column\": \"cleaned_text\",\n      \"properties\": {\n        \"dtype\": \"category\",\n        \"num_unique_values\": 289,\n        \"samples\": [\n          \"POV pas mau bucin tiba tiba ketahuan orang nya\",\n          \"A part of ours huruhara si bucin omega Nk harem\",\n          \"Udah gak ketolong bro bucin banget gue sama manusia ini\"\n        ],\n        \"semantic_type\": \"\",\n        \"description\": \"\"\n      }\n    },\n    {\n      \"column\": \"case_folded\",\n      \"properties\": {\n        \"dtype\": \"category\",\n        \"num_unique_values\": 289,\n        \"samples\": [\n          \"pov pas mau bucin tiba tiba ketahuan orang nya\",\n          \"a part of ours huruhara si bucin omega nk harem\",\n          \"udah gak ketolong bro bucin banget gue sama manusia ini\"\n        ],\n        \"semantic_type\": \"\",\n        \"description\": \"\"\n      }\n    },\n    {\n      \"column\": \"tokens\",\n      \"properties\": {\n        \"dtype\": \"object\",\n        \"semantic_type\": \"\",\n        \"description\": \"\"\n      }\n    },\n    {\n      \"column\": \"filtered_tokens\",\n      \"properties\": {\n        \"dtype\": \"object\",\n        \"semantic_type\": \"\",\n        \"description\": \"\"\n      }\n    },\n    {\n      \"column\": \"stemmed_tokens\",\n      \"properties\": {\n        \"dtype\": \"object\",\n        \"semantic_type\": \"\",\n        \"description\": \"\"\n      }\n    }\n  ]\n}"
            }
          },
          "metadata": {},
          "execution_count": 60
        }
      ]
    },
    {
      "cell_type": "markdown",
      "source": [
        "**Example output**"
      ],
      "metadata": {
        "id": "6B60f2yW45px"
      }
    },
    {
      "cell_type": "code",
      "source": [
        "# Example output\n",
        "print('\\nPreprocessing Example:\\n')\n",
        "index = int(input('Enter index of the tweet: '))\n",
        "print('Original Text\\t:\\n\\t-', df['full_text'][index])  # Adjust column name\n",
        "print('Cleaned Text\\t:\\n\\t-', df['cleaned_text'][index])\n",
        "print('Case Folded\\t:\\n\\t-', df['case_folded'][index])\n",
        "print('Tokens\\t:\\n\\t-', df['tokens'][index])\n",
        "print('Filtered Tokens\\t:\\n\\t-', df['filtered_tokens'][index])\n",
        "print('Stemmed Tokens\\t:\\n\\t-', df['stemmed_tokens'][index])"
      ],
      "metadata": {
        "colab": {
          "base_uri": "https://localhost:8080/"
        },
        "id": "iwB3s7-u5DmT",
        "outputId": "c226ab06-21b4-4214-8b69-c8b13d4d9e34"
      },
      "execution_count": null,
      "outputs": [
        {
          "output_type": "stream",
          "name": "stdout",
          "text": [
            "\n",
            "Preprocessing Example:\n",
            "\n",
            "Enter index of the tweet: 11\n",
            "Original Text\t:\n",
            "\t- #JuniorMark : onetweet AU. ketika Juna bucin level max dan Marka pusing pacarnya kok bawel banget untung sayang. https://t.co/Zpp3JnDq1q\n",
            "Cleaned Text\t:\n",
            "\t- onetweet AU ketika Juna bucin level max dan Marka pusing pacarnya kok bawel banget untung sayang\n",
            "Case Folded\t:\n",
            "\t- onetweet au ketika juna bucin level max dan marka pusing pacarnya kok bawel banget untung sayang\n",
            "Tokens\t:\n",
            "\t- ['onetweet', 'au', 'ketika', 'juna', 'bucin', 'level', 'max', 'dan', 'marka', 'pusing', 'pacarnya', 'kok', 'bawel', 'banget', 'untung', 'sayang']\n",
            "Filtered Tokens\t:\n",
            "\t- ['onetweet', 'au', 'juna', 'bucin', 'level', 'max', 'marka', 'pusing', 'pacarnya', 'bawel', 'banget', 'untung', 'sayang']\n",
            "Stemmed Tokens\t:\n",
            "\t- ['onetweet', 'au', 'juna', 'bucin', 'level', 'max', 'marka', 'pusing', 'pacar', 'bawel', 'banget', 'untung', 'sayang']\n"
          ]
        }
      ]
    }
  ]
}