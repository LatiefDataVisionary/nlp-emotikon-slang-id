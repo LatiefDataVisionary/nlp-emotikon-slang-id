{
  "nbformat": 4,
  "nbformat_minor": 0,
  "metadata": {
    "colab": {
      "provenance": [],
      "authorship_tag": "ABX9TyNUuvfO4hwB+tTgo5IkoaxL",
      "include_colab_link": true
    },
    "kernelspec": {
      "name": "python3",
      "display_name": "Python 3"
    },
    "language_info": {
      "name": "python"
    }
  },
  "cells": [
    {
      "cell_type": "markdown",
      "metadata": {
        "id": "view-in-github",
        "colab_type": "text"
      },
      "source": [
        "<a href=\"https://colab.research.google.com/github/LatiefDataVisionary/nlp-emotikon-slang-id/blob/main/merged_bucin_tweet.ipynb\" target=\"_parent\"><img src=\"https://colab.research.google.com/assets/colab-badge.svg\" alt=\"Open In Colab\"/></a>"
      ]
    },
    {
      "cell_type": "code",
      "execution_count": null,
      "metadata": {
        "id": "GHBGmN_HUNhp"
      },
      "outputs": [],
      "source": [
        "from IPython import get_ipython\n",
        "from IPython.display import display\n",
        "import requests\n",
        "import os\n",
        "import pandas as pd\n",
        "import glob"
      ]
    },
    {
      "cell_type": "markdown",
      "source": [
        "**PROCESS NAME:**\n",
        "\"Merge and Clean Crawling Data Bucin\""
      ],
      "metadata": {
        "id": "rhSlRoOmVNaU"
      }
    },
    {
      "cell_type": "code",
      "source": [
        "# 1. Define the URL of the raw data directory on Github\n",
        "url = \"https://raw.githubusercontent.com/LatiefDataVisionary/nlp-emotikon-slang-id/main/data/raw/\""
      ],
      "metadata": {
        "id": "zUB0K-rjXKAr"
      },
      "execution_count": 10,
      "outputs": []
    },
    {
      "cell_type": "code",
      "source": [
        "# 2. Define the file pattern\n",
        "file_pattern = 'twee_bucin*.csv'"
      ],
      "metadata": {
        "id": "rkUGHV6eXXh0"
      },
      "execution_count": 11,
      "outputs": []
    },
    {
      "cell_type": "code",
      "source": [
        "# 3. Create a directory to store downloaded files, if it doesn't exist\n",
        "os.makedirs('downloaded_data', exist_ok=True)"
      ],
      "metadata": {
        "id": "3uh49YuMXkew"
      },
      "execution_count": 12,
      "outputs": []
    },
    {
      "cell_type": "code",
      "source": [
        "# 4. Download all files matching the pattern\n",
        "raw_data_list = ['{twee_bucin1}.csv','{twee_bucin2}.csv','{twee_bucin3}.csv',\n",
        "    '{twee_bucin4}.csv','{twee_bucin5}.csv','{twee_bucin6}.csv',\n",
        "    '{twee_bucin8}.csv','{twee_bucin9}.csv','{twee_bucin10}.csv',\n",
        "    '{twee_bucin12}.csv','{twee_bucin15}.csv','{twee_bucin20}.csv',\n",
        "    '{twee_bucin22}.csv','{twee_bucin24}.csv','{twee_bucin26}.csv',\n",
        "    '{twee_bucin25}.csv']\n",
        "\n",
        "for file_name in raw_data_list:\n",
        "  # Construct the full URL for each file\n",
        "  file_url = url + file_name\n",
        "\n",
        "  # Download the file using requests\n",
        "  response = requests.get(file_url)\n",
        "  response.raise_for_status() # Raise an exception for non-200 status codes\n",
        "\n",
        "  # Save the file to the downloaded_data directory\n",
        "  file_path = os.path.join('downloaded_data', file_name)\n",
        "  with open(file_path, 'wb') as f:\n",
        "    f.write(response.content)\n",
        "  print(f'Downloaded {file_name} to {file_path}')\n",
        "\n"
      ],
      "metadata": {
        "id": "Mxx7UCWQXkcA",
        "colab": {
          "base_uri": "https://localhost:8080/"
        },
        "outputId": "6ccb3575-ac58-4bff-868c-fe263c58a59e"
      },
      "execution_count": 14,
      "outputs": [
        {
          "output_type": "stream",
          "name": "stdout",
          "text": [
            "Downloaded {twee_bucin1}.csv to downloaded_data/{twee_bucin1}.csv\n",
            "Downloaded {twee_bucin2}.csv to downloaded_data/{twee_bucin2}.csv\n",
            "Downloaded {twee_bucin3}.csv to downloaded_data/{twee_bucin3}.csv\n",
            "Downloaded {twee_bucin4}.csv to downloaded_data/{twee_bucin4}.csv\n",
            "Downloaded {twee_bucin5}.csv to downloaded_data/{twee_bucin5}.csv\n",
            "Downloaded {twee_bucin6}.csv to downloaded_data/{twee_bucin6}.csv\n",
            "Downloaded {twee_bucin8}.csv to downloaded_data/{twee_bucin8}.csv\n",
            "Downloaded {twee_bucin9}.csv to downloaded_data/{twee_bucin9}.csv\n",
            "Downloaded {twee_bucin10}.csv to downloaded_data/{twee_bucin10}.csv\n",
            "Downloaded {twee_bucin12}.csv to downloaded_data/{twee_bucin12}.csv\n",
            "Downloaded {twee_bucin15}.csv to downloaded_data/{twee_bucin15}.csv\n",
            "Downloaded {twee_bucin20}.csv to downloaded_data/{twee_bucin20}.csv\n",
            "Downloaded {twee_bucin22}.csv to downloaded_data/{twee_bucin22}.csv\n",
            "Downloaded {twee_bucin24}.csv to downloaded_data/{twee_bucin24}.csv\n",
            "Downloaded {twee_bucin26}.csv to downloaded_data/{twee_bucin26}.csv\n",
            "Downloaded {twee_bucin25}.csv to downloaded_data/{twee_bucin25}.csv\n"
          ]
        }
      ]
    },
    {
      "cell_type": "code",
      "source": [
        "# 5. Find all CSV files with the pattern twee_bucin*.csv\n",
        "all_files = glob.glob('downloaded_data/{twee_bucin*}.csv')"
      ],
      "metadata": {
        "id": "SHpmgBZUUbzR"
      },
      "execution_count": 18,
      "outputs": []
    },
    {
      "cell_type": "code",
      "source": [
        "# 6. Ensure files are found\n",
        "if not all_files:\n",
        "    raise ValueError(\"No CSV files found with the pattern twee_bucin*.csv\")"
      ],
      "metadata": {
        "id": "MPqqCjFcUbwz"
      },
      "execution_count": 19,
      "outputs": []
    },
    {
      "cell_type": "code",
      "source": [
        "# 7. Merge all files\n",
        "merged_df = pd.concat(\n",
        "    (pd.read_csv(f, encoding='utf-8') for f in all_files),\n",
        "    ignore_index=True\n",
        ")"
      ],
      "metadata": {
        "id": "bUL8o12LUbuB"
      },
      "execution_count": 21,
      "outputs": []
    },
    {
      "cell_type": "code",
      "source": [
        "# 8. Remove duplicates based on the 'Tweet' column\n",
        "merged_df = merged_df.drop_duplicates()"
      ],
      "metadata": {
        "id": "LaIafMOsUbqE"
      },
      "execution_count": 24,
      "outputs": []
    },
    {
      "cell_type": "code",
      "source": [
        "merged_df.head()"
      ],
      "metadata": {
        "colab": {
          "base_uri": "https://localhost:8080/",
          "height": 642
        },
        "id": "ozbRhWmkcY4J",
        "outputId": "7b9c9b3a-b53f-4bda-cacf-2d9d0076bdf8"
      },
      "execution_count": 25,
      "outputs": [
        {
          "output_type": "execute_result",
          "data": {
            "text/plain": [
              "   conversation_id_str                      created_at  favorite_count  \\\n",
              "0  1921236320413687871  Sat May 10 16:10:08 +0000 2025            9190   \n",
              "1  1920994897315733648  Sat May 10 00:10:48 +0000 2025           19038   \n",
              "2  1921516689079820765  Sun May 11 10:44:13 +0000 2025               4   \n",
              "3  1921414816133996832  Sun May 11 03:59:24 +0000 2025            2128   \n",
              "4  1921515322135232681  Sun May 11 10:38:47 +0000 2025             438   \n",
              "\n",
              "                                           full_text               id_str  \\\n",
              "0   kdm ️ resident playbook ️ pict atas minta peg...  1921236320413687871   \n",
              "1  Jualan tapi julidin customer tu maksudnya gima...  1920994897315733648   \n",
              "2  Ini pas awal vidio Yeye kaya nyandar di bahu K...  1921516689079820765   \n",
              "3   kdm resident playbook Ini tuh dowon yiyoung p...  1921414816133996832   \n",
              "4  Bu lena liat kelakuan bucin adiknya AQEELA TER...  1921515322135232681   \n",
              "\n",
              "                                           image_url in_reply_to_screen_name  \\\n",
              "0    https://pbs.twimg.com/media/GqmaQGPWcAAMaS9.jpg                     NaN   \n",
              "1    https://pbs.twimg.com/media/Gqi-q2RXgAAIW_5.jpg                     NaN   \n",
              "2    https://pbs.twimg.com/media/GqqZOtGaUAAgDdP.jpg                     NaN   \n",
              "3    https://pbs.twimg.com/media/Gqo8l6vW0AAbCWI.jpg                     NaN   \n",
              "4  https://pbs.twimg.com/ext_tw_video_thumb/19215...                     NaN   \n",
              "\n",
              "  lang       location  quote_count  reply_count  retweet_count  \\\n",
              "0   in        Rules 👇          452          324           1044   \n",
              "1   in      Indonesia          684          593           1319   \n",
              "2   in  dusun majasri            0            0              1   \n",
              "3   in        Rules 👇           55           77            198   \n",
              "4   in            NaN            5            1             69   \n",
              "\n",
              "                                           tweet_url          user_id_str  \\\n",
              "0  https://x.com/kdrama_menfess/status/1921236320...  1012588105591713793   \n",
              "1  https://x.com/Maeliani07/status/19209948973157...  1659026628071288835   \n",
              "2  https://x.com/BeUrCLOUDS/status/19215166890798...           2995021591   \n",
              "3  https://x.com/kdrama_menfess/status/1921414816...  1012588105591713793   \n",
              "4  https://x.com/staraquars/status/19215153221352...  1692804014994599937   \n",
              "\n",
              "         username  \n",
              "0  kdrama_menfess  \n",
              "1      Maeliani07  \n",
              "2      BeUrCLOUDS  \n",
              "3  kdrama_menfess  \n",
              "4      staraquars  "
            ],
            "text/html": [
              "\n",
              "  <div id=\"df-d80b3491-7fd2-4490-91ac-1455d4e08b78\" class=\"colab-df-container\">\n",
              "    <div>\n",
              "<style scoped>\n",
              "    .dataframe tbody tr th:only-of-type {\n",
              "        vertical-align: middle;\n",
              "    }\n",
              "\n",
              "    .dataframe tbody tr th {\n",
              "        vertical-align: top;\n",
              "    }\n",
              "\n",
              "    .dataframe thead th {\n",
              "        text-align: right;\n",
              "    }\n",
              "</style>\n",
              "<table border=\"1\" class=\"dataframe\">\n",
              "  <thead>\n",
              "    <tr style=\"text-align: right;\">\n",
              "      <th></th>\n",
              "      <th>conversation_id_str</th>\n",
              "      <th>created_at</th>\n",
              "      <th>favorite_count</th>\n",
              "      <th>full_text</th>\n",
              "      <th>id_str</th>\n",
              "      <th>image_url</th>\n",
              "      <th>in_reply_to_screen_name</th>\n",
              "      <th>lang</th>\n",
              "      <th>location</th>\n",
              "      <th>quote_count</th>\n",
              "      <th>reply_count</th>\n",
              "      <th>retweet_count</th>\n",
              "      <th>tweet_url</th>\n",
              "      <th>user_id_str</th>\n",
              "      <th>username</th>\n",
              "    </tr>\n",
              "  </thead>\n",
              "  <tbody>\n",
              "    <tr>\n",
              "      <th>0</th>\n",
              "      <td>1921236320413687871</td>\n",
              "      <td>Sat May 10 16:10:08 +0000 2025</td>\n",
              "      <td>9190</td>\n",
              "      <td>kdm ️ resident playbook ️ pict atas minta peg...</td>\n",
              "      <td>1921236320413687871</td>\n",
              "      <td>https://pbs.twimg.com/media/GqmaQGPWcAAMaS9.jpg</td>\n",
              "      <td>NaN</td>\n",
              "      <td>in</td>\n",
              "      <td>Rules 👇</td>\n",
              "      <td>452</td>\n",
              "      <td>324</td>\n",
              "      <td>1044</td>\n",
              "      <td>https://x.com/kdrama_menfess/status/1921236320...</td>\n",
              "      <td>1012588105591713793</td>\n",
              "      <td>kdrama_menfess</td>\n",
              "    </tr>\n",
              "    <tr>\n",
              "      <th>1</th>\n",
              "      <td>1920994897315733648</td>\n",
              "      <td>Sat May 10 00:10:48 +0000 2025</td>\n",
              "      <td>19038</td>\n",
              "      <td>Jualan tapi julidin customer tu maksudnya gima...</td>\n",
              "      <td>1920994897315733648</td>\n",
              "      <td>https://pbs.twimg.com/media/Gqi-q2RXgAAIW_5.jpg</td>\n",
              "      <td>NaN</td>\n",
              "      <td>in</td>\n",
              "      <td>Indonesia</td>\n",
              "      <td>684</td>\n",
              "      <td>593</td>\n",
              "      <td>1319</td>\n",
              "      <td>https://x.com/Maeliani07/status/19209948973157...</td>\n",
              "      <td>1659026628071288835</td>\n",
              "      <td>Maeliani07</td>\n",
              "    </tr>\n",
              "    <tr>\n",
              "      <th>2</th>\n",
              "      <td>1921516689079820765</td>\n",
              "      <td>Sun May 11 10:44:13 +0000 2025</td>\n",
              "      <td>4</td>\n",
              "      <td>Ini pas awal vidio Yeye kaya nyandar di bahu K...</td>\n",
              "      <td>1921516689079820765</td>\n",
              "      <td>https://pbs.twimg.com/media/GqqZOtGaUAAgDdP.jpg</td>\n",
              "      <td>NaN</td>\n",
              "      <td>in</td>\n",
              "      <td>dusun majasri</td>\n",
              "      <td>0</td>\n",
              "      <td>0</td>\n",
              "      <td>1</td>\n",
              "      <td>https://x.com/BeUrCLOUDS/status/19215166890798...</td>\n",
              "      <td>2995021591</td>\n",
              "      <td>BeUrCLOUDS</td>\n",
              "    </tr>\n",
              "    <tr>\n",
              "      <th>3</th>\n",
              "      <td>1921414816133996832</td>\n",
              "      <td>Sun May 11 03:59:24 +0000 2025</td>\n",
              "      <td>2128</td>\n",
              "      <td>kdm resident playbook Ini tuh dowon yiyoung p...</td>\n",
              "      <td>1921414816133996832</td>\n",
              "      <td>https://pbs.twimg.com/media/Gqo8l6vW0AAbCWI.jpg</td>\n",
              "      <td>NaN</td>\n",
              "      <td>in</td>\n",
              "      <td>Rules 👇</td>\n",
              "      <td>55</td>\n",
              "      <td>77</td>\n",
              "      <td>198</td>\n",
              "      <td>https://x.com/kdrama_menfess/status/1921414816...</td>\n",
              "      <td>1012588105591713793</td>\n",
              "      <td>kdrama_menfess</td>\n",
              "    </tr>\n",
              "    <tr>\n",
              "      <th>4</th>\n",
              "      <td>1921515322135232681</td>\n",
              "      <td>Sun May 11 10:38:47 +0000 2025</td>\n",
              "      <td>438</td>\n",
              "      <td>Bu lena liat kelakuan bucin adiknya AQEELA TER...</td>\n",
              "      <td>1921515322135232681</td>\n",
              "      <td>https://pbs.twimg.com/ext_tw_video_thumb/19215...</td>\n",
              "      <td>NaN</td>\n",
              "      <td>in</td>\n",
              "      <td>NaN</td>\n",
              "      <td>5</td>\n",
              "      <td>1</td>\n",
              "      <td>69</td>\n",
              "      <td>https://x.com/staraquars/status/19215153221352...</td>\n",
              "      <td>1692804014994599937</td>\n",
              "      <td>staraquars</td>\n",
              "    </tr>\n",
              "  </tbody>\n",
              "</table>\n",
              "</div>\n",
              "    <div class=\"colab-df-buttons\">\n",
              "\n",
              "  <div class=\"colab-df-container\">\n",
              "    <button class=\"colab-df-convert\" onclick=\"convertToInteractive('df-d80b3491-7fd2-4490-91ac-1455d4e08b78')\"\n",
              "            title=\"Convert this dataframe to an interactive table.\"\n",
              "            style=\"display:none;\">\n",
              "\n",
              "  <svg xmlns=\"http://www.w3.org/2000/svg\" height=\"24px\" viewBox=\"0 -960 960 960\">\n",
              "    <path d=\"M120-120v-720h720v720H120Zm60-500h600v-160H180v160Zm220 220h160v-160H400v160Zm0 220h160v-160H400v160ZM180-400h160v-160H180v160Zm440 0h160v-160H620v160ZM180-180h160v-160H180v160Zm440 0h160v-160H620v160Z\"/>\n",
              "  </svg>\n",
              "    </button>\n",
              "\n",
              "  <style>\n",
              "    .colab-df-container {\n",
              "      display:flex;\n",
              "      gap: 12px;\n",
              "    }\n",
              "\n",
              "    .colab-df-convert {\n",
              "      background-color: #E8F0FE;\n",
              "      border: none;\n",
              "      border-radius: 50%;\n",
              "      cursor: pointer;\n",
              "      display: none;\n",
              "      fill: #1967D2;\n",
              "      height: 32px;\n",
              "      padding: 0 0 0 0;\n",
              "      width: 32px;\n",
              "    }\n",
              "\n",
              "    .colab-df-convert:hover {\n",
              "      background-color: #E2EBFA;\n",
              "      box-shadow: 0px 1px 2px rgba(60, 64, 67, 0.3), 0px 1px 3px 1px rgba(60, 64, 67, 0.15);\n",
              "      fill: #174EA6;\n",
              "    }\n",
              "\n",
              "    .colab-df-buttons div {\n",
              "      margin-bottom: 4px;\n",
              "    }\n",
              "\n",
              "    [theme=dark] .colab-df-convert {\n",
              "      background-color: #3B4455;\n",
              "      fill: #D2E3FC;\n",
              "    }\n",
              "\n",
              "    [theme=dark] .colab-df-convert:hover {\n",
              "      background-color: #434B5C;\n",
              "      box-shadow: 0px 1px 3px 1px rgba(0, 0, 0, 0.15);\n",
              "      filter: drop-shadow(0px 1px 2px rgba(0, 0, 0, 0.3));\n",
              "      fill: #FFFFFF;\n",
              "    }\n",
              "  </style>\n",
              "\n",
              "    <script>\n",
              "      const buttonEl =\n",
              "        document.querySelector('#df-d80b3491-7fd2-4490-91ac-1455d4e08b78 button.colab-df-convert');\n",
              "      buttonEl.style.display =\n",
              "        google.colab.kernel.accessAllowed ? 'block' : 'none';\n",
              "\n",
              "      async function convertToInteractive(key) {\n",
              "        const element = document.querySelector('#df-d80b3491-7fd2-4490-91ac-1455d4e08b78');\n",
              "        const dataTable =\n",
              "          await google.colab.kernel.invokeFunction('convertToInteractive',\n",
              "                                                    [key], {});\n",
              "        if (!dataTable) return;\n",
              "\n",
              "        const docLinkHtml = 'Like what you see? Visit the ' +\n",
              "          '<a target=\"_blank\" href=https://colab.research.google.com/notebooks/data_table.ipynb>data table notebook</a>'\n",
              "          + ' to learn more about interactive tables.';\n",
              "        element.innerHTML = '';\n",
              "        dataTable['output_type'] = 'display_data';\n",
              "        await google.colab.output.renderOutput(dataTable, element);\n",
              "        const docLink = document.createElement('div');\n",
              "        docLink.innerHTML = docLinkHtml;\n",
              "        element.appendChild(docLink);\n",
              "      }\n",
              "    </script>\n",
              "  </div>\n",
              "\n",
              "\n",
              "    <div id=\"df-9e4e7f47-1829-4283-87c5-97d18f0244fd\">\n",
              "      <button class=\"colab-df-quickchart\" onclick=\"quickchart('df-9e4e7f47-1829-4283-87c5-97d18f0244fd')\"\n",
              "                title=\"Suggest charts\"\n",
              "                style=\"display:none;\">\n",
              "\n",
              "<svg xmlns=\"http://www.w3.org/2000/svg\" height=\"24px\"viewBox=\"0 0 24 24\"\n",
              "     width=\"24px\">\n",
              "    <g>\n",
              "        <path d=\"M19 3H5c-1.1 0-2 .9-2 2v14c0 1.1.9 2 2 2h14c1.1 0 2-.9 2-2V5c0-1.1-.9-2-2-2zM9 17H7v-7h2v7zm4 0h-2V7h2v10zm4 0h-2v-4h2v4z\"/>\n",
              "    </g>\n",
              "</svg>\n",
              "      </button>\n",
              "\n",
              "<style>\n",
              "  .colab-df-quickchart {\n",
              "      --bg-color: #E8F0FE;\n",
              "      --fill-color: #1967D2;\n",
              "      --hover-bg-color: #E2EBFA;\n",
              "      --hover-fill-color: #174EA6;\n",
              "      --disabled-fill-color: #AAA;\n",
              "      --disabled-bg-color: #DDD;\n",
              "  }\n",
              "\n",
              "  [theme=dark] .colab-df-quickchart {\n",
              "      --bg-color: #3B4455;\n",
              "      --fill-color: #D2E3FC;\n",
              "      --hover-bg-color: #434B5C;\n",
              "      --hover-fill-color: #FFFFFF;\n",
              "      --disabled-bg-color: #3B4455;\n",
              "      --disabled-fill-color: #666;\n",
              "  }\n",
              "\n",
              "  .colab-df-quickchart {\n",
              "    background-color: var(--bg-color);\n",
              "    border: none;\n",
              "    border-radius: 50%;\n",
              "    cursor: pointer;\n",
              "    display: none;\n",
              "    fill: var(--fill-color);\n",
              "    height: 32px;\n",
              "    padding: 0;\n",
              "    width: 32px;\n",
              "  }\n",
              "\n",
              "  .colab-df-quickchart:hover {\n",
              "    background-color: var(--hover-bg-color);\n",
              "    box-shadow: 0 1px 2px rgba(60, 64, 67, 0.3), 0 1px 3px 1px rgba(60, 64, 67, 0.15);\n",
              "    fill: var(--button-hover-fill-color);\n",
              "  }\n",
              "\n",
              "  .colab-df-quickchart-complete:disabled,\n",
              "  .colab-df-quickchart-complete:disabled:hover {\n",
              "    background-color: var(--disabled-bg-color);\n",
              "    fill: var(--disabled-fill-color);\n",
              "    box-shadow: none;\n",
              "  }\n",
              "\n",
              "  .colab-df-spinner {\n",
              "    border: 2px solid var(--fill-color);\n",
              "    border-color: transparent;\n",
              "    border-bottom-color: var(--fill-color);\n",
              "    animation:\n",
              "      spin 1s steps(1) infinite;\n",
              "  }\n",
              "\n",
              "  @keyframes spin {\n",
              "    0% {\n",
              "      border-color: transparent;\n",
              "      border-bottom-color: var(--fill-color);\n",
              "      border-left-color: var(--fill-color);\n",
              "    }\n",
              "    20% {\n",
              "      border-color: transparent;\n",
              "      border-left-color: var(--fill-color);\n",
              "      border-top-color: var(--fill-color);\n",
              "    }\n",
              "    30% {\n",
              "      border-color: transparent;\n",
              "      border-left-color: var(--fill-color);\n",
              "      border-top-color: var(--fill-color);\n",
              "      border-right-color: var(--fill-color);\n",
              "    }\n",
              "    40% {\n",
              "      border-color: transparent;\n",
              "      border-right-color: var(--fill-color);\n",
              "      border-top-color: var(--fill-color);\n",
              "    }\n",
              "    60% {\n",
              "      border-color: transparent;\n",
              "      border-right-color: var(--fill-color);\n",
              "    }\n",
              "    80% {\n",
              "      border-color: transparent;\n",
              "      border-right-color: var(--fill-color);\n",
              "      border-bottom-color: var(--fill-color);\n",
              "    }\n",
              "    90% {\n",
              "      border-color: transparent;\n",
              "      border-bottom-color: var(--fill-color);\n",
              "    }\n",
              "  }\n",
              "</style>\n",
              "\n",
              "      <script>\n",
              "        async function quickchart(key) {\n",
              "          const quickchartButtonEl =\n",
              "            document.querySelector('#' + key + ' button');\n",
              "          quickchartButtonEl.disabled = true;  // To prevent multiple clicks.\n",
              "          quickchartButtonEl.classList.add('colab-df-spinner');\n",
              "          try {\n",
              "            const charts = await google.colab.kernel.invokeFunction(\n",
              "                'suggestCharts', [key], {});\n",
              "          } catch (error) {\n",
              "            console.error('Error during call to suggestCharts:', error);\n",
              "          }\n",
              "          quickchartButtonEl.classList.remove('colab-df-spinner');\n",
              "          quickchartButtonEl.classList.add('colab-df-quickchart-complete');\n",
              "        }\n",
              "        (() => {\n",
              "          let quickchartButtonEl =\n",
              "            document.querySelector('#df-9e4e7f47-1829-4283-87c5-97d18f0244fd button');\n",
              "          quickchartButtonEl.style.display =\n",
              "            google.colab.kernel.accessAllowed ? 'block' : 'none';\n",
              "        })();\n",
              "      </script>\n",
              "    </div>\n",
              "\n",
              "    </div>\n",
              "  </div>\n"
            ],
            "application/vnd.google.colaboratory.intrinsic+json": {
              "type": "dataframe",
              "variable_name": "merged_df",
              "summary": "{\n  \"name\": \"merged_df\",\n  \"rows\": 615,\n  \"fields\": [\n    {\n      \"column\": \"conversation_id_str\",\n      \"properties\": {\n        \"dtype\": \"number\",\n        \"std\": 13117201713958636,\n        \"min\": 1826145551018004666,\n        \"max\": 1921535011078980058,\n        \"num_unique_values\": 289,\n        \"samples\": [\n          1918202363896365554,\n          1919678916584972765,\n          1919715766695559532\n        ],\n        \"semantic_type\": \"\",\n        \"description\": \"\"\n      }\n    },\n    {\n      \"column\": \"created_at\",\n      \"properties\": {\n        \"dtype\": \"object\",\n        \"num_unique_values\": 289,\n        \"samples\": [\n          \"Fri May 02 07:14:16 +0000 2025\",\n          \"Tue May 06 09:01:34 +0000 2025\",\n          \"Tue May 06 11:28:00 +0000 2025\"\n        ],\n        \"semantic_type\": \"\",\n        \"description\": \"\"\n      }\n    },\n    {\n      \"column\": \"favorite_count\",\n      \"properties\": {\n        \"dtype\": \"number\",\n        \"std\": 3418,\n        \"min\": 1,\n        \"max\": 20029,\n        \"num_unique_values\": 340,\n        \"samples\": [\n          331,\n          3917,\n          1015\n        ],\n        \"semantic_type\": \"\",\n        \"description\": \"\"\n      }\n    },\n    {\n      \"column\": \"full_text\",\n      \"properties\": {\n        \"dtype\": \"category\",\n        \"num_unique_values\": 289,\n        \"samples\": [\n          \"POV pas mau bucin tiba tiba ketahuan orang nya https://t.co/uaAcm70z74\",\n          \"A part of ours. huru-hara si bucin omega Nk harem! https://t.co/qUzq5uLRTD\",\n          \"Udah gak ketolong bro bucin banget gue sama manusia ini https://t.co/tZSz7hAM56\"\n        ],\n        \"semantic_type\": \"\",\n        \"description\": \"\"\n      }\n    },\n    {\n      \"column\": \"id_str\",\n      \"properties\": {\n        \"dtype\": \"number\",\n        \"std\": 1021507055953351,\n        \"min\": 1917996575265370519,\n        \"max\": 1921535011078980058,\n        \"num_unique_values\": 289,\n        \"samples\": [\n          1918202363896365554,\n          1919678916584972765,\n          1919715766695559532\n        ],\n        \"semantic_type\": \"\",\n        \"description\": \"\"\n      }\n    },\n    {\n      \"column\": \"image_url\",\n      \"properties\": {\n        \"dtype\": \"category\",\n        \"num_unique_values\": 184,\n        \"samples\": [\n          \"https://pbs.twimg.com/media/GqGz56cXoAAHth-.jpg\",\n          \"https://pbs.twimg.com/media/Gp8_uxiboAAkSEe.jpg\",\n          \"https://pbs.twimg.com/media/GqVR4nOaUAAUwr_.jpg\"\n        ],\n        \"semantic_type\": \"\",\n        \"description\": \"\"\n      }\n    },\n    {\n      \"column\": \"in_reply_to_screen_name\",\n      \"properties\": {\n        \"dtype\": \"category\",\n        \"num_unique_values\": 4,\n        \"samples\": [\n          \"PikamonID\",\n          \"hasya_jmjk\",\n          \"tanyakanrl\"\n        ],\n        \"semantic_type\": \"\",\n        \"description\": \"\"\n      }\n    },\n    {\n      \"column\": \"lang\",\n      \"properties\": {\n        \"dtype\": \"category\",\n        \"num_unique_values\": 8,\n        \"samples\": [\n          \"en\",\n          \"und\",\n          \"in\"\n        ],\n        \"semantic_type\": \"\",\n        \"description\": \"\"\n      }\n    },\n    {\n      \"column\": \"location\",\n      \"properties\": {\n        \"dtype\": \"category\",\n        \"num_unique_values\": 121,\n        \"samples\": [\n          \"bikini bottom\\ud83e\\udee7\\ud83e\\udeb8\\ud83d\\udc1a\",\n          \"MKHC \\u2022 \\ud83c\\udde8\\ud83c\\udde6\\ud83c\\uddf0\\ud83c\\uddf7\",\n          \"Hell, MI\"\n        ],\n        \"semantic_type\": \"\",\n        \"description\": \"\"\n      }\n    },\n    {\n      \"column\": \"quote_count\",\n      \"properties\": {\n        \"dtype\": \"number\",\n        \"std\": 137,\n        \"min\": 0,\n        \"max\": 912,\n        \"num_unique_values\": 70,\n        \"samples\": [\n          18,\n          452,\n          29\n        ],\n        \"semantic_type\": \"\",\n        \"description\": \"\"\n      }\n    },\n    {\n      \"column\": \"reply_count\",\n      \"properties\": {\n        \"dtype\": \"number\",\n        \"std\": 106,\n        \"min\": 0,\n        \"max\": 611,\n        \"num_unique_values\": 68,\n        \"samples\": [\n          316,\n          574,\n          1\n        ],\n        \"semantic_type\": \"\",\n        \"description\": \"\"\n      }\n    },\n    {\n      \"column\": \"retweet_count\",\n      \"properties\": {\n        \"dtype\": \"number\",\n        \"std\": 303,\n        \"min\": 0,\n        \"max\": 1652,\n        \"num_unique_values\": 165,\n        \"samples\": [\n          36,\n          91,\n          127\n        ],\n        \"semantic_type\": \"\",\n        \"description\": \"\"\n      }\n    },\n    {\n      \"column\": \"tweet_url\",\n      \"properties\": {\n        \"dtype\": \"category\",\n        \"num_unique_values\": 289,\n        \"samples\": [\n          \"https://x.com/UnyuKookie/status/1918202363896365554\",\n          \"https://x.com/serpih_debu/status/1919678916584972765\",\n          \"https://x.com/udelaloha/status/1919715766695559532\"\n        ],\n        \"semantic_type\": \"\",\n        \"description\": \"\"\n      }\n    },\n    {\n      \"column\": \"user_id_str\",\n      \"properties\": {\n        \"dtype\": \"number\",\n        \"std\": 582506694132786944,\n        \"min\": 43897705,\n        \"max\": 1915972739703443463,\n        \"num_unique_values\": 209,\n        \"samples\": [\n          1906555551993221120,\n          1748505163189653504,\n          1553779428945465344\n        ],\n        \"semantic_type\": \"\",\n        \"description\": \"\"\n      }\n    },\n    {\n      \"column\": \"username\",\n      \"properties\": {\n        \"dtype\": \"category\",\n        \"num_unique_values\": 209,\n        \"samples\": [\n          \"cheyriesm\",\n          \"winniedepreshit\",\n          \"radotharu\"\n        ],\n        \"semantic_type\": \"\",\n        \"description\": \"\"\n      }\n    }\n  ]\n}"
            }
          },
          "metadata": {},
          "execution_count": 25
        }
      ]
    },
    {
      "cell_type": "code",
      "source": [
        "merged_df.info()"
      ],
      "metadata": {
        "colab": {
          "base_uri": "https://localhost:8080/"
        },
        "id": "XFMwG7J4ccAF",
        "outputId": "aeacd19c-46b5-4ae8-c070-7603d0fcfa60"
      },
      "execution_count": 26,
      "outputs": [
        {
          "output_type": "stream",
          "name": "stdout",
          "text": [
            "<class 'pandas.core.frame.DataFrame'>\n",
            "Index: 615 entries, 0 to 2343\n",
            "Data columns (total 15 columns):\n",
            " #   Column                   Non-Null Count  Dtype \n",
            "---  ------                   --------------  ----- \n",
            " 0   conversation_id_str      615 non-null    int64 \n",
            " 1   created_at               615 non-null    object\n",
            " 2   favorite_count           615 non-null    int64 \n",
            " 3   full_text                615 non-null    object\n",
            " 4   id_str                   615 non-null    int64 \n",
            " 5   image_url                412 non-null    object\n",
            " 6   in_reply_to_screen_name  16 non-null     object\n",
            " 7   lang                     615 non-null    object\n",
            " 8   location                 432 non-null    object\n",
            " 9   quote_count              615 non-null    int64 \n",
            " 10  reply_count              615 non-null    int64 \n",
            " 11  retweet_count            615 non-null    int64 \n",
            " 12  tweet_url                615 non-null    object\n",
            " 13  user_id_str              615 non-null    int64 \n",
            " 14  username                 615 non-null    object\n",
            "dtypes: int64(7), object(8)\n",
            "memory usage: 93.0+ KB\n"
          ]
        }
      ]
    },
    {
      "cell_type": "code",
      "source": [
        "# 9. Save to CSV file\n",
        "merged_df.to_csv('merged_bucin_tweet.csv', index=False, encoding='utf-8')"
      ],
      "metadata": {
        "id": "8lHV9hejUbln"
      },
      "execution_count": 29,
      "outputs": []
    },
    {
      "source": [
        "# 10. Display statistics\n",
        "print(f\"🍟 Process completed!\")\n",
        "print(f\"🗂️ Number of files merged: {len(all_files)}\")\n",
        "# Check if 'Tweet' column exists, if not, assume it's 'tweet'\n",
        "tweet_column = 'Tweet' if 'Tweet' in merged_df.columns else 'tweet'\n",
        "print(f\"📈 Total final data: {len(merged_df)}\")\n",
        "print(f\"💾 File saved: merged_bucin_tweet.csv\")"
      ],
      "cell_type": "code",
      "metadata": {
        "colab": {
          "base_uri": "https://localhost:8080/"
        },
        "id": "eiSRfoqScrxC",
        "outputId": "4c9ae29d-8ee8-495f-9eaa-c427994f606d"
      },
      "execution_count": 31,
      "outputs": [
        {
          "output_type": "stream",
          "name": "stdout",
          "text": [
            "🍟 Process completed!\n",
            "🗂️ Number of files merged: 16\n",
            "📈 Total final data: 615\n",
            "💾 File saved: merged_bucin_tweet.csv\n"
          ]
        }
      ]
    }
  ]
}