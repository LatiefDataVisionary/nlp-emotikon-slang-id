{
  "nbformat": 4,
  "nbformat_minor": 0,
  "metadata": {
    "colab": {
      "provenance": [],
      "authorship_tag": "ABX9TyMaz/YesPTMzn9dZGi4Z+Ib",
      "include_colab_link": true
    },
    "kernelspec": {
      "name": "python3",
      "display_name": "Python 3"
    },
    "language_info": {
      "name": "python"
    },
    "widgets": {
      "application/vnd.jupyter.widget-state+json": {
        "9f3fc5a2de2e4055a93f7764e5ecbbd3": {
          "model_module": "@jupyter-widgets/controls",
          "model_name": "HBoxModel",
          "model_module_version": "1.5.0",
          "state": {
            "_dom_classes": [],
            "_model_module": "@jupyter-widgets/controls",
            "_model_module_version": "1.5.0",
            "_model_name": "HBoxModel",
            "_view_count": null,
            "_view_module": "@jupyter-widgets/controls",
            "_view_module_version": "1.5.0",
            "_view_name": "HBoxView",
            "box_style": "",
            "children": [
              "IPY_MODEL_63b2556ac8a44fabaaac78cb45547f38",
              "IPY_MODEL_674737a8675e4cb5bfe04db3ed5a7ebb",
              "IPY_MODEL_8afe0f84befc4b67a7e96f7a02426558"
            ],
            "layout": "IPY_MODEL_c2f7bfaa179f4cbeaf68c0189bc54a26"
          }
        },
        "63b2556ac8a44fabaaac78cb45547f38": {
          "model_module": "@jupyter-widgets/controls",
          "model_name": "HTMLModel",
          "model_module_version": "1.5.0",
          "state": {
            "_dom_classes": [],
            "_model_module": "@jupyter-widgets/controls",
            "_model_module_version": "1.5.0",
            "_model_name": "HTMLModel",
            "_view_count": null,
            "_view_module": "@jupyter-widgets/controls",
            "_view_module_version": "1.5.0",
            "_view_name": "HTMLView",
            "description": "",
            "description_tooltip": null,
            "layout": "IPY_MODEL_3e25c1b1a7d349cfbbff9d66abfb60fc",
            "placeholder": "​",
            "style": "IPY_MODEL_c2fbd758b9b6409085e5235a5b2979f7",
            "value": "Pandas Apply: 100%"
          }
        },
        "674737a8675e4cb5bfe04db3ed5a7ebb": {
          "model_module": "@jupyter-widgets/controls",
          "model_name": "FloatProgressModel",
          "model_module_version": "1.5.0",
          "state": {
            "_dom_classes": [],
            "_model_module": "@jupyter-widgets/controls",
            "_model_module_version": "1.5.0",
            "_model_name": "FloatProgressModel",
            "_view_count": null,
            "_view_module": "@jupyter-widgets/controls",
            "_view_module_version": "1.5.0",
            "_view_name": "ProgressView",
            "bar_style": "success",
            "description": "",
            "description_tooltip": null,
            "layout": "IPY_MODEL_97c5814d8f4646c18db9637ed0aec8c2",
            "max": 615,
            "min": 0,
            "orientation": "horizontal",
            "style": "IPY_MODEL_8e2114453c48464bbf7f0e7b30e935ec",
            "value": 615
          }
        },
        "8afe0f84befc4b67a7e96f7a02426558": {
          "model_module": "@jupyter-widgets/controls",
          "model_name": "HTMLModel",
          "model_module_version": "1.5.0",
          "state": {
            "_dom_classes": [],
            "_model_module": "@jupyter-widgets/controls",
            "_model_module_version": "1.5.0",
            "_model_name": "HTMLModel",
            "_view_count": null,
            "_view_module": "@jupyter-widgets/controls",
            "_view_module_version": "1.5.0",
            "_view_name": "HTMLView",
            "description": "",
            "description_tooltip": null,
            "layout": "IPY_MODEL_12dc5ddd71954b4794540987854f171a",
            "placeholder": "​",
            "style": "IPY_MODEL_7b3dfd17930d4ea7875ed67d633a110b",
            "value": " 615/615 [09:59&lt;00:00,  1.07it/s]"
          }
        },
        "c2f7bfaa179f4cbeaf68c0189bc54a26": {
          "model_module": "@jupyter-widgets/base",
          "model_name": "LayoutModel",
          "model_module_version": "1.2.0",
          "state": {
            "_model_module": "@jupyter-widgets/base",
            "_model_module_version": "1.2.0",
            "_model_name": "LayoutModel",
            "_view_count": null,
            "_view_module": "@jupyter-widgets/base",
            "_view_module_version": "1.2.0",
            "_view_name": "LayoutView",
            "align_content": null,
            "align_items": null,
            "align_self": null,
            "border": null,
            "bottom": null,
            "display": null,
            "flex": null,
            "flex_flow": null,
            "grid_area": null,
            "grid_auto_columns": null,
            "grid_auto_flow": null,
            "grid_auto_rows": null,
            "grid_column": null,
            "grid_gap": null,
            "grid_row": null,
            "grid_template_areas": null,
            "grid_template_columns": null,
            "grid_template_rows": null,
            "height": null,
            "justify_content": null,
            "justify_items": null,
            "left": null,
            "margin": null,
            "max_height": null,
            "max_width": null,
            "min_height": null,
            "min_width": null,
            "object_fit": null,
            "object_position": null,
            "order": null,
            "overflow": null,
            "overflow_x": null,
            "overflow_y": null,
            "padding": null,
            "right": null,
            "top": null,
            "visibility": null,
            "width": null
          }
        },
        "3e25c1b1a7d349cfbbff9d66abfb60fc": {
          "model_module": "@jupyter-widgets/base",
          "model_name": "LayoutModel",
          "model_module_version": "1.2.0",
          "state": {
            "_model_module": "@jupyter-widgets/base",
            "_model_module_version": "1.2.0",
            "_model_name": "LayoutModel",
            "_view_count": null,
            "_view_module": "@jupyter-widgets/base",
            "_view_module_version": "1.2.0",
            "_view_name": "LayoutView",
            "align_content": null,
            "align_items": null,
            "align_self": null,
            "border": null,
            "bottom": null,
            "display": null,
            "flex": null,
            "flex_flow": null,
            "grid_area": null,
            "grid_auto_columns": null,
            "grid_auto_flow": null,
            "grid_auto_rows": null,
            "grid_column": null,
            "grid_gap": null,
            "grid_row": null,
            "grid_template_areas": null,
            "grid_template_columns": null,
            "grid_template_rows": null,
            "height": null,
            "justify_content": null,
            "justify_items": null,
            "left": null,
            "margin": null,
            "max_height": null,
            "max_width": null,
            "min_height": null,
            "min_width": null,
            "object_fit": null,
            "object_position": null,
            "order": null,
            "overflow": null,
            "overflow_x": null,
            "overflow_y": null,
            "padding": null,
            "right": null,
            "top": null,
            "visibility": null,
            "width": null
          }
        },
        "c2fbd758b9b6409085e5235a5b2979f7": {
          "model_module": "@jupyter-widgets/controls",
          "model_name": "DescriptionStyleModel",
          "model_module_version": "1.5.0",
          "state": {
            "_model_module": "@jupyter-widgets/controls",
            "_model_module_version": "1.5.0",
            "_model_name": "DescriptionStyleModel",
            "_view_count": null,
            "_view_module": "@jupyter-widgets/base",
            "_view_module_version": "1.2.0",
            "_view_name": "StyleView",
            "description_width": ""
          }
        },
        "97c5814d8f4646c18db9637ed0aec8c2": {
          "model_module": "@jupyter-widgets/base",
          "model_name": "LayoutModel",
          "model_module_version": "1.2.0",
          "state": {
            "_model_module": "@jupyter-widgets/base",
            "_model_module_version": "1.2.0",
            "_model_name": "LayoutModel",
            "_view_count": null,
            "_view_module": "@jupyter-widgets/base",
            "_view_module_version": "1.2.0",
            "_view_name": "LayoutView",
            "align_content": null,
            "align_items": null,
            "align_self": null,
            "border": null,
            "bottom": null,
            "display": null,
            "flex": null,
            "flex_flow": null,
            "grid_area": null,
            "grid_auto_columns": null,
            "grid_auto_flow": null,
            "grid_auto_rows": null,
            "grid_column": null,
            "grid_gap": null,
            "grid_row": null,
            "grid_template_areas": null,
            "grid_template_columns": null,
            "grid_template_rows": null,
            "height": null,
            "justify_content": null,
            "justify_items": null,
            "left": null,
            "margin": null,
            "max_height": null,
            "max_width": null,
            "min_height": null,
            "min_width": null,
            "object_fit": null,
            "object_position": null,
            "order": null,
            "overflow": null,
            "overflow_x": null,
            "overflow_y": null,
            "padding": null,
            "right": null,
            "top": null,
            "visibility": null,
            "width": null
          }
        },
        "8e2114453c48464bbf7f0e7b30e935ec": {
          "model_module": "@jupyter-widgets/controls",
          "model_name": "ProgressStyleModel",
          "model_module_version": "1.5.0",
          "state": {
            "_model_module": "@jupyter-widgets/controls",
            "_model_module_version": "1.5.0",
            "_model_name": "ProgressStyleModel",
            "_view_count": null,
            "_view_module": "@jupyter-widgets/base",
            "_view_module_version": "1.2.0",
            "_view_name": "StyleView",
            "bar_color": null,
            "description_width": ""
          }
        },
        "12dc5ddd71954b4794540987854f171a": {
          "model_module": "@jupyter-widgets/base",
          "model_name": "LayoutModel",
          "model_module_version": "1.2.0",
          "state": {
            "_model_module": "@jupyter-widgets/base",
            "_model_module_version": "1.2.0",
            "_model_name": "LayoutModel",
            "_view_count": null,
            "_view_module": "@jupyter-widgets/base",
            "_view_module_version": "1.2.0",
            "_view_name": "LayoutView",
            "align_content": null,
            "align_items": null,
            "align_self": null,
            "border": null,
            "bottom": null,
            "display": null,
            "flex": null,
            "flex_flow": null,
            "grid_area": null,
            "grid_auto_columns": null,
            "grid_auto_flow": null,
            "grid_auto_rows": null,
            "grid_column": null,
            "grid_gap": null,
            "grid_row": null,
            "grid_template_areas": null,
            "grid_template_columns": null,
            "grid_template_rows": null,
            "height": null,
            "justify_content": null,
            "justify_items": null,
            "left": null,
            "margin": null,
            "max_height": null,
            "max_width": null,
            "min_height": null,
            "min_width": null,
            "object_fit": null,
            "object_position": null,
            "order": null,
            "overflow": null,
            "overflow_x": null,
            "overflow_y": null,
            "padding": null,
            "right": null,
            "top": null,
            "visibility": null,
            "width": null
          }
        },
        "7b3dfd17930d4ea7875ed67d633a110b": {
          "model_module": "@jupyter-widgets/controls",
          "model_name": "DescriptionStyleModel",
          "model_module_version": "1.5.0",
          "state": {
            "_model_module": "@jupyter-widgets/controls",
            "_model_module_version": "1.5.0",
            "_model_name": "DescriptionStyleModel",
            "_view_count": null,
            "_view_module": "@jupyter-widgets/base",
            "_view_module_version": "1.2.0",
            "_view_name": "StyleView",
            "description_width": ""
          }
        },
        "59f22baff83f40fea25a061992a3054e": {
          "model_module": "@jupyter-widgets/controls",
          "model_name": "HBoxModel",
          "model_module_version": "1.5.0",
          "state": {
            "_dom_classes": [],
            "_model_module": "@jupyter-widgets/controls",
            "_model_module_version": "1.5.0",
            "_model_name": "HBoxModel",
            "_view_count": null,
            "_view_module": "@jupyter-widgets/controls",
            "_view_module_version": "1.5.0",
            "_view_name": "HBoxView",
            "box_style": "",
            "children": [
              "IPY_MODEL_d2711d96bf864d1b9198ceaceda2863c",
              "IPY_MODEL_c6fedf1f91574b80b79f5ba1dc5e51b0",
              "IPY_MODEL_86a7486e25f94e54a91863a339b4fe8e"
            ],
            "layout": "IPY_MODEL_0bd7e8f2f6ca40a0b3ea9dd43eb8ad26"
          }
        },
        "d2711d96bf864d1b9198ceaceda2863c": {
          "model_module": "@jupyter-widgets/controls",
          "model_name": "HTMLModel",
          "model_module_version": "1.5.0",
          "state": {
            "_dom_classes": [],
            "_model_module": "@jupyter-widgets/controls",
            "_model_module_version": "1.5.0",
            "_model_name": "HTMLModel",
            "_view_count": null,
            "_view_module": "@jupyter-widgets/controls",
            "_view_module_version": "1.5.0",
            "_view_name": "HTMLView",
            "description": "",
            "description_tooltip": null,
            "layout": "IPY_MODEL_25a026b43d074a719741ce40d4bbb115",
            "placeholder": "​",
            "style": "IPY_MODEL_7f15a171322d496da09a1df3ac256ba2",
            "value": "Pandas Apply: 100%"
          }
        },
        "c6fedf1f91574b80b79f5ba1dc5e51b0": {
          "model_module": "@jupyter-widgets/controls",
          "model_name": "FloatProgressModel",
          "model_module_version": "1.5.0",
          "state": {
            "_dom_classes": [],
            "_model_module": "@jupyter-widgets/controls",
            "_model_module_version": "1.5.0",
            "_model_name": "FloatProgressModel",
            "_view_count": null,
            "_view_module": "@jupyter-widgets/controls",
            "_view_module_version": "1.5.0",
            "_view_name": "ProgressView",
            "bar_style": "success",
            "description": "",
            "description_tooltip": null,
            "layout": "IPY_MODEL_b8dd5dc234654325ab5f4be274329899",
            "max": 615,
            "min": 0,
            "orientation": "horizontal",
            "style": "IPY_MODEL_8ebf613bb75046bdac2cef3c2eba9757",
            "value": 615
          }
        },
        "86a7486e25f94e54a91863a339b4fe8e": {
          "model_module": "@jupyter-widgets/controls",
          "model_name": "HTMLModel",
          "model_module_version": "1.5.0",
          "state": {
            "_dom_classes": [],
            "_model_module": "@jupyter-widgets/controls",
            "_model_module_version": "1.5.0",
            "_model_name": "HTMLModel",
            "_view_count": null,
            "_view_module": "@jupyter-widgets/controls",
            "_view_module_version": "1.5.0",
            "_view_name": "HTMLView",
            "description": "",
            "description_tooltip": null,
            "layout": "IPY_MODEL_065740609ab34530856b6795f13270ee",
            "placeholder": "​",
            "style": "IPY_MODEL_725cdea18ea54001ba2a8c15054e4269",
            "value": " 615/615 [09:12&lt;00:00,  1.26it/s]"
          }
        },
        "0bd7e8f2f6ca40a0b3ea9dd43eb8ad26": {
          "model_module": "@jupyter-widgets/base",
          "model_name": "LayoutModel",
          "model_module_version": "1.2.0",
          "state": {
            "_model_module": "@jupyter-widgets/base",
            "_model_module_version": "1.2.0",
            "_model_name": "LayoutModel",
            "_view_count": null,
            "_view_module": "@jupyter-widgets/base",
            "_view_module_version": "1.2.0",
            "_view_name": "LayoutView",
            "align_content": null,
            "align_items": null,
            "align_self": null,
            "border": null,
            "bottom": null,
            "display": null,
            "flex": null,
            "flex_flow": null,
            "grid_area": null,
            "grid_auto_columns": null,
            "grid_auto_flow": null,
            "grid_auto_rows": null,
            "grid_column": null,
            "grid_gap": null,
            "grid_row": null,
            "grid_template_areas": null,
            "grid_template_columns": null,
            "grid_template_rows": null,
            "height": null,
            "justify_content": null,
            "justify_items": null,
            "left": null,
            "margin": null,
            "max_height": null,
            "max_width": null,
            "min_height": null,
            "min_width": null,
            "object_fit": null,
            "object_position": null,
            "order": null,
            "overflow": null,
            "overflow_x": null,
            "overflow_y": null,
            "padding": null,
            "right": null,
            "top": null,
            "visibility": null,
            "width": null
          }
        },
        "25a026b43d074a719741ce40d4bbb115": {
          "model_module": "@jupyter-widgets/base",
          "model_name": "LayoutModel",
          "model_module_version": "1.2.0",
          "state": {
            "_model_module": "@jupyter-widgets/base",
            "_model_module_version": "1.2.0",
            "_model_name": "LayoutModel",
            "_view_count": null,
            "_view_module": "@jupyter-widgets/base",
            "_view_module_version": "1.2.0",
            "_view_name": "LayoutView",
            "align_content": null,
            "align_items": null,
            "align_self": null,
            "border": null,
            "bottom": null,
            "display": null,
            "flex": null,
            "flex_flow": null,
            "grid_area": null,
            "grid_auto_columns": null,
            "grid_auto_flow": null,
            "grid_auto_rows": null,
            "grid_column": null,
            "grid_gap": null,
            "grid_row": null,
            "grid_template_areas": null,
            "grid_template_columns": null,
            "grid_template_rows": null,
            "height": null,
            "justify_content": null,
            "justify_items": null,
            "left": null,
            "margin": null,
            "max_height": null,
            "max_width": null,
            "min_height": null,
            "min_width": null,
            "object_fit": null,
            "object_position": null,
            "order": null,
            "overflow": null,
            "overflow_x": null,
            "overflow_y": null,
            "padding": null,
            "right": null,
            "top": null,
            "visibility": null,
            "width": null
          }
        },
        "7f15a171322d496da09a1df3ac256ba2": {
          "model_module": "@jupyter-widgets/controls",
          "model_name": "DescriptionStyleModel",
          "model_module_version": "1.5.0",
          "state": {
            "_model_module": "@jupyter-widgets/controls",
            "_model_module_version": "1.5.0",
            "_model_name": "DescriptionStyleModel",
            "_view_count": null,
            "_view_module": "@jupyter-widgets/base",
            "_view_module_version": "1.2.0",
            "_view_name": "StyleView",
            "description_width": ""
          }
        },
        "b8dd5dc234654325ab5f4be274329899": {
          "model_module": "@jupyter-widgets/base",
          "model_name": "LayoutModel",
          "model_module_version": "1.2.0",
          "state": {
            "_model_module": "@jupyter-widgets/base",
            "_model_module_version": "1.2.0",
            "_model_name": "LayoutModel",
            "_view_count": null,
            "_view_module": "@jupyter-widgets/base",
            "_view_module_version": "1.2.0",
            "_view_name": "LayoutView",
            "align_content": null,
            "align_items": null,
            "align_self": null,
            "border": null,
            "bottom": null,
            "display": null,
            "flex": null,
            "flex_flow": null,
            "grid_area": null,
            "grid_auto_columns": null,
            "grid_auto_flow": null,
            "grid_auto_rows": null,
            "grid_column": null,
            "grid_gap": null,
            "grid_row": null,
            "grid_template_areas": null,
            "grid_template_columns": null,
            "grid_template_rows": null,
            "height": null,
            "justify_content": null,
            "justify_items": null,
            "left": null,
            "margin": null,
            "max_height": null,
            "max_width": null,
            "min_height": null,
            "min_width": null,
            "object_fit": null,
            "object_position": null,
            "order": null,
            "overflow": null,
            "overflow_x": null,
            "overflow_y": null,
            "padding": null,
            "right": null,
            "top": null,
            "visibility": null,
            "width": null
          }
        },
        "8ebf613bb75046bdac2cef3c2eba9757": {
          "model_module": "@jupyter-widgets/controls",
          "model_name": "ProgressStyleModel",
          "model_module_version": "1.5.0",
          "state": {
            "_model_module": "@jupyter-widgets/controls",
            "_model_module_version": "1.5.0",
            "_model_name": "ProgressStyleModel",
            "_view_count": null,
            "_view_module": "@jupyter-widgets/base",
            "_view_module_version": "1.2.0",
            "_view_name": "StyleView",
            "bar_color": null,
            "description_width": ""
          }
        },
        "065740609ab34530856b6795f13270ee": {
          "model_module": "@jupyter-widgets/base",
          "model_name": "LayoutModel",
          "model_module_version": "1.2.0",
          "state": {
            "_model_module": "@jupyter-widgets/base",
            "_model_module_version": "1.2.0",
            "_model_name": "LayoutModel",
            "_view_count": null,
            "_view_module": "@jupyter-widgets/base",
            "_view_module_version": "1.2.0",
            "_view_name": "LayoutView",
            "align_content": null,
            "align_items": null,
            "align_self": null,
            "border": null,
            "bottom": null,
            "display": null,
            "flex": null,
            "flex_flow": null,
            "grid_area": null,
            "grid_auto_columns": null,
            "grid_auto_flow": null,
            "grid_auto_rows": null,
            "grid_column": null,
            "grid_gap": null,
            "grid_row": null,
            "grid_template_areas": null,
            "grid_template_columns": null,
            "grid_template_rows": null,
            "height": null,
            "justify_content": null,
            "justify_items": null,
            "left": null,
            "margin": null,
            "max_height": null,
            "max_width": null,
            "min_height": null,
            "min_width": null,
            "object_fit": null,
            "object_position": null,
            "order": null,
            "overflow": null,
            "overflow_x": null,
            "overflow_y": null,
            "padding": null,
            "right": null,
            "top": null,
            "visibility": null,
            "width": null
          }
        },
        "725cdea18ea54001ba2a8c15054e4269": {
          "model_module": "@jupyter-widgets/controls",
          "model_name": "DescriptionStyleModel",
          "model_module_version": "1.5.0",
          "state": {
            "_model_module": "@jupyter-widgets/controls",
            "_model_module_version": "1.5.0",
            "_model_name": "DescriptionStyleModel",
            "_view_count": null,
            "_view_module": "@jupyter-widgets/base",
            "_view_module_version": "1.2.0",
            "_view_name": "StyleView",
            "description_width": ""
          }
        }
      }
    }
  },
  "cells": [
    {
      "cell_type": "markdown",
      "metadata": {
        "id": "view-in-github",
        "colab_type": "text"
      },
      "source": [
        "<a href=\"https://colab.research.google.com/github/LatiefDataVisionary/nlp-emotikon-slang-id/blob/main/notebooks/preprocessing.ipynb\" target=\"_parent\"><img src=\"https://colab.research.google.com/assets/colab-badge.svg\" alt=\"Open In Colab\"/></a>"
      ]
    },
    {
      "cell_type": "markdown",
      "source": [
        "## **Import Libraries, Install Sastrawi, Install Swifter and Install Emoji**"
      ],
      "metadata": {
        "id": "jfTwkRur0LKo"
      }
    },
    {
      "cell_type": "code",
      "source": [
        "!pip install Sastrawi"
      ],
      "metadata": {
        "colab": {
          "base_uri": "https://localhost:8080/"
        },
        "id": "KkgWUuvjsdKG",
        "outputId": "f6ec4bad-9e7c-4a65-ebf9-cf0eb2df1037"
      },
      "execution_count": 4,
      "outputs": [
        {
          "output_type": "stream",
          "name": "stdout",
          "text": [
            "Collecting Sastrawi\n",
            "  Downloading Sastrawi-1.0.1-py2.py3-none-any.whl.metadata (909 bytes)\n",
            "Downloading Sastrawi-1.0.1-py2.py3-none-any.whl (209 kB)\n",
            "\u001b[2K   \u001b[90m━━━━━━━━━━━━━━━━━━━━━━━━━━━━━━━━━━━━━━━━\u001b[0m \u001b[32m209.7/209.7 kB\u001b[0m \u001b[31m3.8 MB/s\u001b[0m eta \u001b[36m0:00:00\u001b[0m\n",
            "\u001b[?25hInstalling collected packages: Sastrawi\n",
            "Successfully installed Sastrawi-1.0.1\n"
          ]
        }
      ]
    },
    {
      "cell_type": "code",
      "source": [
        "!pip install swifter"
      ],
      "metadata": {
        "colab": {
          "base_uri": "https://localhost:8080/"
        },
        "id": "fkcd8rgRSUaL",
        "outputId": "76d52526-c83a-4adb-c20b-0204b7ca9e36"
      },
      "execution_count": 70,
      "outputs": [
        {
          "output_type": "stream",
          "name": "stdout",
          "text": [
            "Collecting swifter\n",
            "  Downloading swifter-1.4.0.tar.gz (1.2 MB)\n",
            "\u001b[?25l     \u001b[90m━━━━━━━━━━━━━━━━━━━━━━━━━━━━━━━━━━━━━━━━\u001b[0m \u001b[32m0.0/1.2 MB\u001b[0m \u001b[31m?\u001b[0m eta \u001b[36m-:--:--\u001b[0m\r\u001b[2K     \u001b[91m━━━━━━━━━\u001b[0m\u001b[90m╺\u001b[0m\u001b[90m━━━━━━━━━━━━━━━━━━━━━━━━━━━━━━\u001b[0m \u001b[32m0.3/1.2 MB\u001b[0m \u001b[31m8.7 MB/s\u001b[0m eta \u001b[36m0:00:01\u001b[0m\r\u001b[2K     \u001b[91m━━━━━━━━━━━━━━━━━━━━━━━━━━━━━━━━━━━━━━━\u001b[0m\u001b[91m╸\u001b[0m \u001b[32m1.2/1.2 MB\u001b[0m \u001b[31m20.5 MB/s\u001b[0m eta \u001b[36m0:00:01\u001b[0m\r\u001b[2K     \u001b[90m━━━━━━━━━━━━━━━━━━━━━━━━━━━━━━━━━━━━━━━━\u001b[0m \u001b[32m1.2/1.2 MB\u001b[0m \u001b[31m15.0 MB/s\u001b[0m eta \u001b[36m0:00:00\u001b[0m\n",
            "\u001b[?25h  Preparing metadata (setup.py) ... \u001b[?25l\u001b[?25hdone\n",
            "Requirement already satisfied: pandas>=1.0.0 in /usr/local/lib/python3.11/dist-packages (from swifter) (2.2.2)\n",
            "Requirement already satisfied: psutil>=5.6.6 in /usr/local/lib/python3.11/dist-packages (from swifter) (5.9.5)\n",
            "Requirement already satisfied: dask>=2.10.0 in /usr/local/lib/python3.11/dist-packages (from dask[dataframe]>=2.10.0->swifter) (2024.12.1)\n",
            "Requirement already satisfied: tqdm>=4.33.0 in /usr/local/lib/python3.11/dist-packages (from swifter) (4.67.1)\n",
            "Requirement already satisfied: click>=8.1 in /usr/local/lib/python3.11/dist-packages (from dask>=2.10.0->dask[dataframe]>=2.10.0->swifter) (8.1.8)\n",
            "Requirement already satisfied: cloudpickle>=3.0.0 in /usr/local/lib/python3.11/dist-packages (from dask>=2.10.0->dask[dataframe]>=2.10.0->swifter) (3.1.1)\n",
            "Requirement already satisfied: fsspec>=2021.09.0 in /usr/local/lib/python3.11/dist-packages (from dask>=2.10.0->dask[dataframe]>=2.10.0->swifter) (2025.3.2)\n",
            "Requirement already satisfied: packaging>=20.0 in /usr/local/lib/python3.11/dist-packages (from dask>=2.10.0->dask[dataframe]>=2.10.0->swifter) (24.2)\n",
            "Requirement already satisfied: partd>=1.4.0 in /usr/local/lib/python3.11/dist-packages (from dask>=2.10.0->dask[dataframe]>=2.10.0->swifter) (1.4.2)\n",
            "Requirement already satisfied: pyyaml>=5.3.1 in /usr/local/lib/python3.11/dist-packages (from dask>=2.10.0->dask[dataframe]>=2.10.0->swifter) (6.0.2)\n",
            "Requirement already satisfied: toolz>=0.10.0 in /usr/local/lib/python3.11/dist-packages (from dask>=2.10.0->dask[dataframe]>=2.10.0->swifter) (0.12.1)\n",
            "Requirement already satisfied: importlib_metadata>=4.13.0 in /usr/local/lib/python3.11/dist-packages (from dask>=2.10.0->dask[dataframe]>=2.10.0->swifter) (8.7.0)\n",
            "Requirement already satisfied: dask-expr<1.2,>=1.1 in /usr/local/lib/python3.11/dist-packages (from dask[dataframe]>=2.10.0->swifter) (1.1.21)\n",
            "Requirement already satisfied: numpy>=1.23.2 in /usr/local/lib/python3.11/dist-packages (from pandas>=1.0.0->swifter) (2.0.2)\n",
            "Requirement already satisfied: python-dateutil>=2.8.2 in /usr/local/lib/python3.11/dist-packages (from pandas>=1.0.0->swifter) (2.9.0.post0)\n",
            "Requirement already satisfied: pytz>=2020.1 in /usr/local/lib/python3.11/dist-packages (from pandas>=1.0.0->swifter) (2025.2)\n",
            "Requirement already satisfied: tzdata>=2022.7 in /usr/local/lib/python3.11/dist-packages (from pandas>=1.0.0->swifter) (2025.2)\n",
            "Requirement already satisfied: pyarrow>=14.0.1 in /usr/local/lib/python3.11/dist-packages (from dask-expr<1.2,>=1.1->dask[dataframe]>=2.10.0->swifter) (18.1.0)\n",
            "Requirement already satisfied: zipp>=3.20 in /usr/local/lib/python3.11/dist-packages (from importlib_metadata>=4.13.0->dask>=2.10.0->dask[dataframe]>=2.10.0->swifter) (3.21.0)\n",
            "Requirement already satisfied: locket in /usr/local/lib/python3.11/dist-packages (from partd>=1.4.0->dask>=2.10.0->dask[dataframe]>=2.10.0->swifter) (1.0.0)\n",
            "Requirement already satisfied: six>=1.5 in /usr/local/lib/python3.11/dist-packages (from python-dateutil>=2.8.2->pandas>=1.0.0->swifter) (1.17.0)\n",
            "Building wheels for collected packages: swifter\n",
            "  Building wheel for swifter (setup.py) ... \u001b[?25l\u001b[?25hdone\n",
            "  Created wheel for swifter: filename=swifter-1.4.0-py3-none-any.whl size=16505 sha256=bdeeb00431b9b539dacc5df6f091906d5cb99767ec2bb3fffbf228c44e983469\n",
            "  Stored in directory: /root/.cache/pip/wheels/ef/7f/bd/9bed48f078f3ee1fa75e0b29b6e0335ce1cb03a38d3443b3a3\n",
            "Successfully built swifter\n",
            "Installing collected packages: swifter\n",
            "Successfully installed swifter-1.4.0\n"
          ]
        }
      ]
    },
    {
      "cell_type": "code",
      "source": [
        "!pip install emoji"
      ],
      "metadata": {
        "colab": {
          "base_uri": "https://localhost:8080/"
        },
        "id": "XpaahRt4pr6s",
        "outputId": "2b79e6f4-17c4-499c-e255-2004679bf9d3"
      },
      "execution_count": 26,
      "outputs": [
        {
          "output_type": "stream",
          "name": "stdout",
          "text": [
            "Collecting emoji\n",
            "  Downloading emoji-2.14.1-py3-none-any.whl.metadata (5.7 kB)\n",
            "Downloading emoji-2.14.1-py3-none-any.whl (590 kB)\n",
            "\u001b[2K   \u001b[90m━━━━━━━━━━━━━━━━━━━━━━━━━━━━━━━━━━━━━━━━\u001b[0m \u001b[32m590.6/590.6 kB\u001b[0m \u001b[31m7.6 MB/s\u001b[0m eta \u001b[36m0:00:00\u001b[0m\n",
            "\u001b[?25hInstalling collected packages: emoji\n",
            "Successfully installed emoji-2.14.1\n"
          ]
        }
      ]
    },
    {
      "cell_type": "code",
      "execution_count": 71,
      "metadata": {
        "id": "oCU5gsaZoDIm"
      },
      "outputs": [],
      "source": [
        "import pandas as pd\n",
        "import re\n",
        "import nltk\n",
        "from nltk.corpus import stopwords\n",
        "from Sastrawi.Stemmer.StemmerFactory import StemmerFactory\n",
        "import emoji\n",
        "import swifter"
      ]
    },
    {
      "cell_type": "markdown",
      "source": [
        "## **Download NLTK resources**"
      ],
      "metadata": {
        "id": "6P-BdYbnotHw"
      }
    },
    {
      "cell_type": "code",
      "source": [
        "nltk.download('punkt') # Tokenizer models\n",
        "nltk.download('stopwords') # Stopwords for Indonesian and English\n",
        "nltk.download('punkt_tab')"
      ],
      "metadata": {
        "colab": {
          "base_uri": "https://localhost:8080/"
        },
        "id": "F-cWA9rBosTG",
        "outputId": "78251954-2478-44f7-f7fc-a0b60fc7921c"
      },
      "execution_count": 6,
      "outputs": [
        {
          "output_type": "stream",
          "name": "stderr",
          "text": [
            "[nltk_data] Downloading package punkt to /root/nltk_data...\n",
            "[nltk_data]   Unzipping tokenizers/punkt.zip.\n",
            "[nltk_data] Downloading package stopwords to /root/nltk_data...\n",
            "[nltk_data]   Unzipping corpora/stopwords.zip.\n",
            "[nltk_data] Downloading package punkt_tab to /root/nltk_data...\n",
            "[nltk_data]   Unzipping tokenizers/punkt_tab.zip.\n"
          ]
        },
        {
          "output_type": "execute_result",
          "data": {
            "text/plain": [
              "True"
            ]
          },
          "metadata": {},
          "execution_count": 6
        }
      ]
    },
    {
      "cell_type": "markdown",
      "source": [
        "## **Load the dataset**"
      ],
      "metadata": {
        "id": "OxqV9ikhpBIn"
      }
    },
    {
      "cell_type": "code",
      "source": [
        "url = 'https://raw.githubusercontent.com/LatiefDataVisionary/nlp-emotikon-slang-id/refs/heads/main/data/raw_merged/merged_bucin_tweet.csv'\n",
        "df = pd.read_csv(url)\n",
        "df"
      ],
      "metadata": {
        "colab": {
          "base_uri": "https://localhost:8080/",
          "height": 808
        },
        "id": "s8R2Po02o_As",
        "outputId": "18b1117f-469d-4e6c-83ed-e45f5b100ad4"
      },
      "execution_count": 7,
      "outputs": [
        {
          "output_type": "execute_result",
          "data": {
            "text/plain": [
              "     conversation_id_str                      created_at  favorite_count  \\\n",
              "0    1921236320413687871  Sat May 10 16:10:08 +0000 2025            9190   \n",
              "1    1920994897315733648  Sat May 10 00:10:48 +0000 2025           19038   \n",
              "2    1921516689079820765  Sun May 11 10:44:13 +0000 2025               4   \n",
              "3    1921414816133996832  Sun May 11 03:59:24 +0000 2025            2128   \n",
              "4    1921515322135232681  Sun May 11 10:38:47 +0000 2025             438   \n",
              "..                   ...                             ...             ...   \n",
              "610  1921519612543279514  Sun May 11 10:55:50 +0000 2025              12   \n",
              "611  1920141611280847139  Wed May 07 15:40:09 +0000 2025            1410   \n",
              "612  1921137993051525158  Sat May 10 09:39:25 +0000 2025             274   \n",
              "613  1921453647201710170  Sun May 11 06:33:43 +0000 2025             428   \n",
              "614  1921061473603801173  Sat May 10 04:35:21 +0000 2025             188   \n",
              "\n",
              "                                             full_text               id_str  \\\n",
              "0     kdm ️ resident playbook ️ pict atas minta peg...  1921236320413687871   \n",
              "1    Jualan tapi julidin customer tu maksudnya gima...  1920994897315733648   \n",
              "2    Ini pas awal vidio Yeye kaya nyandar di bahu K...  1921516689079820765   \n",
              "3     kdm resident playbook Ini tuh dowon yiyoung p...  1921414816133996832   \n",
              "4    Bu lena liat kelakuan bucin adiknya AQEELA TER...  1921515322135232681   \n",
              "..                                                 ...                  ...   \n",
              "610  gue bisa kok bales argumentasi kalian pake kat...  1921519612543279514   \n",
              "611   SKSKSKSKSKSKSKSK ternyata gini ya rasanya buc...  1920141611280847139   \n",
              "612  Mav kalau sensitip tapi kalian anak UT! yang k...  1921137993051525158   \n",
              "613  mae ning sama gem sama aja ya kalo udah ditany...  1921453647201710170   \n",
              "614  ______ ______ ______ ______ ______ ______ ← yo...  1921061473603801173   \n",
              "\n",
              "                                             image_url  \\\n",
              "0      https://pbs.twimg.com/media/GqmaQGPWcAAMaS9.jpg   \n",
              "1      https://pbs.twimg.com/media/Gqi-q2RXgAAIW_5.jpg   \n",
              "2      https://pbs.twimg.com/media/GqqZOtGaUAAgDdP.jpg   \n",
              "3      https://pbs.twimg.com/media/Gqo8l6vW0AAbCWI.jpg   \n",
              "4    https://pbs.twimg.com/ext_tw_video_thumb/19215...   \n",
              "..                                                 ...   \n",
              "610                                                NaN   \n",
              "611                                                NaN   \n",
              "612                                                NaN   \n",
              "613                                                NaN   \n",
              "614    https://pbs.twimg.com/media/Gqj7OpYbcAEREGj.jpg   \n",
              "\n",
              "    in_reply_to_screen_name lang                location  quote_count  \\\n",
              "0                       NaN   in                 Rules 👇          452   \n",
              "1                       NaN   in               Indonesia          684   \n",
              "2                       NaN   in           dusun majasri            0   \n",
              "3                       NaN   in                 Rules 👇           55   \n",
              "4                       NaN   in                     NaN            5   \n",
              "..                      ...  ...                     ...          ...   \n",
              "610                     NaN   in  bikini bottom 🫧🪸🫙🐬🧜‍♀️            0   \n",
              "611                     NaN   in               Indonesia           27   \n",
              "612                     NaN   in                     NaN           54   \n",
              "613                     NaN   in        𝕜𝕙𝕦𝕟𝕟𝕠𝕠 ☆ 𝕝𝕪𝕜𝕪𝕠𝕦            0   \n",
              "614                     NaN   in         she | ina & eng            2   \n",
              "\n",
              "     reply_count  retweet_count  \\\n",
              "0            324           1044   \n",
              "1            593           1319   \n",
              "2              0              1   \n",
              "3             77            198   \n",
              "4              1             69   \n",
              "..           ...            ...   \n",
              "610            0              0   \n",
              "611          108             33   \n",
              "612          145             13   \n",
              "613            0             80   \n",
              "614            0             31   \n",
              "\n",
              "                                             tweet_url          user_id_str  \\\n",
              "0    https://x.com/kdrama_menfess/status/1921236320...  1012588105591713793   \n",
              "1    https://x.com/Maeliani07/status/19209948973157...  1659026628071288835   \n",
              "2    https://x.com/BeUrCLOUDS/status/19215166890798...           2995021591   \n",
              "3    https://x.com/kdrama_menfess/status/1921414816...  1012588105591713793   \n",
              "4    https://x.com/staraquars/status/19215153221352...  1692804014994599937   \n",
              "..                                                 ...                  ...   \n",
              "610  https://x.com/redhorse44/status/19215196125432...  1642331059634442241   \n",
              "611  https://x.com/tanyarlfes/status/19201416112808...           1371650588   \n",
              "612    https://x.com/utfess/status/1921137993051525158  1451424492719251460   \n",
              "613    https://x.com/dycuri/status/1921453647201710170  1794083416058609664   \n",
              "614  https://x.com/bakejunhyuk/status/1921061473603...  1605165350236348416   \n",
              "\n",
              "           username  \n",
              "0    kdrama_menfess  \n",
              "1        Maeliani07  \n",
              "2        BeUrCLOUDS  \n",
              "3    kdrama_menfess  \n",
              "4        staraquars  \n",
              "..              ...  \n",
              "610      redhorse44  \n",
              "611      tanyarlfes  \n",
              "612          utfess  \n",
              "613          dycuri  \n",
              "614     bakejunhyuk  \n",
              "\n",
              "[615 rows x 15 columns]"
            ],
            "text/html": [
              "\n",
              "  <div id=\"df-87ef1485-e1f2-498b-9ada-b44048bd1797\" class=\"colab-df-container\">\n",
              "    <div>\n",
              "<style scoped>\n",
              "    .dataframe tbody tr th:only-of-type {\n",
              "        vertical-align: middle;\n",
              "    }\n",
              "\n",
              "    .dataframe tbody tr th {\n",
              "        vertical-align: top;\n",
              "    }\n",
              "\n",
              "    .dataframe thead th {\n",
              "        text-align: right;\n",
              "    }\n",
              "</style>\n",
              "<table border=\"1\" class=\"dataframe\">\n",
              "  <thead>\n",
              "    <tr style=\"text-align: right;\">\n",
              "      <th></th>\n",
              "      <th>conversation_id_str</th>\n",
              "      <th>created_at</th>\n",
              "      <th>favorite_count</th>\n",
              "      <th>full_text</th>\n",
              "      <th>id_str</th>\n",
              "      <th>image_url</th>\n",
              "      <th>in_reply_to_screen_name</th>\n",
              "      <th>lang</th>\n",
              "      <th>location</th>\n",
              "      <th>quote_count</th>\n",
              "      <th>reply_count</th>\n",
              "      <th>retweet_count</th>\n",
              "      <th>tweet_url</th>\n",
              "      <th>user_id_str</th>\n",
              "      <th>username</th>\n",
              "    </tr>\n",
              "  </thead>\n",
              "  <tbody>\n",
              "    <tr>\n",
              "      <th>0</th>\n",
              "      <td>1921236320413687871</td>\n",
              "      <td>Sat May 10 16:10:08 +0000 2025</td>\n",
              "      <td>9190</td>\n",
              "      <td>kdm ️ resident playbook ️ pict atas minta peg...</td>\n",
              "      <td>1921236320413687871</td>\n",
              "      <td>https://pbs.twimg.com/media/GqmaQGPWcAAMaS9.jpg</td>\n",
              "      <td>NaN</td>\n",
              "      <td>in</td>\n",
              "      <td>Rules 👇</td>\n",
              "      <td>452</td>\n",
              "      <td>324</td>\n",
              "      <td>1044</td>\n",
              "      <td>https://x.com/kdrama_menfess/status/1921236320...</td>\n",
              "      <td>1012588105591713793</td>\n",
              "      <td>kdrama_menfess</td>\n",
              "    </tr>\n",
              "    <tr>\n",
              "      <th>1</th>\n",
              "      <td>1920994897315733648</td>\n",
              "      <td>Sat May 10 00:10:48 +0000 2025</td>\n",
              "      <td>19038</td>\n",
              "      <td>Jualan tapi julidin customer tu maksudnya gima...</td>\n",
              "      <td>1920994897315733648</td>\n",
              "      <td>https://pbs.twimg.com/media/Gqi-q2RXgAAIW_5.jpg</td>\n",
              "      <td>NaN</td>\n",
              "      <td>in</td>\n",
              "      <td>Indonesia</td>\n",
              "      <td>684</td>\n",
              "      <td>593</td>\n",
              "      <td>1319</td>\n",
              "      <td>https://x.com/Maeliani07/status/19209948973157...</td>\n",
              "      <td>1659026628071288835</td>\n",
              "      <td>Maeliani07</td>\n",
              "    </tr>\n",
              "    <tr>\n",
              "      <th>2</th>\n",
              "      <td>1921516689079820765</td>\n",
              "      <td>Sun May 11 10:44:13 +0000 2025</td>\n",
              "      <td>4</td>\n",
              "      <td>Ini pas awal vidio Yeye kaya nyandar di bahu K...</td>\n",
              "      <td>1921516689079820765</td>\n",
              "      <td>https://pbs.twimg.com/media/GqqZOtGaUAAgDdP.jpg</td>\n",
              "      <td>NaN</td>\n",
              "      <td>in</td>\n",
              "      <td>dusun majasri</td>\n",
              "      <td>0</td>\n",
              "      <td>0</td>\n",
              "      <td>1</td>\n",
              "      <td>https://x.com/BeUrCLOUDS/status/19215166890798...</td>\n",
              "      <td>2995021591</td>\n",
              "      <td>BeUrCLOUDS</td>\n",
              "    </tr>\n",
              "    <tr>\n",
              "      <th>3</th>\n",
              "      <td>1921414816133996832</td>\n",
              "      <td>Sun May 11 03:59:24 +0000 2025</td>\n",
              "      <td>2128</td>\n",
              "      <td>kdm resident playbook Ini tuh dowon yiyoung p...</td>\n",
              "      <td>1921414816133996832</td>\n",
              "      <td>https://pbs.twimg.com/media/Gqo8l6vW0AAbCWI.jpg</td>\n",
              "      <td>NaN</td>\n",
              "      <td>in</td>\n",
              "      <td>Rules 👇</td>\n",
              "      <td>55</td>\n",
              "      <td>77</td>\n",
              "      <td>198</td>\n",
              "      <td>https://x.com/kdrama_menfess/status/1921414816...</td>\n",
              "      <td>1012588105591713793</td>\n",
              "      <td>kdrama_menfess</td>\n",
              "    </tr>\n",
              "    <tr>\n",
              "      <th>4</th>\n",
              "      <td>1921515322135232681</td>\n",
              "      <td>Sun May 11 10:38:47 +0000 2025</td>\n",
              "      <td>438</td>\n",
              "      <td>Bu lena liat kelakuan bucin adiknya AQEELA TER...</td>\n",
              "      <td>1921515322135232681</td>\n",
              "      <td>https://pbs.twimg.com/ext_tw_video_thumb/19215...</td>\n",
              "      <td>NaN</td>\n",
              "      <td>in</td>\n",
              "      <td>NaN</td>\n",
              "      <td>5</td>\n",
              "      <td>1</td>\n",
              "      <td>69</td>\n",
              "      <td>https://x.com/staraquars/status/19215153221352...</td>\n",
              "      <td>1692804014994599937</td>\n",
              "      <td>staraquars</td>\n",
              "    </tr>\n",
              "    <tr>\n",
              "      <th>...</th>\n",
              "      <td>...</td>\n",
              "      <td>...</td>\n",
              "      <td>...</td>\n",
              "      <td>...</td>\n",
              "      <td>...</td>\n",
              "      <td>...</td>\n",
              "      <td>...</td>\n",
              "      <td>...</td>\n",
              "      <td>...</td>\n",
              "      <td>...</td>\n",
              "      <td>...</td>\n",
              "      <td>...</td>\n",
              "      <td>...</td>\n",
              "      <td>...</td>\n",
              "      <td>...</td>\n",
              "    </tr>\n",
              "    <tr>\n",
              "      <th>610</th>\n",
              "      <td>1921519612543279514</td>\n",
              "      <td>Sun May 11 10:55:50 +0000 2025</td>\n",
              "      <td>12</td>\n",
              "      <td>gue bisa kok bales argumentasi kalian pake kat...</td>\n",
              "      <td>1921519612543279514</td>\n",
              "      <td>NaN</td>\n",
              "      <td>NaN</td>\n",
              "      <td>in</td>\n",
              "      <td>bikini bottom 🫧🪸🫙🐬🧜‍♀️</td>\n",
              "      <td>0</td>\n",
              "      <td>0</td>\n",
              "      <td>0</td>\n",
              "      <td>https://x.com/redhorse44/status/19215196125432...</td>\n",
              "      <td>1642331059634442241</td>\n",
              "      <td>redhorse44</td>\n",
              "    </tr>\n",
              "    <tr>\n",
              "      <th>611</th>\n",
              "      <td>1920141611280847139</td>\n",
              "      <td>Wed May 07 15:40:09 +0000 2025</td>\n",
              "      <td>1410</td>\n",
              "      <td>SKSKSKSKSKSKSKSK ternyata gini ya rasanya buc...</td>\n",
              "      <td>1920141611280847139</td>\n",
              "      <td>NaN</td>\n",
              "      <td>NaN</td>\n",
              "      <td>in</td>\n",
              "      <td>Indonesia</td>\n",
              "      <td>27</td>\n",
              "      <td>108</td>\n",
              "      <td>33</td>\n",
              "      <td>https://x.com/tanyarlfes/status/19201416112808...</td>\n",
              "      <td>1371650588</td>\n",
              "      <td>tanyarlfes</td>\n",
              "    </tr>\n",
              "    <tr>\n",
              "      <th>612</th>\n",
              "      <td>1921137993051525158</td>\n",
              "      <td>Sat May 10 09:39:25 +0000 2025</td>\n",
              "      <td>274</td>\n",
              "      <td>Mav kalau sensitip tapi kalian anak UT! yang k...</td>\n",
              "      <td>1921137993051525158</td>\n",
              "      <td>NaN</td>\n",
              "      <td>NaN</td>\n",
              "      <td>in</td>\n",
              "      <td>NaN</td>\n",
              "      <td>54</td>\n",
              "      <td>145</td>\n",
              "      <td>13</td>\n",
              "      <td>https://x.com/utfess/status/1921137993051525158</td>\n",
              "      <td>1451424492719251460</td>\n",
              "      <td>utfess</td>\n",
              "    </tr>\n",
              "    <tr>\n",
              "      <th>613</th>\n",
              "      <td>1921453647201710170</td>\n",
              "      <td>Sun May 11 06:33:43 +0000 2025</td>\n",
              "      <td>428</td>\n",
              "      <td>mae ning sama gem sama aja ya kalo udah ditany...</td>\n",
              "      <td>1921453647201710170</td>\n",
              "      <td>NaN</td>\n",
              "      <td>NaN</td>\n",
              "      <td>in</td>\n",
              "      <td>𝕜𝕙𝕦𝕟𝕟𝕠𝕠 ☆ 𝕝𝕪𝕜𝕪𝕠𝕦</td>\n",
              "      <td>0</td>\n",
              "      <td>0</td>\n",
              "      <td>80</td>\n",
              "      <td>https://x.com/dycuri/status/1921453647201710170</td>\n",
              "      <td>1794083416058609664</td>\n",
              "      <td>dycuri</td>\n",
              "    </tr>\n",
              "    <tr>\n",
              "      <th>614</th>\n",
              "      <td>1921061473603801173</td>\n",
              "      <td>Sat May 10 04:35:21 +0000 2025</td>\n",
              "      <td>188</td>\n",
              "      <td>______ ______ ______ ______ ______ ______ ← yo...</td>\n",
              "      <td>1921061473603801173</td>\n",
              "      <td>https://pbs.twimg.com/media/Gqj7OpYbcAEREGj.jpg</td>\n",
              "      <td>NaN</td>\n",
              "      <td>in</td>\n",
              "      <td>she | ina &amp; eng</td>\n",
              "      <td>2</td>\n",
              "      <td>0</td>\n",
              "      <td>31</td>\n",
              "      <td>https://x.com/bakejunhyuk/status/1921061473603...</td>\n",
              "      <td>1605165350236348416</td>\n",
              "      <td>bakejunhyuk</td>\n",
              "    </tr>\n",
              "  </tbody>\n",
              "</table>\n",
              "<p>615 rows × 15 columns</p>\n",
              "</div>\n",
              "    <div class=\"colab-df-buttons\">\n",
              "\n",
              "  <div class=\"colab-df-container\">\n",
              "    <button class=\"colab-df-convert\" onclick=\"convertToInteractive('df-87ef1485-e1f2-498b-9ada-b44048bd1797')\"\n",
              "            title=\"Convert this dataframe to an interactive table.\"\n",
              "            style=\"display:none;\">\n",
              "\n",
              "  <svg xmlns=\"http://www.w3.org/2000/svg\" height=\"24px\" viewBox=\"0 -960 960 960\">\n",
              "    <path d=\"M120-120v-720h720v720H120Zm60-500h600v-160H180v160Zm220 220h160v-160H400v160Zm0 220h160v-160H400v160ZM180-400h160v-160H180v160Zm440 0h160v-160H620v160ZM180-180h160v-160H180v160Zm440 0h160v-160H620v160Z\"/>\n",
              "  </svg>\n",
              "    </button>\n",
              "\n",
              "  <style>\n",
              "    .colab-df-container {\n",
              "      display:flex;\n",
              "      gap: 12px;\n",
              "    }\n",
              "\n",
              "    .colab-df-convert {\n",
              "      background-color: #E8F0FE;\n",
              "      border: none;\n",
              "      border-radius: 50%;\n",
              "      cursor: pointer;\n",
              "      display: none;\n",
              "      fill: #1967D2;\n",
              "      height: 32px;\n",
              "      padding: 0 0 0 0;\n",
              "      width: 32px;\n",
              "    }\n",
              "\n",
              "    .colab-df-convert:hover {\n",
              "      background-color: #E2EBFA;\n",
              "      box-shadow: 0px 1px 2px rgba(60, 64, 67, 0.3), 0px 1px 3px 1px rgba(60, 64, 67, 0.15);\n",
              "      fill: #174EA6;\n",
              "    }\n",
              "\n",
              "    .colab-df-buttons div {\n",
              "      margin-bottom: 4px;\n",
              "    }\n",
              "\n",
              "    [theme=dark] .colab-df-convert {\n",
              "      background-color: #3B4455;\n",
              "      fill: #D2E3FC;\n",
              "    }\n",
              "\n",
              "    [theme=dark] .colab-df-convert:hover {\n",
              "      background-color: #434B5C;\n",
              "      box-shadow: 0px 1px 3px 1px rgba(0, 0, 0, 0.15);\n",
              "      filter: drop-shadow(0px 1px 2px rgba(0, 0, 0, 0.3));\n",
              "      fill: #FFFFFF;\n",
              "    }\n",
              "  </style>\n",
              "\n",
              "    <script>\n",
              "      const buttonEl =\n",
              "        document.querySelector('#df-87ef1485-e1f2-498b-9ada-b44048bd1797 button.colab-df-convert');\n",
              "      buttonEl.style.display =\n",
              "        google.colab.kernel.accessAllowed ? 'block' : 'none';\n",
              "\n",
              "      async function convertToInteractive(key) {\n",
              "        const element = document.querySelector('#df-87ef1485-e1f2-498b-9ada-b44048bd1797');\n",
              "        const dataTable =\n",
              "          await google.colab.kernel.invokeFunction('convertToInteractive',\n",
              "                                                    [key], {});\n",
              "        if (!dataTable) return;\n",
              "\n",
              "        const docLinkHtml = 'Like what you see? Visit the ' +\n",
              "          '<a target=\"_blank\" href=https://colab.research.google.com/notebooks/data_table.ipynb>data table notebook</a>'\n",
              "          + ' to learn more about interactive tables.';\n",
              "        element.innerHTML = '';\n",
              "        dataTable['output_type'] = 'display_data';\n",
              "        await google.colab.output.renderOutput(dataTable, element);\n",
              "        const docLink = document.createElement('div');\n",
              "        docLink.innerHTML = docLinkHtml;\n",
              "        element.appendChild(docLink);\n",
              "      }\n",
              "    </script>\n",
              "  </div>\n",
              "\n",
              "\n",
              "    <div id=\"df-cbb661ff-8161-4466-b4e1-ad244451fb4a\">\n",
              "      <button class=\"colab-df-quickchart\" onclick=\"quickchart('df-cbb661ff-8161-4466-b4e1-ad244451fb4a')\"\n",
              "                title=\"Suggest charts\"\n",
              "                style=\"display:none;\">\n",
              "\n",
              "<svg xmlns=\"http://www.w3.org/2000/svg\" height=\"24px\"viewBox=\"0 0 24 24\"\n",
              "     width=\"24px\">\n",
              "    <g>\n",
              "        <path d=\"M19 3H5c-1.1 0-2 .9-2 2v14c0 1.1.9 2 2 2h14c1.1 0 2-.9 2-2V5c0-1.1-.9-2-2-2zM9 17H7v-7h2v7zm4 0h-2V7h2v10zm4 0h-2v-4h2v4z\"/>\n",
              "    </g>\n",
              "</svg>\n",
              "      </button>\n",
              "\n",
              "<style>\n",
              "  .colab-df-quickchart {\n",
              "      --bg-color: #E8F0FE;\n",
              "      --fill-color: #1967D2;\n",
              "      --hover-bg-color: #E2EBFA;\n",
              "      --hover-fill-color: #174EA6;\n",
              "      --disabled-fill-color: #AAA;\n",
              "      --disabled-bg-color: #DDD;\n",
              "  }\n",
              "\n",
              "  [theme=dark] .colab-df-quickchart {\n",
              "      --bg-color: #3B4455;\n",
              "      --fill-color: #D2E3FC;\n",
              "      --hover-bg-color: #434B5C;\n",
              "      --hover-fill-color: #FFFFFF;\n",
              "      --disabled-bg-color: #3B4455;\n",
              "      --disabled-fill-color: #666;\n",
              "  }\n",
              "\n",
              "  .colab-df-quickchart {\n",
              "    background-color: var(--bg-color);\n",
              "    border: none;\n",
              "    border-radius: 50%;\n",
              "    cursor: pointer;\n",
              "    display: none;\n",
              "    fill: var(--fill-color);\n",
              "    height: 32px;\n",
              "    padding: 0;\n",
              "    width: 32px;\n",
              "  }\n",
              "\n",
              "  .colab-df-quickchart:hover {\n",
              "    background-color: var(--hover-bg-color);\n",
              "    box-shadow: 0 1px 2px rgba(60, 64, 67, 0.3), 0 1px 3px 1px rgba(60, 64, 67, 0.15);\n",
              "    fill: var(--button-hover-fill-color);\n",
              "  }\n",
              "\n",
              "  .colab-df-quickchart-complete:disabled,\n",
              "  .colab-df-quickchart-complete:disabled:hover {\n",
              "    background-color: var(--disabled-bg-color);\n",
              "    fill: var(--disabled-fill-color);\n",
              "    box-shadow: none;\n",
              "  }\n",
              "\n",
              "  .colab-df-spinner {\n",
              "    border: 2px solid var(--fill-color);\n",
              "    border-color: transparent;\n",
              "    border-bottom-color: var(--fill-color);\n",
              "    animation:\n",
              "      spin 1s steps(1) infinite;\n",
              "  }\n",
              "\n",
              "  @keyframes spin {\n",
              "    0% {\n",
              "      border-color: transparent;\n",
              "      border-bottom-color: var(--fill-color);\n",
              "      border-left-color: var(--fill-color);\n",
              "    }\n",
              "    20% {\n",
              "      border-color: transparent;\n",
              "      border-left-color: var(--fill-color);\n",
              "      border-top-color: var(--fill-color);\n",
              "    }\n",
              "    30% {\n",
              "      border-color: transparent;\n",
              "      border-left-color: var(--fill-color);\n",
              "      border-top-color: var(--fill-color);\n",
              "      border-right-color: var(--fill-color);\n",
              "    }\n",
              "    40% {\n",
              "      border-color: transparent;\n",
              "      border-right-color: var(--fill-color);\n",
              "      border-top-color: var(--fill-color);\n",
              "    }\n",
              "    60% {\n",
              "      border-color: transparent;\n",
              "      border-right-color: var(--fill-color);\n",
              "    }\n",
              "    80% {\n",
              "      border-color: transparent;\n",
              "      border-right-color: var(--fill-color);\n",
              "      border-bottom-color: var(--fill-color);\n",
              "    }\n",
              "    90% {\n",
              "      border-color: transparent;\n",
              "      border-bottom-color: var(--fill-color);\n",
              "    }\n",
              "  }\n",
              "</style>\n",
              "\n",
              "      <script>\n",
              "        async function quickchart(key) {\n",
              "          const quickchartButtonEl =\n",
              "            document.querySelector('#' + key + ' button');\n",
              "          quickchartButtonEl.disabled = true;  // To prevent multiple clicks.\n",
              "          quickchartButtonEl.classList.add('colab-df-spinner');\n",
              "          try {\n",
              "            const charts = await google.colab.kernel.invokeFunction(\n",
              "                'suggestCharts', [key], {});\n",
              "          } catch (error) {\n",
              "            console.error('Error during call to suggestCharts:', error);\n",
              "          }\n",
              "          quickchartButtonEl.classList.remove('colab-df-spinner');\n",
              "          quickchartButtonEl.classList.add('colab-df-quickchart-complete');\n",
              "        }\n",
              "        (() => {\n",
              "          let quickchartButtonEl =\n",
              "            document.querySelector('#df-cbb661ff-8161-4466-b4e1-ad244451fb4a button');\n",
              "          quickchartButtonEl.style.display =\n",
              "            google.colab.kernel.accessAllowed ? 'block' : 'none';\n",
              "        })();\n",
              "      </script>\n",
              "    </div>\n",
              "\n",
              "  <div id=\"id_4dac4a44-f1b2-4086-a452-73355ca7990c\">\n",
              "    <style>\n",
              "      .colab-df-generate {\n",
              "        background-color: #E8F0FE;\n",
              "        border: none;\n",
              "        border-radius: 50%;\n",
              "        cursor: pointer;\n",
              "        display: none;\n",
              "        fill: #1967D2;\n",
              "        height: 32px;\n",
              "        padding: 0 0 0 0;\n",
              "        width: 32px;\n",
              "      }\n",
              "\n",
              "      .colab-df-generate:hover {\n",
              "        background-color: #E2EBFA;\n",
              "        box-shadow: 0px 1px 2px rgba(60, 64, 67, 0.3), 0px 1px 3px 1px rgba(60, 64, 67, 0.15);\n",
              "        fill: #174EA6;\n",
              "      }\n",
              "\n",
              "      [theme=dark] .colab-df-generate {\n",
              "        background-color: #3B4455;\n",
              "        fill: #D2E3FC;\n",
              "      }\n",
              "\n",
              "      [theme=dark] .colab-df-generate:hover {\n",
              "        background-color: #434B5C;\n",
              "        box-shadow: 0px 1px 3px 1px rgba(0, 0, 0, 0.15);\n",
              "        filter: drop-shadow(0px 1px 2px rgba(0, 0, 0, 0.3));\n",
              "        fill: #FFFFFF;\n",
              "      }\n",
              "    </style>\n",
              "    <button class=\"colab-df-generate\" onclick=\"generateWithVariable('df')\"\n",
              "            title=\"Generate code using this dataframe.\"\n",
              "            style=\"display:none;\">\n",
              "\n",
              "  <svg xmlns=\"http://www.w3.org/2000/svg\" height=\"24px\"viewBox=\"0 0 24 24\"\n",
              "       width=\"24px\">\n",
              "    <path d=\"M7,19H8.4L18.45,9,17,7.55,7,17.6ZM5,21V16.75L18.45,3.32a2,2,0,0,1,2.83,0l1.4,1.43a1.91,1.91,0,0,1,.58,1.4,1.91,1.91,0,0,1-.58,1.4L9.25,21ZM18.45,9,17,7.55Zm-12,3A5.31,5.31,0,0,0,4.9,8.1,5.31,5.31,0,0,0,1,6.5,5.31,5.31,0,0,0,4.9,4.9,5.31,5.31,0,0,0,6.5,1,5.31,5.31,0,0,0,8.1,4.9,5.31,5.31,0,0,0,12,6.5,5.46,5.46,0,0,0,6.5,12Z\"/>\n",
              "  </svg>\n",
              "    </button>\n",
              "    <script>\n",
              "      (() => {\n",
              "      const buttonEl =\n",
              "        document.querySelector('#id_4dac4a44-f1b2-4086-a452-73355ca7990c button.colab-df-generate');\n",
              "      buttonEl.style.display =\n",
              "        google.colab.kernel.accessAllowed ? 'block' : 'none';\n",
              "\n",
              "      buttonEl.onclick = () => {\n",
              "        google.colab.notebook.generateWithVariable('df');\n",
              "      }\n",
              "      })();\n",
              "    </script>\n",
              "  </div>\n",
              "\n",
              "    </div>\n",
              "  </div>\n"
            ],
            "application/vnd.google.colaboratory.intrinsic+json": {
              "type": "dataframe",
              "variable_name": "df",
              "summary": "{\n  \"name\": \"df\",\n  \"rows\": 615,\n  \"fields\": [\n    {\n      \"column\": \"conversation_id_str\",\n      \"properties\": {\n        \"dtype\": \"number\",\n        \"std\": 13117201713958636,\n        \"min\": 1826145551018004666,\n        \"max\": 1921535011078980058,\n        \"num_unique_values\": 289,\n        \"samples\": [\n          1918202363896365554,\n          1919678916584972765,\n          1919715766695559532\n        ],\n        \"semantic_type\": \"\",\n        \"description\": \"\"\n      }\n    },\n    {\n      \"column\": \"created_at\",\n      \"properties\": {\n        \"dtype\": \"object\",\n        \"num_unique_values\": 289,\n        \"samples\": [\n          \"Fri May 02 07:14:16 +0000 2025\",\n          \"Tue May 06 09:01:34 +0000 2025\",\n          \"Tue May 06 11:28:00 +0000 2025\"\n        ],\n        \"semantic_type\": \"\",\n        \"description\": \"\"\n      }\n    },\n    {\n      \"column\": \"favorite_count\",\n      \"properties\": {\n        \"dtype\": \"number\",\n        \"std\": 3418,\n        \"min\": 1,\n        \"max\": 20029,\n        \"num_unique_values\": 340,\n        \"samples\": [\n          331,\n          3917,\n          1015\n        ],\n        \"semantic_type\": \"\",\n        \"description\": \"\"\n      }\n    },\n    {\n      \"column\": \"full_text\",\n      \"properties\": {\n        \"dtype\": \"category\",\n        \"num_unique_values\": 289,\n        \"samples\": [\n          \"POV pas mau bucin tiba tiba ketahuan orang nya https://t.co/uaAcm70z74\",\n          \"A part of ours. huru-hara si bucin omega Nk harem! https://t.co/qUzq5uLRTD\",\n          \"Udah gak ketolong bro bucin banget gue sama manusia ini https://t.co/tZSz7hAM56\"\n        ],\n        \"semantic_type\": \"\",\n        \"description\": \"\"\n      }\n    },\n    {\n      \"column\": \"id_str\",\n      \"properties\": {\n        \"dtype\": \"number\",\n        \"std\": 1021507055953351,\n        \"min\": 1917996575265370519,\n        \"max\": 1921535011078980058,\n        \"num_unique_values\": 289,\n        \"samples\": [\n          1918202363896365554,\n          1919678916584972765,\n          1919715766695559532\n        ],\n        \"semantic_type\": \"\",\n        \"description\": \"\"\n      }\n    },\n    {\n      \"column\": \"image_url\",\n      \"properties\": {\n        \"dtype\": \"category\",\n        \"num_unique_values\": 184,\n        \"samples\": [\n          \"https://pbs.twimg.com/media/GqGz56cXoAAHth-.jpg\",\n          \"https://pbs.twimg.com/media/Gp8_uxiboAAkSEe.jpg\",\n          \"https://pbs.twimg.com/media/GqVR4nOaUAAUwr_.jpg\"\n        ],\n        \"semantic_type\": \"\",\n        \"description\": \"\"\n      }\n    },\n    {\n      \"column\": \"in_reply_to_screen_name\",\n      \"properties\": {\n        \"dtype\": \"category\",\n        \"num_unique_values\": 4,\n        \"samples\": [\n          \"PikamonID\",\n          \"hasya_jmjk\",\n          \"tanyakanrl\"\n        ],\n        \"semantic_type\": \"\",\n        \"description\": \"\"\n      }\n    },\n    {\n      \"column\": \"lang\",\n      \"properties\": {\n        \"dtype\": \"category\",\n        \"num_unique_values\": 8,\n        \"samples\": [\n          \"en\",\n          \"und\",\n          \"in\"\n        ],\n        \"semantic_type\": \"\",\n        \"description\": \"\"\n      }\n    },\n    {\n      \"column\": \"location\",\n      \"properties\": {\n        \"dtype\": \"category\",\n        \"num_unique_values\": 121,\n        \"samples\": [\n          \"bikini bottom\\ud83e\\udee7\\ud83e\\udeb8\\ud83d\\udc1a\",\n          \"MKHC \\u2022 \\ud83c\\udde8\\ud83c\\udde6\\ud83c\\uddf0\\ud83c\\uddf7\",\n          \"Hell, MI\"\n        ],\n        \"semantic_type\": \"\",\n        \"description\": \"\"\n      }\n    },\n    {\n      \"column\": \"quote_count\",\n      \"properties\": {\n        \"dtype\": \"number\",\n        \"std\": 137,\n        \"min\": 0,\n        \"max\": 912,\n        \"num_unique_values\": 70,\n        \"samples\": [\n          18,\n          452,\n          29\n        ],\n        \"semantic_type\": \"\",\n        \"description\": \"\"\n      }\n    },\n    {\n      \"column\": \"reply_count\",\n      \"properties\": {\n        \"dtype\": \"number\",\n        \"std\": 106,\n        \"min\": 0,\n        \"max\": 611,\n        \"num_unique_values\": 68,\n        \"samples\": [\n          316,\n          574,\n          1\n        ],\n        \"semantic_type\": \"\",\n        \"description\": \"\"\n      }\n    },\n    {\n      \"column\": \"retweet_count\",\n      \"properties\": {\n        \"dtype\": \"number\",\n        \"std\": 303,\n        \"min\": 0,\n        \"max\": 1652,\n        \"num_unique_values\": 165,\n        \"samples\": [\n          36,\n          91,\n          127\n        ],\n        \"semantic_type\": \"\",\n        \"description\": \"\"\n      }\n    },\n    {\n      \"column\": \"tweet_url\",\n      \"properties\": {\n        \"dtype\": \"category\",\n        \"num_unique_values\": 289,\n        \"samples\": [\n          \"https://x.com/UnyuKookie/status/1918202363896365554\",\n          \"https://x.com/serpih_debu/status/1919678916584972765\",\n          \"https://x.com/udelaloha/status/1919715766695559532\"\n        ],\n        \"semantic_type\": \"\",\n        \"description\": \"\"\n      }\n    },\n    {\n      \"column\": \"user_id_str\",\n      \"properties\": {\n        \"dtype\": \"number\",\n        \"std\": 582506694132786944,\n        \"min\": 43897705,\n        \"max\": 1915972739703443463,\n        \"num_unique_values\": 209,\n        \"samples\": [\n          1906555551993221120,\n          1748505163189653504,\n          1553779428945465344\n        ],\n        \"semantic_type\": \"\",\n        \"description\": \"\"\n      }\n    },\n    {\n      \"column\": \"username\",\n      \"properties\": {\n        \"dtype\": \"category\",\n        \"num_unique_values\": 209,\n        \"samples\": [\n          \"cheyriesm\",\n          \"winniedepreshit\",\n          \"radotharu\"\n        ],\n        \"semantic_type\": \"\",\n        \"description\": \"\"\n      }\n    }\n  ]\n}"
            }
          },
          "metadata": {},
          "execution_count": 7
        }
      ]
    },
    {
      "cell_type": "markdown",
      "source": [
        "## **1. Scenario 1: No Emoticons/Slang**"
      ],
      "metadata": {
        "id": "pnG9aYhsdd1w"
      }
    },
    {
      "cell_type": "markdown",
      "source": [
        "### **a. Separate the dataset for Scenario 1**"
      ],
      "metadata": {
        "id": "3SpWkfyrdobR"
      }
    },
    {
      "cell_type": "code",
      "source": [
        "df1_no_emoticons = df"
      ],
      "metadata": {
        "id": "88YVaP3IdAaK"
      },
      "execution_count": 8,
      "outputs": []
    },
    {
      "cell_type": "markdown",
      "source": [
        "### **b. Apply preprocessing steps**"
      ],
      "metadata": {
        "id": "l7fNWHPXe4dV"
      }
    },
    {
      "cell_type": "markdown",
      "source": [
        "**1. Clean Text**"
      ],
      "metadata": {
        "id": "IZz17bWdhjeE"
      }
    },
    {
      "cell_type": "code",
      "source": [
        "def clean_text_scenario1(text):\n",
        "  \"\"\"\n",
        "    Clean text by removing URLs, mentions, hashtags, non-alphabetic characters (including emoticons),\n",
        "    and Indonesian slang words.\n",
        "\n",
        "    Args:\n",
        "        text (str): Raw input text.\n",
        "\n",
        "    Returns:\n",
        "        str: Cleaned text with only formal Indonesian/English words.\n",
        "    \"\"\"\n",
        "  if pd.isna(text):  # Handle missing values\n",
        "    return ''\n",
        "\n",
        "  # Remove URLs, mentions (@), and hashtags (#)\n",
        "  text = re.sub(r'http\\S+|@\\w+|#\\w+', '', text)\n",
        "\n",
        "  # Remove ALL non-alphabetic characters (including emoticons and punctuation)\n",
        "  text = re.sub(r'[^a-zA-Z\\s]', '', text)\n",
        "\n",
        "  # Remove common Indonesian slang words\n",
        "  slang_words = ['wkwk', 'bangeet', 'gemess', 'mantul', 'sukab']\n",
        "  for slang in slang_words:\n",
        "    text = re.sub(r'\\b' + slang + r'\\b', '', text)  # \\b ensures whole-word matching\n",
        "\n",
        "  # Normalize whitespace\n",
        "  text = re.sub(r'\\s+', ' ', text).strip()\n",
        "\n",
        "  return text"
      ],
      "metadata": {
        "id": "WlYlXCvOdAXK"
      },
      "execution_count": 11,
      "outputs": []
    },
    {
      "cell_type": "code",
      "source": [
        "df1_no_emoticons['cleaned_text'] = df1_no_emoticons['full_text'].apply(clean_text_scenario1)"
      ],
      "metadata": {
        "id": "GrcNCecDe7lS"
      },
      "execution_count": 13,
      "outputs": []
    },
    {
      "cell_type": "markdown",
      "source": [
        "**2. Case Folding (convert to lower case)**"
      ],
      "metadata": {
        "id": "6quMy9SwdAF6"
      }
    },
    {
      "cell_type": "code",
      "source": [
        "df1_no_emoticons['case_folded'] = df1_no_emoticons['cleaned_text'].str.lower()"
      ],
      "metadata": {
        "id": "nB6OCUqOfNe4"
      },
      "execution_count": 14,
      "outputs": []
    },
    {
      "cell_type": "markdown",
      "source": [
        "**3. Tokenization**"
      ],
      "metadata": {
        "id": "I7_giznIhw2O"
      }
    },
    {
      "cell_type": "code",
      "source": [
        "df1_no_emoticons['tokens'] = df['case_folded'].apply(nltk.word_tokenize)"
      ],
      "metadata": {
        "id": "g1XugyH3fNcZ"
      },
      "execution_count": 15,
      "outputs": []
    },
    {
      "cell_type": "markdown",
      "source": [
        "### **c. Stopword Removal (Indonesian + English + custom)**"
      ],
      "metadata": {
        "id": "rzTKyJ0BmOLp"
      }
    },
    {
      "cell_type": "code",
      "source": [
        "stop_words = set(\n",
        "    stopwords.words('indonesian') +\n",
        "    stopwords.words('english') +\n",
        "    ['dong', 'sih', 'nya', 'lah', 'deh', 'rt']\n",
        ")"
      ],
      "metadata": {
        "id": "tOjwP-oOfNZx"
      },
      "execution_count": 17,
      "outputs": []
    },
    {
      "cell_type": "code",
      "source": [
        "df1_no_emoticons['filtered_tokens'] = df1_no_emoticons['tokens'].apply(\n",
        "    lambda x: [word for word in x if word not in stop_words]\n",
        ")"
      ],
      "metadata": {
        "id": "U5FvDZCkfNXY"
      },
      "execution_count": 18,
      "outputs": []
    },
    {
      "cell_type": "markdown",
      "source": [
        "### **d. Drop unused columns (Twitter metadata)**"
      ],
      "metadata": {
        "id": "52p7Rh4Lm8TB"
      }
    },
    {
      "cell_type": "code",
      "source": [
        "columns_to_drop = [\n",
        "    'conversation_id_str', 'id_str', 'image_url', 'in_reply_to_screen_name',\n",
        "    'location', 'quote_count', 'reply_count', 'tweet_url', 'user_id_str'\n",
        "]\n",
        "df1_no_emoticons.drop(columns=columns_to_drop, inplace=True)"
      ],
      "metadata": {
        "id": "scAGq2PofNS1"
      },
      "execution_count": 19,
      "outputs": []
    },
    {
      "cell_type": "markdown",
      "source": [
        "### **e. Save to CSV**"
      ],
      "metadata": {
        "id": "FYOgiE08nk34"
      }
    },
    {
      "cell_type": "code",
      "source": [
        "df1_no_emoticons.to_csv('preprocessed_scenario1_no_emoticons.csv', index=False)"
      ],
      "metadata": {
        "id": "pgFaBdKrfNQU"
      },
      "execution_count": 21,
      "outputs": []
    },
    {
      "cell_type": "markdown",
      "source": [
        "## **2. Scenario 2: Emoticon-to-Text Conversion**"
      ],
      "metadata": {
        "id": "ZiDlt0fwoQFq"
      }
    },
    {
      "cell_type": "markdown",
      "source": [
        "### **a. Separate the dataset for Scenario 2**"
      ],
      "metadata": {
        "id": "9vz83VauohG3"
      }
    },
    {
      "cell_type": "code",
      "source": [
        "df2_emoticons_to_text = df"
      ],
      "metadata": {
        "id": "gB9d80E7fNN1"
      },
      "execution_count": 72,
      "outputs": []
    },
    {
      "cell_type": "markdown",
      "source": [
        "### **b. Apply preprocessing pipeline**"
      ],
      "metadata": {
        "id": "2FjqHIsBo84T"
      }
    },
    {
      "cell_type": "markdown",
      "source": [
        "**1. Clean and convert emoticons**"
      ],
      "metadata": {
        "id": "2PRNjjDlpK7B"
      }
    },
    {
      "cell_type": "code",
      "source": [
        "def emoticon_to_text(text):\n",
        "    \"\"\"\n",
        "    Convert emoticons to their text descriptions enclosed in square brackets.\n",
        "    Example: 😡 → [angry face], 🎉 → [party popper].\n",
        "\n",
        "    Args:\n",
        "        text (str): Raw input text containing emoticons.\n",
        "\n",
        "    Returns:\n",
        "        str: Text with emoticons replaced by descriptive labels.\n",
        "    \"\"\"\n",
        "    return emoji.demojize(text, delimiters=(' [', '] '))  # 😡 → [angry face]"
      ],
      "metadata": {
        "id": "oTUwsOQ2fNLj"
      },
      "execution_count": 73,
      "outputs": []
    },
    {
      "cell_type": "code",
      "source": [
        "def clean_text_scenario2(text):\n",
        "    \"\"\"\n",
        "    Clean text while preserving converted emoticons (as [description]) and slang.\n",
        "\n",
        "    Args:\n",
        "        text (str): Raw input text.\n",
        "\n",
        "    Returns:\n",
        "        str: Cleaned text with URLs/mentions removed, emoticons converted, and slang retained.\n",
        "    \"\"\"\n",
        "    if pd.isna(text):\n",
        "        return ''\n",
        "\n",
        "    # Step 1: Convert emoticons to text descriptions\n",
        "    text = emoticon_to_text(text)\n",
        "\n",
        "    # Step 2: Remove URLs, mentions, and hashtags\n",
        "    text = re.sub(r'http\\S+|@\\w+|#\\w+', '', text)\n",
        "\n",
        "    # Step 3: Remove special characters EXCEPT those inside [] (emoticon labels)\n",
        "    text = re.sub(r'[^\\w\\s\\[\\]]', '', text)\n",
        "\n",
        "    # Step 4: Normalize whitespace\n",
        "    text = re.sub(r'\\s+', ' ', text).strip()\n",
        "\n",
        "    return text"
      ],
      "metadata": {
        "id": "AnWa7a-EfNJM"
      },
      "execution_count": 74,
      "outputs": []
    },
    {
      "cell_type": "code",
      "source": [
        "df2_emoticons_to_text['cleaned_text'] = df2_emoticons_to_text['full_text'].apply(clean_text_scenario2)"
      ],
      "metadata": {
        "id": "qO6pjpwcfNG6"
      },
      "execution_count": 75,
      "outputs": []
    },
    {
      "cell_type": "markdown",
      "source": [
        "**2. Case Folding**"
      ],
      "metadata": {
        "id": "q5H_YWVKpUUc"
      }
    },
    {
      "cell_type": "code",
      "source": [
        "df2_emoticons_to_text['case_folded'] = df2_emoticons_to_text['cleaned_text'].str.lower()"
      ],
      "metadata": {
        "id": "j1L9KiUsfNEi"
      },
      "execution_count": 76,
      "outputs": []
    },
    {
      "cell_type": "markdown",
      "source": [
        "**3. Tokenization**"
      ],
      "metadata": {
        "id": "cb5IsqLGqU-_"
      }
    },
    {
      "cell_type": "code",
      "source": [
        "df2_emoticons_to_text['tokens'] = df2_emoticons_to_text['case_folded'].apply(nltk.word_tokenize)"
      ],
      "metadata": {
        "id": "BjxUas4mfNCO"
      },
      "execution_count": 77,
      "outputs": []
    },
    {
      "cell_type": "markdown",
      "source": [
        "### **c. Stopword removal (retain slang and emoticon labels)**\n"
      ],
      "metadata": {
        "id": "SkSGVwWcq0UX"
      }
    },
    {
      "cell_type": "code",
      "source": [
        "stop_worrds = set(\n",
        "    stopwords.words('indonesian') +\n",
        "    stopwords.words('english') +\n",
        "    ['dong', 'sih', 'nya', 'lah', 'deh', 'rt']\n",
        ")\n",
        "\n",
        "df2_emoticons_to_text['filtered_tokens'] = df2_emoticons_to_text['tokens'].apply(\n",
        "    lambda x: [word for word in x if word not in stop_words]\n",
        ")"
      ],
      "metadata": {
        "id": "NdKX4xJqfM_c"
      },
      "execution_count": 78,
      "outputs": []
    },
    {
      "cell_type": "markdown",
      "source": [
        "### **d. Stemming (skip words inside [ ] to preserve emoticon labels)**"
      ],
      "metadata": {
        "id": "-kSTYPmisRbn"
      }
    },
    {
      "cell_type": "code",
      "source": [
        "def stem_with_preservation(tokens):\n",
        "  \"\"\"\n",
        "    Apply stemming while preserving emoticon labels (enclosed in []).\n",
        "\n",
        "    Args:\n",
        "        tokens (list): List of tokenized words.\n",
        "\n",
        "    Returns:\n",
        "        list: Tokens with stemming applied, except to emoticon labels.\n",
        "  \"\"\"\n",
        "  # Initialize the stemmer object here inside the function\n",
        "  factory = StemmerFactory()\n",
        "  stemmer = factory.create_stemmer()\n",
        "\n",
        "  return[\n",
        "      stemmer.stem(word) if not word.startswith('[') else word for word in tokens\n",
        "  ]\n",
        "\n",
        "df2_emoticons_to_text['stemmed_tokens'] = df2_emoticons_to_text['filtered_tokens'].swifter.apply(stem_with_preservation)"
      ],
      "metadata": {
        "colab": {
          "base_uri": "https://localhost:8080/",
          "height": 49,
          "referenced_widgets": [
            "9f3fc5a2de2e4055a93f7764e5ecbbd3",
            "63b2556ac8a44fabaaac78cb45547f38",
            "674737a8675e4cb5bfe04db3ed5a7ebb",
            "8afe0f84befc4b67a7e96f7a02426558",
            "c2f7bfaa179f4cbeaf68c0189bc54a26",
            "3e25c1b1a7d349cfbbff9d66abfb60fc",
            "c2fbd758b9b6409085e5235a5b2979f7",
            "97c5814d8f4646c18db9637ed0aec8c2",
            "8e2114453c48464bbf7f0e7b30e935ec",
            "12dc5ddd71954b4794540987854f171a",
            "7b3dfd17930d4ea7875ed67d633a110b"
          ]
        },
        "id": "MDfrPRS7qsbT",
        "outputId": "4ab3479c-cac0-46b0-ab54-dc7776cb00a9"
      },
      "execution_count": 79,
      "outputs": [
        {
          "output_type": "display_data",
          "data": {
            "text/plain": [
              "Pandas Apply:   0%|          | 0/615 [00:00<?, ?it/s]"
            ],
            "application/vnd.jupyter.widget-view+json": {
              "version_major": 2,
              "version_minor": 0,
              "model_id": "9f3fc5a2de2e4055a93f7764e5ecbbd3"
            }
          },
          "metadata": {}
        }
      ]
    },
    {
      "cell_type": "markdown",
      "source": [
        "### **e. Drop unused columns (Twitter metadata)**"
      ],
      "metadata": {
        "id": "XnLtNHeBt35z"
      }
    },
    {
      "source": [
        "columns_to_drop = [\n",
        "    'conversation_id_str', 'id_str', 'image_url', 'in_reply_to_screen_name',\n",
        "    'location', 'quote_count', 'reply_count', 'tweet_url', 'user_id_str'\n",
        "]\n",
        "\n",
        "# Check which columns in columns_to_drop are actually present in the DataFrame\n",
        "existing_columns = [col for col in columns_to_drop if col in df2_emoticons_to_text.columns]\n",
        "\n",
        "# Drop only the existing columns\n",
        "df2_emoticons_to_text.drop(columns=existing_columns, inplace=True)"
      ],
      "cell_type": "code",
      "metadata": {
        "id": "bSAd7hjxv9ew"
      },
      "execution_count": 80,
      "outputs": []
    },
    {
      "cell_type": "markdown",
      "source": [
        "### **f. Save preprocessed data for scenario 2**"
      ],
      "metadata": {
        "id": "PaS_KidpuEYj"
      }
    },
    {
      "cell_type": "code",
      "source": [
        "df2_emoticons_to_text.to_csv('preprocessed_scenario2_emoticons_to_text.csv', index=False)"
      ],
      "metadata": {
        "id": "jf0uMsu7qsZH"
      },
      "execution_count": 81,
      "outputs": []
    },
    {
      "cell_type": "markdown",
      "source": [
        "## **3. Scenario 3: Preserve Emoticons & Slang**"
      ],
      "metadata": {
        "id": "YgD8lXyYJKQZ"
      }
    },
    {
      "cell_type": "markdown",
      "source": [
        "### **a. Separate the dataset for Scenario 3**"
      ],
      "metadata": {
        "id": "Piy-1sB9JaxR"
      }
    },
    {
      "cell_type": "code",
      "source": [
        "df3 = df"
      ],
      "metadata": {
        "id": "NvmKOvnQqsWq"
      },
      "execution_count": 82,
      "outputs": []
    },
    {
      "cell_type": "markdown",
      "source": [
        "### **b. Apply Preprocessing**"
      ],
      "metadata": {
        "id": "FdHUoEXyJxO8"
      }
    },
    {
      "cell_type": "markdown",
      "source": [
        "**1. Cleaning the text**"
      ],
      "metadata": {
        "id": "8DHfFrOuJ4pP"
      }
    },
    {
      "cell_type": "code",
      "source": [
        "def clean_text_scenario3(text):\n",
        "    \"\"\"\n",
        "    Clean text while preserving emoticons, slang, and hashtags (converted to plain words).\n",
        "    Only removes URLs and mentions (@).\n",
        "\n",
        "    Args:\n",
        "        text (str): Raw input text.\n",
        "\n",
        "    Returns:\n",
        "        str: Text with URLs/mentions removed, hashtags converted, and emoticons/slang retained.\n",
        "    \"\"\"\n",
        "    if pd.isna(text):\n",
        "        return ''\n",
        "\n",
        "    # Remove URLs and mentions (@)\n",
        "    text = re.sub(r'http\\S+|@\\w+', '', text)\n",
        "\n",
        "    # Convert hashtags to plain words (e.g., #GoodDay → GoodDay)\n",
        "    text = re.sub(r'#(\\w+)', r'\\1', text)\n",
        "\n",
        "    # Normalize whitespace (preserve emoticons/slang)\n",
        "    text = re.sub(r'\\s+', ' ', text).strip()\n",
        "\n",
        "    return text"
      ],
      "metadata": {
        "id": "WktI1ONMqsUc"
      },
      "execution_count": 83,
      "outputs": []
    },
    {
      "cell_type": "code",
      "source": [
        "df3['cleaned_text'] = df3['full_text'].apply(clean_text_scenario3)"
      ],
      "metadata": {
        "id": "aPZ1yesXqsSb"
      },
      "execution_count": 84,
      "outputs": []
    },
    {
      "cell_type": "markdown",
      "source": [
        "**2. Case Folding**"
      ],
      "metadata": {
        "id": "3qQyBiiBKOLu"
      }
    },
    {
      "cell_type": "code",
      "source": [
        "df3['case_folded'] = df['cleaned_text'].str.lower()"
      ],
      "metadata": {
        "id": "8BM7NuL8qsPz"
      },
      "execution_count": 85,
      "outputs": []
    },
    {
      "cell_type": "markdown",
      "source": [
        "**3. Tokenizing**"
      ],
      "metadata": {
        "id": "yKiv4v32KcLk"
      }
    },
    {
      "cell_type": "code",
      "source": [
        "def tokenize_with_emoticons(text):\n",
        "    \"\"\"\n",
        "    Tokenize text while separating emoticons/special characters.\n",
        "    Example: \"Hello😡\" → [\"Hello\", \"😡\"].\n",
        "\n",
        "    Args:\n",
        "        text (str): Case-folded text.\n",
        "\n",
        "    Returns:\n",
        "        list: Tokenized words and emoticons.\n",
        "    \"\"\"\n",
        "    # Add spaces around non-word characters (emoticons, punctuation)\n",
        "    text = re.sub(r'(\\W)', r' \\1 ', text)\n",
        "    return nltk.word_tokenize(text)"
      ],
      "metadata": {
        "id": "B5szksQXqsNi"
      },
      "execution_count": 86,
      "outputs": []
    },
    {
      "cell_type": "code",
      "source": [
        "df3['tokens'] = df3['case_folded'].apply(tokenize_with_emoticons)"
      ],
      "metadata": {
        "id": "DHYB8mehqsLS"
      },
      "execution_count": 87,
      "outputs": []
    },
    {
      "cell_type": "markdown",
      "source": [
        "**4. Stopword Removal**"
      ],
      "metadata": {
        "id": "QhGFWvGXKw-q"
      }
    },
    {
      "cell_type": "code",
      "source": [
        "# Stopword removal (preserve emoticons and common slang)\n",
        "emoticons_slang = {':)', ':(', '😡', '🎉', 'wkwk', 'bangeet'}\n",
        "emoticons_slang.update(['💀', 'mantul', 'sukab'])"
      ],
      "metadata": {
        "id": "JNVqdjQUqsJC"
      },
      "execution_count": 88,
      "outputs": []
    },
    {
      "cell_type": "code",
      "source": [
        "# Extend as needed\n",
        "stop_words = set(\n",
        "    stopwords.words('indonesian') +\n",
        "    stopwords.words('english') +\n",
        "    ['dong', 'sih', 'nya', 'lah', 'deh', 'rt'] +\n",
        "    list(emoticons_slang)\n",
        ")\n",
        "\n",
        "df3['filtered_tokens'] = df3['tokens'].apply(\n",
        "    lambda x: [word for word in x if word not in stop_words or word in emoticons_slang]\n",
        ")"
      ],
      "metadata": {
        "id": "8xZgk7IbLNDS"
      },
      "execution_count": 89,
      "outputs": []
    },
    {
      "cell_type": "markdown",
      "source": [
        "**5. Stemming (skip emoticons/slang)**\n"
      ],
      "metadata": {
        "id": "oIaTeS0yLsmH"
      }
    },
    {
      "cell_type": "code",
      "source": [
        "def stem_skip_emoticons(tokens):\n",
        "  \"\"\"\n",
        "    Apply stemming only to alphabetic words (skip emoticons/slang).\n",
        "\n",
        "    Args:\n",
        "        tokens (list): Tokenized words/emoticons.\n",
        "\n",
        "    Returns:\n",
        "        list: Stemmed tokens with emoticons/slang unchanged.\n",
        "    \"\"\"\n",
        "  factory = StemmerFactory()\n",
        "  stemmer = factory.create_stemmer()\n",
        "\n",
        "  return [\n",
        "      stemmer.stem(word) if word.isalpha() else word for word in tokens\n",
        "  ]\n",
        "\n",
        "df3['stemmed_tokens'] = df3['filtered_tokens'].swifter.apply(stem_skip_emoticons)"
      ],
      "metadata": {
        "colab": {
          "base_uri": "https://localhost:8080/",
          "height": 49,
          "referenced_widgets": [
            "59f22baff83f40fea25a061992a3054e",
            "d2711d96bf864d1b9198ceaceda2863c",
            "c6fedf1f91574b80b79f5ba1dc5e51b0",
            "86a7486e25f94e54a91863a339b4fe8e",
            "0bd7e8f2f6ca40a0b3ea9dd43eb8ad26",
            "25a026b43d074a719741ce40d4bbb115",
            "7f15a171322d496da09a1df3ac256ba2",
            "b8dd5dc234654325ab5f4be274329899",
            "8ebf613bb75046bdac2cef3c2eba9757",
            "065740609ab34530856b6795f13270ee",
            "725cdea18ea54001ba2a8c15054e4269"
          ]
        },
        "id": "IAATtIn-LOZO",
        "outputId": "615c8972-61e7-4235-a11e-a8138f1d6b1f"
      },
      "execution_count": 90,
      "outputs": [
        {
          "output_type": "display_data",
          "data": {
            "text/plain": [
              "Pandas Apply:   0%|          | 0/615 [00:00<?, ?it/s]"
            ],
            "application/vnd.jupyter.widget-view+json": {
              "version_major": 2,
              "version_minor": 0,
              "model_id": "59f22baff83f40fea25a061992a3054e"
            }
          },
          "metadata": {}
        }
      ]
    },
    {
      "cell_type": "markdown",
      "source": [
        "### **c. Drop unused columns (same as Scenarios 1/2)**"
      ],
      "metadata": {
        "id": "TanMIxmzMr-h"
      }
    },
    {
      "source": [
        "columns_to_drop = [\n",
        "    'conversation_id_str', 'id_str', 'image_url', 'in_reply_to_screen_name',\n",
        "    'location', 'quote_count', 'reply_count', 'tweet_url', 'user_id_str'\n",
        "]\n",
        "\n",
        "# Check which columns in columns_to_drop are actually present in the DataFrame\n",
        "existing_columns = [col for col in columns_to_drop if col in df3.columns]\n",
        "\n",
        "# Drop only the existing columns\n",
        "df3.drop(columns=existing_columns, inplace=True)"
      ],
      "cell_type": "code",
      "metadata": {
        "id": "Y82auNahQvxj"
      },
      "execution_count": 91,
      "outputs": []
    },
    {
      "cell_type": "markdown",
      "source": [
        "### **d. Save preprocessed data**"
      ],
      "metadata": {
        "id": "YC8mkN7YM52r"
      }
    },
    {
      "cell_type": "code",
      "source": [
        "df3.to_csv('preprocessed_scenario3_preserve_emoticons_slang.csv', index=False)"
      ],
      "metadata": {
        "id": "QkeW_lIHLOUh"
      },
      "execution_count": 92,
      "outputs": []
    },
    {
      "cell_type": "markdown",
      "source": [
        "## **Visualization of the comparison of the three scenarios**"
      ],
      "metadata": {
        "id": "ar35ZRglS3kO"
      }
    },
    {
      "cell_type": "code",
      "source": [
        "import matplotlib.pyplot as plt\n",
        "import seaborn as sns # for enhanced styling"
      ],
      "metadata": {
        "id": "N7o5htvsLOSB"
      },
      "execution_count": 94,
      "outputs": []
    },
    {
      "cell_type": "code",
      "source": [
        "# Calculate mean text length after preprocessing for each scenario\n",
        "scenarios = ['Scenario 1', 'Scenario 2', 'Scenario 3']\n",
        "lengths = [\n",
        "    df1_no_emoticons['cleaned_text'].str.len().mean(), # Formal text (no emoticons/slang)\n",
        "    df2_emoticons_to_text['cleaned_text'].str.len().mean(), # Emoticons converted to text, added () to call the function\n",
        "    df3['cleaned_text'].str.len().mean()\n",
        "]\n",
        "\n",
        "# Customize plot style\n",
        "sns.set_style('whitegrid')\n",
        "plt.figure(figsize=(10, 6))\n",
        "\n",
        "# Create bar plot with annotations\n",
        "ax = sns.barplot(x=scenarios, y=lengths, palette='Blues_d')\n",
        "\n",
        "# Add title and labels\n",
        "plt.title('Average Text Length after Preprocessing', fontsize=14, pad=20)\n",
        "plt.xlabel('Preprocessing Scenario', fontsize=12)\n",
        "plt.ylabel('Mean Character Count', fontsize=12)\n",
        "\n",
        "# Add value labels on top of bars\n",
        "for i, length in enumerate(lengths):\n",
        "  ax.text(i, length + 0.55, f'{length:.1f}', ha='center', va='bottom', fontsize=10)\n",
        "\n",
        "# Hightlight key insight (optional)\n",
        "plt.annotate(\n",
        "    \"Longer text in Scenario 3 due to preserved emoticons/slang\",\n",
        "    xy=(2, lengths[2]), xytext=(2, lengths[2] + 5),\n",
        "    ha='center', va='bottom', fontsize=10,\n",
        "    arrowprops=dict(facecolor='red', shrink=0.05)\n",
        ")\n",
        "\n",
        "plt.tight_layout()\n",
        "plt.show()"
      ],
      "metadata": {
        "colab": {
          "base_uri": "https://localhost:8080/",
          "height": 498
        },
        "id": "gy-bz0xpLOPZ",
        "outputId": "f1eff0e7-4078-4730-c142-9c540b4d71ae"
      },
      "execution_count": 97,
      "outputs": [
        {
          "output_type": "display_data",
          "data": {
            "text/plain": [
              "<Figure size 1000x600 with 1 Axes>"
            ],
            "image/png": "[encoded data removed]"
          },
          "metadata": {}
        }
      ]
    }
  ]
}