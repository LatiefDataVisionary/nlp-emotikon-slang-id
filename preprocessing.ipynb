{
  "nbformat": 4,
  "nbformat_minor": 0,
  "metadata": {
    "colab": {
      "provenance": [],
      "authorship_tag": "ABX9TyNiapxrqnVESTajJO4k8K9+",
      "include_colab_link": true
    },
    "kernelspec": {
      "name": "python3",
      "display_name": "Python 3"
    },
    "language_info": {
      "name": "python"
    }
  },
  "cells": [
    {
      "cell_type": "markdown",
      "metadata": {
        "id": "view-in-github",
        "colab_type": "text"
      },
      "source": [
        "<a href=\"https://colab.research.google.com/github/LatiefDataVisionary/nlp-emotikon-slang-id/blob/main/preprocessing.ipynb\" target=\"_parent\"><img src=\"https://colab.research.google.com/assets/colab-badge.svg\" alt=\"Open In Colab\"/></a>"
      ]
    },
    {
      "cell_type": "code",
      "source": [
        "!pip install Sastrawi"
      ],
      "metadata": {
        "colab": {
          "base_uri": "https://localhost:8080/"
        },
        "id": "KkgWUuvjsdKG",
        "outputId": "9b91e517-222c-416a-e558-140c4de1d874"
      },
      "execution_count": 13,
      "outputs": [
        {
          "output_type": "stream",
          "name": "stdout",
          "text": [
            "Requirement already satisfied: Sastrawi in /usr/local/lib/python3.11/dist-packages (1.0.1)\n"
          ]
        }
      ]
    },
    {
      "cell_type": "code",
      "execution_count": 15,
      "metadata": {
        "id": "oCU5gsaZoDIm"
      },
      "outputs": [],
      "source": [
        "import pandas as pd\n",
        "import re\n",
        "import nltk\n",
        "from nltk.corpus import stopwords\n",
        "from Sastrawi.Stemmer.StemmerFactory import StemmerFactory"
      ]
    },
    {
      "cell_type": "markdown",
      "source": [
        "Download NLTK resources"
      ],
      "metadata": {
        "id": "6P-BdYbnotHw"
      }
    },
    {
      "cell_type": "code",
      "source": [
        "nltk.download('punkt') # Tokenizer models\n",
        "nltk.download('stopwords') # Stopwords for Indonesian and English"
      ],
      "metadata": {
        "colab": {
          "base_uri": "https://localhost:8080/"
        },
        "id": "F-cWA9rBosTG",
        "outputId": "03f6ffa4-b936-41e3-e8a3-f1118d289d66"
      },
      "execution_count": 16,
      "outputs": [
        {
          "output_type": "stream",
          "name": "stderr",
          "text": [
            "[nltk_data] Downloading package punkt to /root/nltk_data...\n",
            "[nltk_data]   Unzipping tokenizers/punkt.zip.\n",
            "[nltk_data] Downloading package stopwords to /root/nltk_data...\n",
            "[nltk_data]   Unzipping corpora/stopwords.zip.\n"
          ]
        },
        {
          "output_type": "execute_result",
          "data": {
            "text/plain": [
              "True"
            ]
          },
          "metadata": {},
          "execution_count": 16
        }
      ]
    },
    {
      "cell_type": "markdown",
      "source": [
        "Load the dataset"
      ],
      "metadata": {
        "id": "OxqV9ikhpBIn"
      }
    },
    {
      "cell_type": "code",
      "source": [
        "df = pd.read_csv('https://raw.githubusercontent.com/LatiefDataVisionary/nlp-emotikon-slang-id/refs/heads/main/data/raw_merged/merged_bucin_tweet.csv')"
      ],
      "metadata": {
        "id": "s8R2Po02o_As"
      },
      "execution_count": null,
      "outputs": []
    },
    {
      "cell_type": "markdown",
      "source": [
        "1. Cleaning"
      ],
      "metadata": {
        "id": "4haXuOUwpUlg"
      }
    },
    {
      "cell_type": "code",
      "source": [
        "def clean_text(text):\n",
        "  if pd.isna(text):  # Handle missing values\n",
        "    return ''\n",
        "  # Remove URLs\n",
        "  text = re.sub(r'http\\S+', '', text)\n",
        "  # Remove mentions (@) and hashtags (#)\n",
        "  text = re.sub(r'@\\w+|#\\w+', '', text)\n",
        "  # Remove special characters, numbers, and emojis\n",
        "  text = re.sub(r'[^a-zA-Z\\s]', '', text)\n",
        "  # Remove extra whitespace\n",
        "  text = re.sub(r'\\s+', ' ', text).strip()\n",
        "  return text\n",
        "\n",
        "  # Apply cleaning to the text ccolumn (replace 'tweet' with your column name)\n",
        "  df['cleaned_text'] = df['tweet'].apply(clean_text)"
      ],
      "metadata": {
        "id": "mIu7qt_npZGO"
      },
      "execution_count": null,
      "outputs": []
    },
    {
      "cell_type": "markdown",
      "source": [
        "2. Case Folding (convert to lowercase)"
      ],
      "metadata": {
        "id": "ABLsApuApVBe"
      }
    },
    {
      "cell_type": "code",
      "source": [
        "df['case_folded'] = df['cleaned_text'].str.lower()"
      ],
      "metadata": {
        "id": "Py1scIE5pTj9"
      },
      "execution_count": null,
      "outputs": []
    },
    {
      "cell_type": "markdown",
      "source": [
        "3. Tokenizing (split text into words)"
      ],
      "metadata": {
        "id": "6ZB3fWnapVvl"
      }
    },
    {
      "cell_type": "code",
      "source": [],
      "metadata": {
        "id": "ISPXCcKYpUNd"
      },
      "execution_count": null,
      "outputs": []
    },
    {
      "cell_type": "markdown",
      "source": [],
      "metadata": {
        "id": "rBfoxM_wpWFF"
      }
    },
    {
      "cell_type": "code",
      "source": [],
      "metadata": {
        "id": "sKt-zf56pULG"
      },
      "execution_count": null,
      "outputs": []
    },
    {
      "cell_type": "code",
      "source": [],
      "metadata": {
        "id": "XJWCfPQxpUIR"
      },
      "execution_count": null,
      "outputs": []
    }
  ]
}